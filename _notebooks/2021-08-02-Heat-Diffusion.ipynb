{
 "cells": [
  {
   "cell_type": "markdown",
   "id": "checked-elizabeth",
   "metadata": {},
   "source": [
    "# Heat diffusion \n",
    "\n",
    "- toc:false\n",
    "- branch: master\n",
    "- badges: true\n",
    "- comments: false\n",
    "- categories: [mathematics, numerical recipes]\n",
    "- hide: true"
   ]
  },
  {
   "cell_type": "markdown",
   "id": "difficult-rapid",
   "metadata": {},
   "source": [
    "-----\n",
    "Questions:\n",
    "- How do I combine the finite difference method and Euler methods to solve the heat diffusion equation? \n",
    "\n",
    "Objectives:\n",
    "- Apply the finite difference method and the Euler method to solve theat heat diffusion equation\n",
    "\n",
    "-----"
   ]
  },
  {
   "cell_type": "markdown",
   "id": "public-horror",
   "metadata": {},
   "source": [
    "---\n",
    "Keypoints:\n",
    "\n"
   ]
  },
  {
   "cell_type": "markdown",
   "id": "special-table",
   "metadata": {},
   "source": [
    "---\n",
    "\n",
    "Do [the quick-test](https://nu-cem.github.io/CompPhys/2021/08/02/Heat-Diffusion-Qs.html).\n",
    "\n",
    "Back to [Modelling with Partial Differential Equations](https://nu-cem.github.io/CompPhys/2021/08/02/PDEs.html).\n",
    "\n",
    "---"
   ]
  }
 ],
 "metadata": {
  "kernelspec": {
   "display_name": "Python 3 (ipykernel)",
   "language": "python",
   "name": "python3"
  },
  "language_info": {
   "codemirror_mode": {
    "name": "ipython",
    "version": 3
   },
   "file_extension": ".py",
   "mimetype": "text/x-python",
   "name": "python",
   "nbconvert_exporter": "python",
   "pygments_lexer": "ipython3",
   "version": "3.9.6"
  }
 },
 "nbformat": 4,
 "nbformat_minor": 5
}
