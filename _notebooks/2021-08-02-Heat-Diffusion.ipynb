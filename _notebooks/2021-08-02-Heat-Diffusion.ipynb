{
 "cells": [
  {
   "cell_type": "markdown",
   "id": "breathing-major",
   "metadata": {},
   "source": [
    "# Heat diffusion \n",
    "\n",
    "- toc:false\n",
    "- branch: master\n",
    "- badges: true\n",
    "- comments: false\n",
    "- categories: [mathematics, numerical recipes]\n",
    "- hide: true"
   ]
  },
  {
   "cell_type": "markdown",
   "id": "sudden-range",
   "metadata": {},
   "source": [
    "-----\n",
    "Questions:\n",
    "- How do I combine the finite difference method and Euler methods to solve the diffusion equation? \n",
    "\n",
    "Objectives:\n",
    "- Apply the finite difference method and the Euler method to solve theat heat diffusion equation\n",
    "\n",
    "-----"
   ]
  },
  {
   "cell_type": "markdown",
   "id": "deluxe-recognition",
   "metadata": {},
   "source": [
    "### The diffusion equation is an initial value problem\n",
    "\n",
    "In the previous section we solved a boundary value problem in the form of Laplace's equation. In this section we will look at an initial value problem, which is a more complex type of PDE. An initial value problem is more complex as we are told the starting conditions and then have to predict future behaviour as a function of time.\n",
    "\n",
    "The example we will use is the one-dimensional diffusion equation:\n",
    "\n",
    "\\begin{equation}\n",
    " \\frac{\\partial \\phi}{\\partial t} = D\\frac{\\partial^2 \\phi}{\\partial x^2}\n",
    "\\end{equation}\n",
    "\n",
    "In this case we have a variable $\\phi(x,t)$ that depends on position $x$ and time $t$ - so can we not solve it in the same way as finding the $\\phi(x,y)$ Laplace's equation, which also had two independent variables?\n",
    "\n",
    "The problem is that we  only have an *initial* condition in the time dimension - we know the value of $\\phi(x,t)$ at $t=0$ but we do not typically know the value of $t$ at a later point. In the spatial dimensions we know the boundary conditions at either end of the grid.\n",
    "\n",
    "Instead, we will use the <mark>Forward-Time Centred-Space method (FTCS)</mark>.\n",
    "\n",
    "### There are two steps to the FTCS method\n",
    "\n",
    "#### Step one\n",
    "Use the finite difference method to express the Laplacian as a set of simulatenous equations:\n",
    "\n",
    "where $a$ is the grid spacing.\n",
    "\n",
    "Substitute this back into the diffusion equation:\n",
    "\n",
    "#### Step two\n",
    "We now have a set of simultaneous ODEs for $\\phi(x,t)$. So we can use Euler's method to evolve the system forward in time. Euler's method has the general form:\n",
    "\n",
    "\\begin{equation}\n",
    "\\phi(t+h) \\simeq \\phi(t) + hf(\\phi, t).\n",
    "\\end{equation}\n",
    "\n",
    "Applying this to Equation X gives:\n",
    "\n",
    "\n",
    "\n"
   ]
  },
  {
   "cell_type": "markdown",
   "id": "aggressive-layout",
   "metadata": {},
   "source": [
    "### The FTCS can be applied using the Python skills we have developed"
   ]
  },
  {
   "cell_type": "markdown",
   "id": "departmental-reward",
   "metadata": {},
   "source": [
    "Consider a 10cm rod of stainless steel initially at a uniform temperature of 20$\\degrees$ Celsius. The rod is dipped in a hot water bath at 90$\\degrees$ Celsius at one end, and held in someone's hand at the other. Assume that the hand is at constant body temperature throughout (27$\\degrees$ Celsius).\n",
    "\n",
    "The proble can be represented visually as follows:\n",
    "\n",
    "Our goal is to calculate the temperature profile of the steel as a function of distance $x$ from the cold side to the hot side, and as a function of time. For simplicity let us assume that the rod is perfectly insulated so that heat only moves horizontally; as a result this problem can be modelled as 1-dimensional. Also assume that neighter the hot water bath or the hand change temperature appreciably.\n",
    "\n",
    "Thermal conduction is described by the diffusion equation (or heat equation in this context)\n",
    "\n",
    "\\begin{equation}\n",
    " \\frac{\\partial \\phi}{\\partial t} = D\\frac{\\partial^2 \\phi}{\\partial x^2},\n",
    "\\end{equation}\n",
    "\n",
    "where $D$ is the material dependent thermal diffusivity. For steel $D=4.25\\times10^{-6}\\mathrm{m}^2\\mathrm{s}^{-1}$."
   ]
  },
  {
   "cell_type": "markdown",
   "id": "southwest-russell",
   "metadata": {},
   "source": [
    "First, let's import the libraries we will be using"
   ]
  },
  {
   "cell_type": "code",
   "execution_count": 1,
   "id": "automated-visiting",
   "metadata": {},
   "outputs": [],
   "source": [
    "import numpy as np\n",
    "import matplotlib.pyplot as plt"
   ]
  },
  {
   "cell_type": "markdown",
   "id": "weird-encounter",
   "metadata": {},
   "source": [
    "Now let's fix some of the constants in the problem"
   ]
  },
  {
   "cell_type": "code",
   "execution_count": 2,
   "id": "appropriate-needle",
   "metadata": {},
   "outputs": [],
   "source": [
    "L = 0.01 # width of the rod in metres\n",
    "D = 4.25e-6 # thermal diffusivity of  steel"
   ]
  },
  {
   "cell_type": "markdown",
   "id": "meaningful-prince",
   "metadata": {},
   "source": [
    "And some of the numerical parameters:"
   ]
  },
  {
   "cell_type": "code",
   "execution_count": 3,
   "id": "crude-dress",
   "metadata": {},
   "outputs": [],
   "source": [
    "N = 100 # number of divisions in the grid\n",
    "a = L/N # grid spacing\n",
    "h = 1e-4 # time step"
   ]
  },
  {
   "cell_type": "markdown",
   "id": "major-punishment",
   "metadata": {},
   "source": [
    "Let's specify the boundary conditions and the initial condition"
   ]
  },
  {
   "cell_type": "code",
   "execution_count": 18,
   "id": "massive-memorial",
   "metadata": {},
   "outputs": [],
   "source": [
    "T_left = 0.0  # temperature fixed on left side of rod\n",
    "T_right = 50.0 # temperature fixed on right side of rod\n",
    "T_middle = 20.0 # temperature of rod at the beginning"
   ]
  },
  {
   "cell_type": "markdown",
   "id": "compound-geometry",
   "metadata": {},
   "source": [
    "And now create an array $T$ to hold the temperature of the rod and an array $T_{new}$ to calculate the temperature of the rod after evolving through time. Note that there are $N$ grid divisions but $N+1$ grid points (as we are evaluating at the boundary on each edge)."
   ]
  },
  {
   "cell_type": "code",
   "execution_count": 19,
   "id": "regional-turkey",
   "metadata": {},
   "outputs": [],
   "source": [
    "T = np.empty(N+1, float)  \n",
    "T_new = np.empty(N+1, float)"
   ]
  },
  {
   "cell_type": "markdown",
   "id": "featured-charge",
   "metadata": {},
   "source": [
    "Apply the boundary conditions and initial condition to our rod:"
   ]
  },
  {
   "cell_type": "code",
   "execution_count": 20,
   "id": "stock-spirit",
   "metadata": {},
   "outputs": [],
   "source": [
    "T[0] = T_left\n",
    "T[-1] = T_right\n",
    "T[1:-1] = T_middle\n",
    "T_new[0] = T_left\n",
    "T_new[-1] = T_right"
   ]
  },
  {
   "cell_type": "code",
   "execution_count": 21,
   "id": "equipped-webster",
   "metadata": {},
   "outputs": [],
   "source": [
    "def evolve(T,T_new):\n",
    "    c = (h*D)/(a*a)\n",
    "    T_new[1:N] = T[1:N] + c*(T[2:N+1]+T[0:N-1]-2*T[1:N])\n",
    "    return T, T_new\n",
    "    \n",
    "    "
   ]
  },
  {
   "cell_type": "code",
   "execution_count": 22,
   "id": "thermal-cable",
   "metadata": {},
   "outputs": [
    {
     "name": "stdout",
     "output_type": "stream",
     "text": [
      "0.9999999999999062\n"
     ]
    },
    {
     "data": {
      "image/png": "[encoded data removed]",
      "text/plain": [
       "<Figure size 432x288 with 1 Axes>"
      ]
     },
     "metadata": {
      "needs_background": "light"
     },
     "output_type": "display_data"
    }
   ],
   "source": [
    "times=np.array([0.01,0.1,0.4,1,10])\n",
    "t_end = times[-1]+epsilon\n",
    "t=0.0\n",
    "epsilon = h/1000\n",
    "\n",
    "while t < t_end:\n",
    "    \n",
    "    T_new, T = evolve(T, T_new)\n",
    "    t+=h\n",
    "    \n",
    "    if abs(t-times.any())<epsilon:\n",
    "        print(t)\n",
    "        plt.plot(T)"
   ]
  },
  {
   "cell_type": "markdown",
   "id": "indie-testing",
   "metadata": {},
   "source": [
    "---\n",
    "Keypoints:\n",
    "\n"
   ]
  },
  {
   "cell_type": "markdown",
   "id": "cross-paraguay",
   "metadata": {},
   "source": [
    "---\n",
    "\n",
    "Do [the quick-test](https://nu-cem.github.io/CompPhys/2021/08/02/Heat-Diffusion-Qs.html).\n",
    "\n",
    "Back to [Modelling with Partial Differential Equations](https://nu-cem.github.io/CompPhys/2021/08/02/PDEs.html).\n",
    "\n",
    "---"
   ]
  }
 ],
 "metadata": {
  "kernelspec": {
   "display_name": "Python 3 (ipykernel)",
   "language": "python",
   "name": "python3"
  },
  "language_info": {
   "codemirror_mode": {
    "name": "ipython",
    "version": 3
   },
   "file_extension": ".py",
   "mimetype": "text/x-python",
   "name": "python",
   "nbconvert_exporter": "python",
   "pygments_lexer": "ipython3",
   "version": "3.9.6"
  }
 },
 "nbformat": 4,
 "nbformat_minor": 5
}
