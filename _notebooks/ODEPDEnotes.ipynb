{
 "cells": [
  {
   "cell_type": "markdown",
   "id": "3bd39a6f",
   "metadata": {},
   "source": [
    "https://arxiv.org/vc/arxiv/papers/1302/1302.4996v1.pdf\n",
    "\n",
    "\n",
    "https://web.tuat.ac.jp/~yamanaka/pcoms2019/Cahn-Hilliard-2d.html\n",
    "\n",
    "\n",
    "\n",
    "More than one way to crack an egg!\n",
    "\n",
    "Analytical solutions such as the integrating factor method [outlined here](https://users.aber.ac.uk/ruw/teach/260/odereview.php), or the numerical approaches which we will discuss."
   ]
  }
 ],
 "metadata": {
  "kernelspec": {
   "display_name": "Python 3 (ipykernel)",
   "language": "python",
   "name": "python3"
  },
  "language_info": {
   "codemirror_mode": {
    "name": "ipython",
    "version": 3
   },
   "file_extension": ".py",
   "mimetype": "text/x-python",
   "name": "python",
   "nbconvert_exporter": "python",
   "pygments_lexer": "ipython3",
   "version": "3.9.6"
  }
 },
 "nbformat": 4,
 "nbformat_minor": 5
}
