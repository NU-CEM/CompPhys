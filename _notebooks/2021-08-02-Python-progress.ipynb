{
 "cells": [
  {
   "cell_type": "markdown",
   "id": "24b26e94",
   "metadata": {},
   "source": [
    "# Getting started progress report\n",
    "\n",
    "- toc:false\n",
    "- branch: master\n",
    "- badges: true\n",
    "- comments: false\n",
    "- categories: [python]\n",
    "- hide: true"
   ]
  },
  {
   "cell_type": "markdown",
   "id": "ccab5c02",
   "metadata": {},
   "source": [
    "This report provides statistics for class progress in the [Getting Started](https://nu-cem.github.io/CompPhys/) part of the Computational Physics course KD5081 at Northumbria University."
   ]
  },
  {
   "cell_type": "markdown",
   "id": "de10e944",
   "metadata": {},
   "source": [
    "## Prepare system\n",
    "Install libraries, get Github authentication token and create tasks list."
   ]
  },
  {
   "cell_type": "code",
   "execution_count": 1,
   "id": "d1c47a48",
   "metadata": {
    "execution": {
     "iopub.execute_input": "2021-11-16T09:05:46.790665Z",
     "iopub.status.busy": "2021-11-16T09:05:46.789334Z",
     "iopub.status.idle": "2021-11-16T09:05:48.954238Z",
     "shell.execute_reply": "2021-11-16T09:05:48.954649Z"
    }
   },
   "outputs": [],
   "source": [
    "%matplotlib inline\n",
    "\n",
    "from github import Github\n",
    "import matplotlib.pyplot as plt\n",
    "import numpy as np\n",
    "from dotenv import load_dotenv\n",
    "import os"
   ]
  },
  {
   "cell_type": "code",
   "execution_count": 2,
   "id": "317c7449",
   "metadata": {
    "execution": {
     "iopub.execute_input": "2021-11-16T09:05:48.958423Z",
     "iopub.status.busy": "2021-11-16T09:05:48.957626Z",
     "iopub.status.idle": "2021-11-16T09:05:48.960998Z",
     "shell.execute_reply": "2021-11-16T09:05:48.960570Z"
    }
   },
   "outputs": [],
   "source": [
    "load_dotenv()\n",
    "GH_TOKEN = os.getenv(\"GH_TOKEN\")  # this is needed to interact with the Github API"
   ]
  },
  {
   "cell_type": "code",
   "execution_count": 3,
   "id": "1a6d79c8",
   "metadata": {
    "execution": {
     "iopub.execute_input": "2021-11-16T09:05:48.964524Z",
     "iopub.status.busy": "2021-11-16T09:05:48.963739Z",
     "iopub.status.idle": "2021-11-16T09:05:48.965284Z",
     "shell.execute_reply": "2021-11-16T09:05:48.965666Z"
    }
   },
   "outputs": [],
   "source": [
    "tasks = ['Create, save and open a Jupyter Notebook', 'Create a Python list']"
   ]
  },
  {
   "cell_type": "markdown",
   "id": "fffcbd67",
   "metadata": {},
   "source": [
    "## Retrieve and parse issue information"
   ]
  },
  {
   "cell_type": "code",
   "execution_count": 4,
   "id": "1700d77e",
   "metadata": {
    "execution": {
     "iopub.execute_input": "2021-11-16T09:05:48.969551Z",
     "iopub.status.busy": "2021-11-16T09:05:48.968451Z",
     "iopub.status.idle": "2021-11-16T09:05:48.970103Z",
     "shell.execute_reply": "2021-11-16T09:05:48.970486Z"
    }
   },
   "outputs": [],
   "source": [
    "g = Github(GH_TOKEN)"
   ]
  },
  {
   "cell_type": "code",
   "execution_count": 5,
   "id": "81b8588a",
   "metadata": {
    "execution": {
     "iopub.execute_input": "2021-11-16T09:05:48.973882Z",
     "iopub.status.busy": "2021-11-16T09:05:48.973414Z",
     "iopub.status.idle": "2021-11-16T09:05:49.362586Z",
     "shell.execute_reply": "2021-11-16T09:05:49.362124Z"
    }
   },
   "outputs": [],
   "source": [
    "repo = g.get_repo(\"nu-cem/CompPhys\")\n",
    "checklist_issues = repo.get_issues(labels=[\"python_checklist\"])"
   ]
  },
  {
   "cell_type": "code",
   "execution_count": 6,
   "id": "940559ce",
   "metadata": {
    "execution": {
     "iopub.execute_input": "2021-11-16T09:05:49.370784Z",
     "iopub.status.busy": "2021-11-16T09:05:49.370308Z",
     "iopub.status.idle": "2021-11-16T09:05:49.589792Z",
     "shell.execute_reply": "2021-11-16T09:05:49.589354Z"
    }
   },
   "outputs": [],
   "source": [
    "totals = [0]*len(tasks)\n",
    "issue_count = 0\n",
    "\n",
    "for issue in checklist_issues:\n",
    "    issue_count += 1\n",
    "    body = issue.body\n",
    "    for i,task in enumerate(tasks):\n",
    "        if task in body:\n",
    "            splits = body.split(task,maxsplit=2)\n",
    "            if splits[0][-4:-1] == '[x]':\n",
    "                totals[i] += 1\n",
    "        else:\n",
    "            print(\"problem: task not in string\")"
   ]
  },
  {
   "cell_type": "markdown",
   "id": "bf334638",
   "metadata": {},
   "source": [
    "## Plot results"
   ]
  },
  {
   "cell_type": "code",
   "execution_count": 7,
   "id": "62883916",
   "metadata": {
    "execution": {
     "iopub.execute_input": "2021-11-16T09:05:49.609094Z",
     "iopub.status.busy": "2021-11-16T09:05:49.608590Z",
     "iopub.status.idle": "2021-11-16T09:05:50.025914Z",
     "shell.execute_reply": "2021-11-16T09:05:50.025116Z"
    }
   },
   "outputs": [
    {
     "data": {
      "image/png": "[encoded data removed]",
      "text/plain": [
       "<Figure size 1080x144 with 1 Axes>"
      ]
     },
     "metadata": {
      "needs_background": "light"
     },
     "output_type": "display_data"
    }
   ],
   "source": [
    "fig, ax = plt.subplots(1,1,figsize=(15,len(tasks)))\n",
    "\n",
    "ax.barh(np.arange(len(tasks)),totals, align='center')\n",
    "ax.set_yticks(np.arange(len(tasks)))\n",
    "ax.set_xticks(np.arange(issue_count+0.1))\n",
    "ax.set_yticklabels(tasks)\n",
    "ax.invert_yaxis()\n",
    "ax.set_xlabel('# of checked boxes')\n",
    "\n",
    "for item in ([ax.title, ax.xaxis.label, ax.yaxis.label] +\n",
    "             ax.get_xticklabels() + ax.get_yticklabels()):\n",
    "    item.set_fontsize(20)\n",
    "\n",
    "plt.tight_layout()\n",
    "plt.savefig(\"../images/progress_report.png\",dpi=250)\n",
    "plt.show()"
   ]
  }
 ],
 "metadata": {
  "kernelspec": {
   "display_name": "Python 3",
   "language": "python",
   "name": "python3"
  },
  "language_info": {
   "codemirror_mode": {
    "name": "ipython",
    "version": 3
   },
   "file_extension": ".py",
   "mimetype": "text/x-python",
   "name": "python",
   "nbconvert_exporter": "python",
   "pygments_lexer": "ipython3",
   "version": "3.6.15"
  }
 },
 "nbformat": 4,
 "nbformat_minor": 5
}
