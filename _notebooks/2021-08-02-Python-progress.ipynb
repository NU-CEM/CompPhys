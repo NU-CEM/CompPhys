{
 "cells": [
  {
   "cell_type": "markdown",
   "id": "24b26e94",
   "metadata": {},
   "source": [
    "# Getting started progress report\n",
    "\n",
    "- toc:false\n",
    "- branch: master\n",
    "- badges: true\n",
    "- comments: false\n",
    "- categories: [python]\n",
    "- hide: true"
   ]
  },
  {
   "cell_type": "markdown",
   "id": "ccab5c02",
   "metadata": {},
   "source": [
    "This report provides statistics for class progress in the [Getting Started](https://nu-cem.github.io/CompPhys/) part of the Computational Physics course KD5081 at Northumbria University."
   ]
  },
  {
   "cell_type": "markdown",
   "id": "de10e944",
   "metadata": {},
   "source": [
    "## Prepare system\n",
    "Install libraries, get Github authentication token and create tasks list."
   ]
  },
  {
   "cell_type": "code",
   "execution_count": 8,
   "id": "d1c47a48",
   "metadata": {},
   "outputs": [],
   "source": [
    "from github import Github\n",
    "import matplotlib.pyplot as plt\n",
    "import numpy as np\n",
    "from dotenv import load_dotenv\n",
    "import os"
   ]
  },
  {
   "cell_type": "code",
   "execution_count": 17,
   "id": "317c7449",
   "metadata": {},
   "outputs": [],
   "source": [
    "load_dotenv()\n",
    "GH_TOKEN = os.getenv(\"GH_TOKEN\")  # this is needed to interact with the Github API"
   ]
  },
  {
   "cell_type": "code",
   "execution_count": 13,
   "id": "1a6d79c8",
   "metadata": {},
   "outputs": [],
   "source": [
    "tasks = ['Create, save and open a Jupyter Notebook', 'Create a Python list']"
   ]
  },
  {
   "cell_type": "markdown",
   "id": "fffcbd67",
   "metadata": {},
   "source": [
    "## Retrieve and parse issue information"
   ]
  },
  {
   "cell_type": "code",
   "execution_count": 10,
   "id": "1700d77e",
   "metadata": {},
   "outputs": [],
   "source": [
    "g = Github(GH_TOKEN)"
   ]
  },
  {
   "cell_type": "code",
   "execution_count": 11,
   "id": "81b8588a",
   "metadata": {},
   "outputs": [],
   "source": [
    "repo = g.get_repo(\"nu-cem/CompPhys\")\n",
    "checklist_issues = repo.get_issues(labels=[\"python_checklist\"])"
   ]
  },
  {
   "cell_type": "code",
   "execution_count": 14,
   "id": "940559ce",
   "metadata": {},
   "outputs": [],
   "source": [
    "totals = [0]*len(tasks)\n",
    "\n",
    "for issue in checklist_issues:\n",
    "    body = issue.body\n",
    "    for i,task in enumerate(tasks):\n",
    "        if task in body:\n",
    "            splits = body.split(task,maxsplit=2)\n",
    "            if splits[0][-4:-1] == '[x]':\n",
    "                totals[i] += 1\n",
    "        else:\n",
    "            print(\"problem: task not in string\")"
   ]
  },
  {
   "cell_type": "markdown",
   "id": "bf334638",
   "metadata": {},
   "source": [
    "## Plot results"
   ]
  },
  {
   "cell_type": "code",
   "execution_count": 22,
   "id": "62883916",
   "metadata": {},
   "outputs": [
    {
     "data": {
      "image/png": "[encoded data removed]",
      "text/plain": [
       "<Figure size 1080x144 with 1 Axes>"
      ]
     },
     "metadata": {
      "needs_background": "light"
     },
     "output_type": "display_data"
    }
   ],
   "source": [
    "fig, ax = plt.subplots(1,1,figsize=(15,len(tasks)))\n",
    "\n",
    "ax.barh(np.arange(len(tasks)),totals, align='center')\n",
    "ax.set_yticks(np.arange(len(tasks)))\n",
    "ax.set_xticks(np.arange(max(totals)+0.1))\n",
    "ax.set_yticklabels(tasks)\n",
    "ax.invert_yaxis()\n",
    "ax.set_xlabel('# of checked boxes')\n",
    "\n",
    "for item in ([ax.title, ax.xaxis.label, ax.yaxis.label] +\n",
    "             ax.get_xticklabels() + ax.get_yticklabels()):\n",
    "    item.set_fontsize(20)\n",
    "\n",
    "plt.show()"
   ]
  }
 ],
 "metadata": {
  "kernelspec": {
   "display_name": "Python 3 (ipykernel)",
   "language": "python",
   "name": "python3"
  },
  "language_info": {
   "codemirror_mode": {
    "name": "ipython",
    "version": 3
   },
   "file_extension": ".py",
   "mimetype": "text/x-python",
   "name": "python",
   "nbconvert_exporter": "python",
   "pygments_lexer": "ipython3",
   "version": "3.9.6"
  }
 },
 "nbformat": 4,
 "nbformat_minor": 5
}
