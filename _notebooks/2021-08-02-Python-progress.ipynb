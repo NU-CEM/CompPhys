{
 "cells": [
  {
   "cell_type": "markdown",
   "id": "24b26e94",
   "metadata": {},
   "source": [
    "# Getting started progress report\n",
    "\n",
    "- toc:false\n",
    "- branch: master\n",
    "- badges: true\n",
    "- comments: false\n",
    "- categories: [python]\n",
    "- hide: true"
   ]
  },
  {
   "cell_type": "markdown",
   "id": "ccab5c02",
   "metadata": {},
   "source": [
    "This report provides statistics for class progress in the [Getting Started](https://nu-cem.github.io/CompPhys/) part of the Computational Physics course KD5081 at Northumbria University."
   ]
  },
  {
   "cell_type": "markdown",
   "id": "de10e944",
   "metadata": {},
   "source": [
    "## Prepare system\n",
    "Install libraries, get Github authentication token and create tasks list."
   ]
  },
  {
   "cell_type": "code",
   "execution_count": 1,
   "id": "d1c47a48",
   "metadata": {
    "execution": {
     "iopub.execute_input": "2021-11-15T19:41:11.255353Z",
     "iopub.status.busy": "2021-11-15T19:41:11.253761Z",
     "iopub.status.idle": "2021-11-15T19:41:12.143965Z",
     "shell.execute_reply": "2021-11-15T19:41:12.143414Z"
    }
   },
   "outputs": [],
   "source": [
    "%matplotlib inline\n",
    "\n",
    "from github import Github\n",
    "import matplotlib.pyplot as plt\n",
    "import numpy as np\n",
    "from dotenv import load_dotenv\n",
    "import os"
   ]
  },
  {
   "cell_type": "code",
   "execution_count": 2,
   "id": "317c7449",
   "metadata": {
    "execution": {
     "iopub.execute_input": "2021-11-15T19:41:12.148284Z",
     "iopub.status.busy": "2021-11-15T19:41:12.147701Z",
     "iopub.status.idle": "2021-11-15T19:41:12.150753Z",
     "shell.execute_reply": "2021-11-15T19:41:12.151148Z"
    }
   },
   "outputs": [],
   "source": [
    "load_dotenv()\n",
    "GH_TOKEN = os.getenv(\"GH_TOKEN\")  # this is needed to interact with the Github API"
   ]
  },
  {
   "cell_type": "code",
   "execution_count": 3,
   "id": "1a6d79c8",
   "metadata": {
    "execution": {
     "iopub.execute_input": "2021-11-15T19:41:12.155291Z",
     "iopub.status.busy": "2021-11-15T19:41:12.154216Z",
     "iopub.status.idle": "2021-11-15T19:41:12.155863Z",
     "shell.execute_reply": "2021-11-15T19:41:12.156264Z"
    }
   },
   "outputs": [],
   "source": [
    "tasks = ['Create, save and open a Jupyter Notebook', 'Create a Python list']"
   ]
  },
  {
   "cell_type": "markdown",
   "id": "fffcbd67",
   "metadata": {},
   "source": [
    "## Retrieve and parse issue information"
   ]
  },
  {
   "cell_type": "code",
   "execution_count": 4,
   "id": "1700d77e",
   "metadata": {
    "execution": {
     "iopub.execute_input": "2021-11-15T19:41:12.160359Z",
     "iopub.status.busy": "2021-11-15T19:41:12.159208Z",
     "iopub.status.idle": "2021-11-15T19:41:12.161024Z",
     "shell.execute_reply": "2021-11-15T19:41:12.161436Z"
    }
   },
   "outputs": [],
   "source": [
    "g = Github(GH_TOKEN)"
   ]
  },
  {
   "cell_type": "code",
   "execution_count": 5,
   "id": "81b8588a",
   "metadata": {
    "execution": {
     "iopub.execute_input": "2021-11-15T19:41:12.165005Z",
     "iopub.status.busy": "2021-11-15T19:41:12.164470Z",
     "iopub.status.idle": "2021-11-15T19:41:12.542200Z",
     "shell.execute_reply": "2021-11-15T19:41:12.541612Z"
    }
   },
   "outputs": [],
   "source": [
    "repo = g.get_repo(\"nu-cem/CompPhys\")\n",
    "checklist_issues = repo.get_issues(labels=[\"python_checklist\"])"
   ]
  },
  {
   "cell_type": "code",
   "execution_count": 6,
   "id": "940559ce",
   "metadata": {
    "execution": {
     "iopub.execute_input": "2021-11-15T19:41:12.550620Z",
     "iopub.status.busy": "2021-11-15T19:41:12.550106Z",
     "iopub.status.idle": "2021-11-15T19:41:12.760024Z",
     "shell.execute_reply": "2021-11-15T19:41:12.759507Z"
    }
   },
   "outputs": [],
   "source": [
    "totals = [0]*len(tasks)\n",
    "\n",
    "for issue in checklist_issues:\n",
    "    body = issue.body\n",
    "    for i,task in enumerate(tasks):\n",
    "        if task in body:\n",
    "            splits = body.split(task,maxsplit=2)\n",
    "            if splits[0][-4:-1] == '[x]':\n",
    "                totals[i] += 1\n",
    "        else:\n",
    "            print(\"problem: task not in string\")"
   ]
  },
  {
   "cell_type": "markdown",
   "id": "bf334638",
   "metadata": {},
   "source": [
    "## Plot results"
   ]
  },
  {
   "cell_type": "code",
<<<<<<< HEAD
   "execution_count": 15,
   "id": "62883916",
   "metadata": {},
   "outputs": [
    {
     "data": {
      "image/png": "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\n",
      "text/plain": [
       "<Figure size 1080x144 with 1 Axes>"
      ]
     },
     "metadata": {
      "needs_background": "light"
     },
     "output_type": "display_data"
    }
   ],
   "source": [
    "fig, ax = plt.subplots(1,1,figsize=(15,len(tasks)))\n",
    "\n",
    "ax.barh(np.arange(len(tasks)),totals, align='center')\n",
    "ax.set_yticks(np.arange(len(tasks)))\n",
    "ax.set_xticks(np.arange(max(totals)+0.1))\n",
    "ax.set_yticklabels(tasks)\n",
    "ax.invert_yaxis()\n",
    "ax.set_xlabel('# of checked boxes')\n",
    "\n",
    "for item in ([ax.title, ax.xaxis.label, ax.yaxis.label] +\n",
    "             ax.get_xticklabels() + ax.get_yticklabels()):\n",
    "    item.set_fontsize(20)\n",
    "\n",
    "plt.tight_layout()\n",
    "plt.savefig(\"../images/progress_report.png\",dpi=250)\n",
    "plt.show()"
   ]
  }
 ],
 "metadata": {
  "kernelspec": {
   "display_name": "Python 3",
   "language": "python",
   "name": "python3"
  },
  "language_info": {
   "codemirror_mode": {
    "name": "ipython",
    "version": 3
   },
   "file_extension": ".py",
   "mimetype": "text/x-python",
   "name": "python",
   "nbconvert_exporter": "python",
   "pygments_lexer": "ipython3",
   "version": "3.6.15"
  }
 },
 "nbformat": 4,
 "nbformat_minor": 5
}
