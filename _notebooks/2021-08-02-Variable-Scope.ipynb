{
 "cells": [
  {
   "cell_type": "markdown",
   "id": "novel-difference",
   "metadata": {},
   "source": [
    "# Variable scope\n",
    "\n",
    "- toc:false\n",
    "- branch: master\n",
    "- badges: true\n",
    "- comments: false\n",
    "- categories: [python]\n",
    "- hide: true"
   ]
  },
  {
   "cell_type": "markdown",
   "id": "moral-robin",
   "metadata": {},
   "source": [
    "Questions:\n",
    "- How do function calls actually work?\n",
    "- How can I determine where errors occurred?\n",
    "\n",
    "Objectives:\n",
    "- Identify local and global variables.\n",
    "- Identify parameters as local variables.\n",
    "- Read a traceback and determine the file, function, and line number on which the error occurred, the type of error, and the error message.\n",
    "\n",
    "Keypoints:\n",
    "- The scope of a variable is the part of a program that can 'see' that variable."
   ]
  },
  {
   "cell_type": "code",
   "execution_count": null,
   "id": "scheduled-guitar",
   "metadata": {},
   "outputs": [],
   "source": [
    "## The scope of a variable is the part of a program that can 'see' that variable.\n",
    "\n",
    "*   There are only so many sensible names for variables.\n",
    "*   People using functions shouldn't have to worry about\n",
    "    what variable names the author of the function used.\n",
    "*   People writing functions shouldn't have to worry about\n",
    "    what variable names the function's caller uses.\n",
    "*   The part of a program in which a variable is visible is called its *scope*.\n",
    "\n",
    "~~~\n",
    "pressure = 103.9\n",
    "\n",
    "def adjust(t):\n",
    "    temperature = t * 1.43 / pressure\n",
    "    return temperature\n",
    "~~~\n",
    "{: .python}\n",
    "\n",
    "*   `pressure` is a *global variable*.\n",
    "    *   Defined outside any particular function.\n",
    "    *   Visible everywhere.\n",
    "*   `t` and `temperature` are *local variables* in `adjust`.\n",
    "    *   Defined in the function.\n",
    "    *   Not visible in the main program.\n",
    "    *   Remember: a function parameter is a variable\n",
    "        that is automatically assigned a value when the function is called.\n",
    "\n",
    "~~~\n",
    "print('adjusted:', adjust(0.9))\n",
    "print('temperature after call:', temperature)\n",
    "~~~\n",
    "{: .python}\n",
    "~~~\n",
    "adjusted: 0.01238691049085659\n",
    "~~~\n",
    "{: .output}\n",
    "~~~\n",
    "Traceback (most recent call last):\n",
    "  File \"/Users/swcarpentry/foo.py\", line 8, in <module>\n",
    "    print('temperature after call:', temperature)\n",
    "NameError: name 'temperature' is not defined\n",
    "~~~\n",
    "{: .error}"
   ]
  },
  {
   "cell_type": "markdown",
   "id": "certified-consciousness",
   "metadata": {},
   "source": [
    "---\n",
    "\n",
    "Do [the quick-test](https://nu-cem.github.io/CompPhys/2021/08/02/Variable-Scope-Qs.html).\n",
    "\n",
    "Back to [Python part two](https://nu-cem.github.io/CompPhys/2021/08/02/Python_basics_two.html).\n",
    "\n",
    "---"
   ]
  },
  {
   "cell_type": "code",
   "execution_count": null,
   "id": "ruled-modern",
   "metadata": {},
   "outputs": [],
   "source": []
  }
 ],
 "metadata": {
  "kernelspec": {
   "display_name": "Python 3",
   "language": "python",
   "name": "python3"
  },
  "language_info": {
   "codemirror_mode": {
    "name": "ipython",
    "version": 3
   },
   "file_extension": ".py",
   "mimetype": "text/x-python",
   "name": "python",
   "nbconvert_exporter": "python",
   "pygments_lexer": "ipython3",
   "version": "3.8.5"
  }
 },
 "nbformat": 4,
 "nbformat_minor": 5
}
