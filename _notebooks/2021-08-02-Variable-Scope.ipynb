{
 "cells": [
  {
   "cell_type": "markdown",
   "id": "patent-current",
   "metadata": {},
   "source": [
    "# Variable scope\n",
    "\n",
    "- toc:false\n",
    "- branch: master\n",
    "- badges: true\n",
    "- comments: false\n",
    "- categories: [python]\n",
    "- hide: true"
   ]
  },
  {
   "cell_type": "markdown",
   "id": "monthly-fancy",
   "metadata": {},
   "source": [
    "Questions:\n",
    "- How do function calls actually work?\n",
    "- How can I determine where errors occurred?\n",
    "\n",
    "Objectives:\n",
    "- Identify local and global variables.\n",
    "- Identify parameters as local variables.\n",
    "- Read a traceback and determine the file, function, and line number on which the error occurred, the type of error, and the error message.\n",
    "\n",
    "Keypoints:\n",
    "- The scope of a variable is the part of a program that can 'see' that variable."
   ]
  },
  {
   "cell_type": "markdown",
   "id": "future-envelope",
   "metadata": {},
   "source": [
    "### The scope of a variable is the part of a program that can 'see' that variable.\n",
    "\n",
    "There are only so many sensible names for variables. People using functions shouldn't have to worry about what variable names the author of the function used. Equally, people writing functions shouldn't have to worry about\n",
    "    what variable names the function's caller uses. The part of a program in which a variable is visible is called its *scope*."
   ]
  },
  {
   "cell_type": "code",
   "execution_count": 2,
   "id": "suited-beads",
   "metadata": {},
   "outputs": [],
   "source": [
    "pressure = 103.9\n",
    "\n",
    "def adjust(t):\n",
    "    temperature = t * 1.43 / pressure\n",
    "    return temperature"
   ]
  },
  {
   "cell_type": "markdown",
   "id": "clear-trauma",
   "metadata": {},
   "source": [
    "`pressure` is a *global variable* - it is defined outside any particular function and is visible everywhere.\n",
    "`t` and `temperature` are *local variables* in `adjust`. They are defined in the function, and not visible in the main program."
   ]
  },
  {
   "cell_type": "code",
   "execution_count": 3,
   "id": "traditional-order",
   "metadata": {},
   "outputs": [
    {
     "name": "stdout",
     "output_type": "stream",
     "text": [
      "adjusted: 0.01238691049085659\n"
     ]
    },
    {
     "ename": "NameError",
     "evalue": "name 'temperature' is not defined",
     "output_type": "error",
     "traceback": [
      "\u001b[0;31m---------------------------------------------------------------------------\u001b[0m",
      "\u001b[0;31mNameError\u001b[0m                                 Traceback (most recent call last)",
      "\u001b[0;32m<ipython-input-3-e73c01f89950>\u001b[0m in \u001b[0;36m<module>\u001b[0;34m\u001b[0m\n\u001b[1;32m      1\u001b[0m \u001b[0mprint\u001b[0m\u001b[0;34m(\u001b[0m\u001b[0;34m'adjusted:'\u001b[0m\u001b[0;34m,\u001b[0m \u001b[0madjust\u001b[0m\u001b[0;34m(\u001b[0m\u001b[0;36m0.9\u001b[0m\u001b[0;34m)\u001b[0m\u001b[0;34m)\u001b[0m\u001b[0;34m\u001b[0m\u001b[0;34m\u001b[0m\u001b[0m\n\u001b[0;32m----> 2\u001b[0;31m \u001b[0mprint\u001b[0m\u001b[0;34m(\u001b[0m\u001b[0;34m'temperature after call:'\u001b[0m\u001b[0;34m,\u001b[0m \u001b[0mtemperature\u001b[0m\u001b[0;34m)\u001b[0m\u001b[0;34m\u001b[0m\u001b[0;34m\u001b[0m\u001b[0m\n\u001b[0m",
      "\u001b[0;31mNameError\u001b[0m: name 'temperature' is not defined"
     ]
    }
   ],
   "source": [
    "print('adjusted:', adjust(0.9))\n",
    "print('temperature after call:', temperature)"
   ]
  },
  {
   "cell_type": "markdown",
   "id": "exact-think",
   "metadata": {},
   "source": [
    "---\n",
    "\n",
    "Do [the quick-test](https://nu-cem.github.io/CompPhys/2021/08/02/Variable-Scope-Qs.html).\n",
    "\n",
    "Back to [Python part two](https://nu-cem.github.io/CompPhys/2021/08/02/Python_basics_two.html).\n",
    "\n",
    "---"
   ]
  },
  {
   "cell_type": "code",
   "execution_count": null,
   "id": "still-montgomery",
   "metadata": {},
   "outputs": [],
   "source": []
  }
 ],
 "metadata": {
  "kernelspec": {
   "display_name": "Python 3",
   "language": "python",
   "name": "python3"
  },
  "language_info": {
   "codemirror_mode": {
    "name": "ipython",
    "version": 3
   },
   "file_extension": ".py",
   "mimetype": "text/x-python",
   "name": "python",
   "nbconvert_exporter": "python",
   "pygments_lexer": "ipython3",
   "version": "3.8.5"
  }
 },
 "nbformat": 4,
 "nbformat_minor": 5
}
