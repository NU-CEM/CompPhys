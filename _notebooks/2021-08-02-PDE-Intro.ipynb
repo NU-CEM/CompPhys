{
 "cells": [
  {
   "cell_type": "markdown",
   "id": "center-disorder",
   "metadata": {},
   "source": [
    "# Introduction to PDEs\n",
    "\n",
    "- toc:false\n",
    "- branch: master\n",
    "- badges: true\n",
    "- comments: false\n",
    "- categories: [mathematics, numerical recipes]\n",
    "- hide: true"
   ]
  },
  {
   "cell_type": "markdown",
   "id": "imperial-criticism",
   "metadata": {},
   "source": [
    "-----\n",
    "Questions:\n",
    "- Which physical systems can be described using a PDE?\n",
    "- What is the Laplacian operator?\n",
    "- What are boundary conditions?\n",
    "\n",
    "Objectives:\n",
    "- Recognise common classes of PDE: the diffusion equation, Poisson's equation and the wave equation\n",
    "- Express the Laplacian as a differential operator\n",
    "- Identify boundary value problems and initial value problems\n",
    "\n",
    "-----"
   ]
  },
  {
   "cell_type": "markdown",
   "id": "coordinate-benefit",
   "metadata": {},
   "source": [
    "### Partial differential equations have multiple inputs\n",
    "\n",
    "In the previous section of the course we studied <bold>ordinary differential equations</bold>. ODEs have a single input (also known as independent variable) - for example, time. \n",
    "\n",
    "Partial differential equations (PDEs) have multiple inputs (independent variables). For example, think about a sheet of metal that has been heated unevenly across the surface. Over time, heat will diffuse through the 2-dimensional sheet. The temperature depends on both time *and* position - there are two inputs.\n",
    "\n",
    "> Youtube: https://youtu.be/twBcpxrWm5E\n",
    "\n",
    "Because PDEs have multiple inputs they are generally much more difficult to solve analytically than ODEs. However, there are a range of numerical methods that can be used to find approximate solutions."
   ]
  },
  {
   "cell_type": "markdown",
   "id": "according-hollow",
   "metadata": {},
   "source": [
    "### PDEs have application across a wide variety of topics\n",
    "\n",
    "The same type of PDE often appears in different contexts. For example, the <mark>diffusion equation</mark> takes the form:\n",
    "\n",
    "\\begin{equation}\n",
    "\\nabla^2T = \\alpha \\frac{\\partial T}{\\partial t}\n",
    "\\end{equation}\n",
    "\n",
    "When used to describe heat diffusion, this PDE is known as the heat equation. This same PDE however can be used to model other seemingly unrelated processes such as brownian motion, or used in financial modelling via the Black-Sholes equation. \n",
    "\n",
    "Another type of PDE is known as <mark>Poisson's equation</mark>:\n",
    "\n",
    "\\begin{equation}\n",
    "\\nabla^2\\phi = f(x,y,z)\n",
    "\\end{equation}\n",
    "\n",
    "Poisson's equation can be used to describe electrostatic forces, where $\\phi$ is the electric potential. It can also be applied to mechanics (where $\\phi$ is the gravitational potential) or thermodynamics (where $\\phi$ is the temperature). When $f(x,y,z)=0$ this equation is known as Laplace's equation. \n",
    "\n",
    "The third common type of PDE is the <mark>wave equation</mark>:\n",
    "\n",
    "\\begin{equation}\n",
    "\\nabla^2r = \\alpha \\frac{\\partial^2 r}{\\partial t^2}\n",
    "\\end{equation}\n",
    "\n",
    "This describes mechanical processes such as the vibration of a string or the motion of a pendulum. It can also be used in electrodynamics to describe the exchange of energy between the electric and magnetic fields. \n",
    "\n",
    "In this course we will focus on only the heat equation, but many of the topics we will discuss - such as boundary conditions, and finite difference methods - can be transferred to PDEs more generally. "
   ]
  },
  {
   "cell_type": "markdown",
   "id": "imported-impression",
   "metadata": {},
   "source": [
    "### The Laplacian operator corresponds to an average rate of change\n",
    "\n",
    "*But what is the operator $\\nabla^2$?*. This is the <bold>Laplacian operator</bold>. When applied to $\\phi$ and written in full for a three dimensional cartesian coordinate system with dependent variables $x$, $y$ and $z$ it takes the following form:\n",
    "\n",
    "\\begin{equation}\n",
    "\\nabla^2\\phi = \\frac{\\partial^2\\phi}{\\partial x^2} + \\frac{\\partial^2\\phi}{\\partial y^2} + \\frac{\\partial^2\\phi}{\\partial z^2}.\n",
    "\\end{equation}\n",
    "\n",
    "We can think of the laplacian as encoding an average rate of change. To develop an intuition for how the laplacian can be interpreted physically, we need to understand two related operators - div and curl. We will not explore these operators further in this lesson, but a related video is below:\n",
    "\n",
    "> Youtube: https://youtu.be/EW08rD-GFh0"
   ]
  },
  {
   "cell_type": "markdown",
   "id": "eleven-ultimate",
   "metadata": {},
   "source": [
    "### PDEs can have boundary conditions *and* initial conditions\n",
    "In the previous section of the course we learnt that ODEs have either initial values or boundary values. \n",
    "\n",
    "#### Boundary value problems\n",
    "\n",
    "PDEs can also be separated in a similar manner. <mark>Boundary value problems</mark> describe the behaviour of a variable in a space and we are given some constraints on the variable around the boundary of that space. For example, consider the 2-dimensional problem of a thin rectangular sheet with one side at voltage $V$ and all others at voltage zero.\n",
    "\n",
    " <img src=\"../images/electrostatics.png\" width=\"200\" >\n",
    " \n",
    "\n",
    "The specification that one side is at voltage $V$ and all others are at voltage zero are the <mark>boundary conditions</mark>. We could then calculate the electrostatic potential $\\phi$ at all points within the sheet using the two-dimensional Laplace's equation:\n",
    "\n",
    "\\begin{equation}\n",
    "\\nabla^2\\phi = \\frac{\\partial^2\\phi}{\\partial x^2} + \\frac{\\partial^2\\phi}{\\partial y^2} = 0\n",
    "\\end{equation}\n",
    "\n",
    "#### Initial value problems\n",
    "\n",
    "<bold>Initial value problems</bold> are where the field - or other variable of interest - is varying in both space and time. We now require boundary conditions *and* initial values. This is a more difficult type of PDE to solve.\n",
    "\n",
    "For example, consider heat diffusion in a two-dimensional sheet. Here we could specify that there is no heat flow in or out of the sheet - this is the boundary condition. \n",
    "\n",
    " <img src=\"../images/diffusion1.png\" width=\"200\" >\n",
    " \n",
    "\n",
    "We could also specify that at time $t=0$ the centre of the sheet is at temperature $T_1$, whilst surrounding areas are at temperature  $T_0$. This is the initial condition. It differs from a boundary condition in that we are told what the temperature is at the start of our time grid (at $t=0$) but not at the end of our time grid (when the simulation finishes).\n",
    "\n",
    "<img src=\"../images/diffusion2.png\" width=\"200\" >\n",
    " \n",
    "\n",
    "We could then calculate the temperature at time $t$ at all points $[x,y]$ within the sheet using the two-dimensional Diffusion equation:\n",
    "\n",
    "\\begin{equation}\n",
    "\\nabla^2T = \\frac{\\partial^2 T}{\\partial x^2} + \\frac{\\partial^2 T}{\\partial y^2}=\\alpha \\frac{\\partial T}{\\partial t}\n",
    "\\end{equation}"
   ]
  },
  {
   "cell_type": "markdown",
   "id": "secondary-reward",
   "metadata": {},
   "source": [
    "---\n",
    "\n",
    "Keypoints:\n",
    "\n",
    "- PDEs have multiple inputs (independent variables)\n",
    "- PDEs have application across a wide variety of topics\n",
    "- The Laplacian operator corresponds to an average rate of change\n",
    "- PDEs can have boundary values and initial values\n"
   ]
  },
  {
   "cell_type": "markdown",
   "id": "quick-basis",
   "metadata": {},
   "source": [
    "---\n",
    "\n",
    "Do [the quick-test](https://nu-cem.github.io/CompPhys/2021/08/02/PDE-Intro-Qs.html).\n",
    "\n",
    "Back to [Modelling with Partial Differential Equations](https://nu-cem.github.io/CompPhys/2021/08/02/PDEs.html).\n",
    "\n",
    "---"
   ]
  }
 ],
 "metadata": {
  "kernelspec": {
   "display_name": "Python 3",
   "language": "python",
   "name": "python3"
  },
  "language_info": {
   "codemirror_mode": {
    "name": "ipython",
    "version": 3
   },
   "file_extension": ".py",
   "mimetype": "text/x-python",
   "name": "python",
   "nbconvert_exporter": "python",
   "pygments_lexer": "ipython3",
   "version": "3.7.9"
  }
 },
 "nbformat": 4,
 "nbformat_minor": 5
}
