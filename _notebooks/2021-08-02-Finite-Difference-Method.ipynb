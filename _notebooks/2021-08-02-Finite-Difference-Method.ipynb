{
 "cells": [
  {
   "cell_type": "markdown",
   "id": "284d7a40",
   "metadata": {},
   "source": [
    "# Finite Difference Methods\n",
    "\n",
    "- toc: false\n",
    "- branch: master\n",
    "- badges: true\n",
    "- comments: false\n",
    "- hide: true"
   ]
  },
  {
   "cell_type": "markdown",
   "id": "cd5baedd",
   "metadata": {},
   "source": [
    "-----\n",
    "Questions:\n",
    "- How do I use a finite difference method to calculate derivatives? \n",
    "\n",
    "Objectives:\n",
    "- Use the finite difference method to calculate the derivative of an unknown function\n",
    "\n",
    "-----"
   ]
  },
  {
   "cell_type": "markdown",
   "id": "8144e6c3",
   "metadata": {},
   "source": [
    "### A numerical derivative can be calculated using the forward, backward or central difference\n",
    "\n",
    "The standard definition of a derivative is \n",
    "\n",
    "\\begin{equation}\n",
    "\\frac{\\mathrm{d} f}{\\mathrm{d} x} = \\lim_{h\\to0}\\frac{f(x+h)-f(x)}{h}.\n",
    "\\end{equation}\n",
    "\n",
    "To calculate the derivative numerically we make $h$ very small and calculate\n",
    "\n",
    "\\begin{equation}\n",
    "\\frac{\\mathrm{d} f}{\\mathrm{d} x} \\simeq \\frac{f(x+h)-f(x)}{h}.\n",
    "\\end{equation}\n",
    "\n",
    "This is the <mark>forward difference</mark> because it is measured in the forward direction from $x$.\n",
    "\n",
    "The <mark>backward difference</mark> is measured in the backward direction from $x$:\n",
    "\n",
    "\\begin{equation}\n",
    "\\frac{\\mathrm{d} f}{\\mathrm{d} x} \\simeq \\frac{f(x)-f(x-h)}{h},\n",
    "\\end{equation}\n",
    "\n",
    "and the <mark>central difference</mark> uses both the forwards and backwards directions around $x$:\n",
    "\n",
    "\\begin{equation}\n",
    "\\frac{\\mathrm{d} f}{\\mathrm{d} x} \\simeq \\frac{f(x+\\frac{h}{h2})-f(x-\\frac{h}{2})}{h},\n",
    "\\end{equation}\n",
    "\n",
    "> Important: The central difference is in general more accurate than the forward or backward differences, but im all cases we need to carefully converge with respect to the step size $h$"
   ]
  },
  {
   "cell_type": "markdown",
   "id": "a29fe736",
   "metadata": {},
   "source": [
    "### Second-order derivatives, partial derivatives and the Laplacian can be calculated using the same approach\n",
    "\n",
    "The second derivative is a derivative of a derivative, and so we can calculate it be applying the first derivative formulas twice. The resulting expression (after application of central differences) is:\n",
    "\n",
    "\\begin{equation}\n",
    "\\frac{\\mathrm{d} ^2f}{\\mathrm{d} x^2} \\simeq \\frac{f(x+h)-2f(x)+f(x-h)}{h^2}.\n",
    "\\end{equation}\n",
    "\n",
    "The extension to partial derivatives is straight-forward:\n",
    "\n",
    "\\begin{equation}\n",
    "\\frac{\\partial f}{\\partial x} \\simeq \\frac{f(x+\\frac{h}{2},y)-f(x-\\frac{h}{2},y)}{h},\n",
    "\\end{equation}\n",
    "\n",
    "\\begin{equation}\n",
    "\\frac{\\partial f}{\\partial y} \\simeq \\frac{f(x,y+\\frac{h}{2})-f(x,y-\\frac{h}{2})}{h},\n",
    "\\end{equation}\n",
    "\n",
    "\\begin{equation}\n",
    "\\frac{\\partial ^2f}{\\partial x^2} \\simeq \\frac{f(x+h,y)-2f(x,y)+f(x-h,y)}{h^2},\n",
    "\\end{equation}\n",
    "\n",
    "\\begin{equation}\n",
    "\\frac{\\partial ^2f}{\\partial y^2} \\simeq \\frac{f(x,y+h)-2f(x,y)+f(x,y-h)}{h^2}.\n",
    "\\end{equation}\n",
    "\n",
    "By adding the two equations above, the Laplacian in two dimensions is:\n",
    "\n",
    "\\begin{equation}\n",
    "\\frac{\\partial ^2f}{\\partial x^2} + \\frac{\\partial ^2f}{\\partial y^2} \\simeq \\frac{f(x+h,y)+f(x-h,y)+f(x,y+h)+f(x,y-h)-4f(x,y)}{h^2},\n",
    "\\end{equation}\n",
    "\n",
    "The expression above is known as a <mark>five-point stencil</mark> as it uses five points to calculate the Laplacian.\n",
    "\n"
   ]
  },
  {
   "cell_type": "markdown",
   "id": "0641cb8d",
   "metadata": {},
   "source": [
    "---\n",
    "Keypoints:\n",
    "- Finite difference methods are a family of techniques used to calculate derivatives\n",
    "- A numerical derivative can be calculated using the forward, backward or central finite difference\n",
    "- Second-order derivatives, partial derivatives and the Laplacian can also be calculated using finite differences"
   ]
  },
  {
   "cell_type": "markdown",
   "id": "e5f035e5",
   "metadata": {},
   "source": [
    "---\n",
    "\n",
    "Do [the quick-test](https://nu-cem.github.io/CompPhys/2021/08/02/Finite-Difference-Method-Qs.html).\n",
    "\n",
    "Back to [Calculating Derivatives](https://nu-cem.github.io/CompPhys/2021/08/02/Derivatives.html).\n",
    "\n",
    "---"
   ]
  },
  {
   "cell_type": "code",
   "execution_count": null,
   "id": "edb44b00",
   "metadata": {},
   "outputs": [],
   "source": []
  }
 ],
 "metadata": {
  "kernelspec": {
   "display_name": "Python 3",
   "language": "python",
   "name": "python3"
  },
  "language_info": {
   "codemirror_mode": {
    "name": "ipython",
    "version": 3
   },
   "file_extension": ".py",
   "mimetype": "text/x-python",
   "name": "python",
   "nbconvert_exporter": "python",
   "pygments_lexer": "ipython3",
   "version": "3.8.13"
  }
 },
 "nbformat": 4,
 "nbformat_minor": 5
}
