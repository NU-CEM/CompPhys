{
 "cells": [
  {
   "cell_type": "markdown",
   "id": "775caad4",
   "metadata": {},
   "source": [
    "# Running Python\n",
    "\n",
    "- toc:false\n",
    "- branch: master\n",
    "- badges: true\n",
    "- comments: false\n",
    "- categories: [python]\n",
    "- hide: true"
   ]
  },
  {
   "cell_type": "markdown",
   "id": "8c423bc0",
   "metadata": {},
   "source": [
    "----\n",
    "\n",
    "#### Questions:\n",
    "- How can I run Python programs?\n",
    "\n",
    "#### Objectives:\n",
    "- Launch the Jupyter Notebook, create new notebooks, and exit the Notebook.\n",
    "- Create Markdown cells in a notebook.\n",
    "- Create and run Python cells in a notebook.\n",
    "\n",
    "#### Keypoints:\n",
    "- Python programs are plain text files.\n",
    "- Use the Jupyter Notebook for editing and running Python.\n",
    "- Use the keyboard and mouse to select and edit cells.\n",
    "- The Notebook will turn Markdown into pretty-printed documentation.\n",
    "\n",
    "----"
   ]
  },
  {
   "cell_type": "markdown",
   "id": "7b7e1ecd",
   "metadata": {},
   "source": [
    "### There are multiple ways to run Python code\n",
    "\n",
    "*   Python programmes can be written as plain text files using a text editor\n",
    "*   They have the `.py` extension to let everyone (including the operating system) \n",
    "    know it is a Python program. This is convention, not a requirement. We will use plain text files for writing Python code towards the end of this course.\n",
    "*   For this part of the course we are going to use\n",
    "    [Jupyter Notebooks][jupyter].\n",
    "*   The Notebook provides code completion and other helpful features.\n",
    "*   Notebook files have the extension `.ipynb` to distinguish them from plain-text Python programs."
   ]
  },
  {
   "cell_type": "markdown",
   "id": "f853a531",
   "metadata": {},
   "source": [
    "### You can use the Jupyter Notebook for editing and running Python.\n",
    "\n",
    "* When we type `jupyter notebook` in a terminal (or Git Bash) we start a Jupyter Notebook server and open the default web browser. \n",
    "*   The server runs locally on your machine only and does not use an internet connection.\n",
    "*   You can type code into the browser and see the result when the web page talks to the server.\n",
    "*   This has several advantages:\n",
    "    *   You can easily type, edit, and copy and paste blocks of code.\n",
    "    *   Tab complete allows you to easily access the names of things you are using\n",
    "        and learn more about them.\n",
    "    *   It allows you to annotate your code with links, different sized text, bullets, etc.\n",
    "        to make it more accessible to you and your collaborators.\n",
    "    *   It allows you to display figures next to the code that produces them\n",
    "        to tell a complete story of the analysis.\n",
    "The notebook file is stored in a format called JSON.\n",
    " *   Just like a webpage, what's saved looks different from what you see in your browser.\n",
    " *   But this format allows Jupyter to mix source code, text, and images, all in one file.     \n",
    "\n"
   ]
  },
  {
   "cell_type": "markdown",
   "id": "e82888d9",
   "metadata": {},
   "source": [
    "> Tip: You can view this page as a Notebook by clicking on either the `Binder` or `Colab` button at the top of this page."
   ]
  },
  {
   "cell_type": "markdown",
   "id": "c5975fae",
   "metadata": {},
   "source": [
    "### Use the keyboard and mouse to select and edit cells.\n",
    "\n",
    "*   You can create a new cell by clicking on `Insert` at the top of the Notebook.\n",
    "*   Pressing the \"shift\" and the \"enter\" key together will execute the contents of the cell.\n",
    "\n",
    "### Use *command mode* to speed things up\n",
    "\n",
    "* You can also use keyboard shortcuts by entering *command mode* using the `esc` key.\n",
    "* Notice that the border of your cell turns blue.\n",
    "* Type a shortcut command - for example `b` to create a new cell.\n",
    "* The list of shortcuts can be found using `h`.\n",
    "* To exit *command mode* and start editing the cell press `enter`."
   ]
  },
  {
   "cell_type": "markdown",
   "id": "cc4d1624",
   "metadata": {},
   "source": [
    "### The Notebook will turn Markdown into pretty-printed documentation.\n",
    "\n",
    "*   Notebooks can also render [Markdown][markdown] which is a simple plain-text format for writing lists, links, and other things that might go into a web page.\n",
    "*   You can turn cell into a Markdown cell by selecting `Markdown` from the drop-down menu at the top of the Notebook\n",
    "*   `In [ ]:` will disappear to show it is no longer a code cell\n",
    "    and you will be able to write in Markdown.\n"
   ]
  },
  {
   "cell_type": "markdown",
   "id": "f949348d",
   "metadata": {},
   "source": [
    "### Lists\n",
    "\n",
    "\n",
    "```\n",
    "    *   Use asterisks\n",
    "    *   to create\n",
    "    *   bullet lists.\n",
    "```\n",
    "\n",
    "\n",
    "*   Use asterisks\n",
    "*   to create\n",
    "*   bullet lists.\n",
    "\n",
    "\n"
   ]
  },
  {
   "cell_type": "markdown",
   "id": "f72db576",
   "metadata": {},
   "source": [
    "```\n",
    "1.  Use numbers\n",
    "2.  to create\n",
    "3.  numbered lists.\n",
    "\n",
    "```\n",
    "\n",
    "1.  Use numbers\n",
    "2.  to create\n",
    "3.  numbered lists.\n",
    "\n",
    "\n"
   ]
  },
  {
   "cell_type": "markdown",
   "id": "b2123ac5",
   "metadata": {},
   "source": [
    "```\n",
    "1.  You can\n",
    "2.  also\n",
    "    * create sub-lists\n",
    "```\n",
    "\n",
    "\n",
    "1.  You can\n",
    "2.  also\n",
    "    * create sub-lists\n",
    "    \n"
   ]
  },
  {
   "cell_type": "markdown",
   "id": "e98b15a3",
   "metadata": {},
   "source": [
    "### Headings\n",
    "\n",
    "```\n",
    "# A Level-1 Heading\n",
    "```\n",
    "\n",
    "# A Level-1 Heading\n",
    "\n",
    "\n"
   ]
  },
  {
   "cell_type": "markdown",
   "id": "85295cf9",
   "metadata": {},
   "source": [
    "```\n",
    "## A Level-2 Heading (etc)\n",
    "```\n",
    "\n",
    "## A Level-2 Heading (etc)\n",
    "\n"
   ]
  },
  {
   "cell_type": "markdown",
   "id": "02be7ad0",
   "metadata": {},
   "source": [
    "### Whitespace\n",
    "\n",
    "\n",
    "```\n",
    "Line breaks\n",
    "don't matter.\n",
    "\n",
    "But blank lines\n",
    "create new paragraphs.\n",
    "```\n",
    "\n",
    "Line breaks\n",
    "don't matter.\n",
    "\n",
    "But blank lines\n",
    "create new paragraphs.\n",
    "\n"
   ]
  },
  {
   "cell_type": "markdown",
   "id": "9786639c",
   "metadata": {},
   "source": [
    "### Basic formatting\n",
    "\n",
    "You can easily:\n",
    "\n",
    "- use *italics* with `*italics*`\n",
    "- use **bold** with `**bold**`\n",
    "- [Create links](http://software-carpentry.org) with `[...](...)`.\n",
    "\n"
   ]
  },
  {
   "cell_type": "markdown",
   "id": "643ca14f",
   "metadata": {},
   "source": [
    "---\n",
    "\n",
    "Do [the quick-test](https://nu-cem.github.io/CompPhys/2021/08/02/01-Running_python-Qs.html).\n",
    "\n",
    "Back to [Python part one](https://nu-cem.github.io/CompPhys/2021/08/02/Python_basics_one.html).\n",
    "\n",
    "---"
   ]
  },
  {
   "cell_type": "code",
   "execution_count": null,
   "id": "9dea0e20",
   "metadata": {},
   "outputs": [],
   "source": []
  }
 ],
 "metadata": {
  "kernelspec": {
   "display_name": "Python 3 (ipykernel)",
   "language": "python",
   "name": "python3"
  },
  "language_info": {
   "codemirror_mode": {
    "name": "ipython",
    "version": 3
   },
   "file_extension": ".py",
   "mimetype": "text/x-python",
   "name": "python",
   "nbconvert_exporter": "python",
   "pygments_lexer": "ipython3",
   "version": "3.9.6"
  }
 },
 "nbformat": 4,
 "nbformat_minor": 5
}
