{
 "cells": [
  {
   "cell_type": "markdown",
   "id": "a74fb7e2",
   "metadata": {},
   "source": [
    "# Calculating integrals using Monte Carlo methods\n",
    "\n",
    "- toc:false\n",
    "- branch: master\n",
    "- badges: true\n",
    "- comments: false\n",
    "- hide: true"
   ]
  },
  {
   "cell_type": "markdown",
   "id": "90718dce",
   "metadata": {},
   "source": [
    "-----\n",
    "Questions:\n",
    "- How do I generate random numbers?\n",
    "- How do I integrate using Monte Carlo methods?\n",
    "\n",
    "Objectives:\n",
    "- Use the `random` module to generate random numbers\n",
    "- Use Monte Carlo methods to calculate the area of a circle\n",
    "\n",
    "-----"
   ]
  },
  {
   "cell_type": "markdown",
   "id": "97cc5ffe",
   "metadata": {},
   "source": [
    "#### There are many different numerical methods for calculating integrals\n",
    "\n",
    "In the previous section we looked at the two simplest methods for calculating integrals: the rectangular-slice method (where the error is proportional to step size $h$) and the trapezoid method (where the error is proportional to step size $h^2$). For increased accuracy, particularly in systems where we want to integrate over multiple variables, more advanced methods may be required. For example, Simpson's method gives an error proportional to $h^4$, whilst Gaussian Quadrature can be used to integrate certain classes of functions with higher efficiency still. \n",
    "\n",
    "We will not explore Simpson's method or Gaussian Quadraturein this course, but we will outline one particularly powerful, and conceptually intriguing group of approaches: the Monte Carlo methods.\n",
    "\n",
    "#### Monte Carlo methods calculate the answers to exact calculations by doing random calculations\n",
    "\n",
    "Monte Carlo methods are a broad class of algorithms that rely on random sampling to obtain numerical results. The underlying concept is to use randomness to solve problems that might be deterministic in principle. \"Monte Carlo\" is a reference to a well-known casino town, since the element of chance is core to the modelling approach, similar to various casino games.\n",
    "\n",
    "Monte Carlo methods are applied across a wide variety of domains, most commonly mathematics, physics and finance. In physics, Monte Carlo methods are used to design particle detectors, model galaxy evolution and solve the many-body problem for quantum systems, amongst many other applications. In this lesson we will introduce one of the main uses of Monte Carlo: for integration. \n",
    "\n",
    "\n",
    "#### The Monte Carlo \"area method\" estimates integrals by generating a uniform sample of points and counting how many fall into a planar region\n",
    "\n",
    "To introduce the Monte Carlo area method, we will consider the area under a circle to give us an estimate for the value of pi. \n",
    "\n",
    "The relevant equations are:\n",
    "\n",
    "square area: $A_s = (2 r)^2$  \n",
    "circle area: $A_c = \\pi r^2$  \n",
    "\n",
    "The ratio of the areas can be related to $\\pi$ through the following expressions: \n",
    "\n",
    "$\\frac{A_c}{A_s} = \\frac{\\pi r^2}{4 r^2} = \\frac{\\pi}{4}$  \n",
    "$\\pi = 4\\frac{A_c}{A_s}$\n",
    "\n",
    "We set the radius of our circle equal to one for simplicty. To approximate the ratio $\\frac{A_c}{A_s}$ we will generate a (uniform) pseudo-random number between 0 and 1 for our x-coordinates, and a (uniform) pseudo-random number between 0 and 1 for our y-coordinates. We will then check if our random point lies in or out of the circle. The probability $P_i$ that our point lies in the circle is related to the area ratio and so value of pi:\n",
    "\n",
    "$P_i = \\frac{A_c}{A_s} = \\frac{\\pi}{4}$"
   ]
  },
  {
   "cell_type": "markdown",
   "id": "cd6d52a6",
   "metadata": {},
   "source": [
    "\n",
    "<figure>\n",
    "<img src=\"https://raw.githubusercontent.com/coderefinery/jupyter/main/example/darts.svg\" width=500 />\n",
    "</figure>"
   ]
  },
  {
   "cell_type": "markdown",
   "id": "6c96d0c6",
   "metadata": {},
   "source": [
    "#### The Monte Carlo area method can be translated into Python code"
   ]
  },
  {
   "cell_type": "code",
   "execution_count": 47,
   "id": "8f16b870",
   "metadata": {},
   "outputs": [],
   "source": [
    "# importing the modules we will need\n",
    "import random\n",
    "import math\n",
    "\n",
    "# in this function we generate random numbers and count how many lie within the circle\n",
    "def estimate_pi(num_points):\n",
    "    \n",
    "    points = []\n",
    "    hits = 0\n",
    "    for i in range(num_points):\n",
    "        # random.random returns a random number drawn from a uniform distribution from 0 to 1\n",
    "        x, y = random.random(), random.random()\n",
    "        # we test if the point is within the circle (using the equation for a circle, X^2+y^2=r^2)\n",
    "        if x*x + y*y < 1.0:\n",
    "            hits += 1\n",
    "    \n",
    "    probability = hits / num_points\n",
    "    return probability*4\n",
    "        "
   ]
  },
  {
   "cell_type": "code",
   "execution_count": 48,
   "id": "aa8ed66c",
   "metadata": {},
   "outputs": [
    {
     "data": {
      "text/plain": [
       "3.104"
      ]
     },
     "execution_count": 48,
     "metadata": {},
     "output_type": "execute_result"
    }
   ],
   "source": [
    "estimate_pi(1000)"
   ]
  },
  {
   "cell_type": "code",
   "execution_count": 46,
   "id": "d010c81e",
   "metadata": {},
   "outputs": [
    {
     "data": {
      "text/plain": [
       "3.176"
      ]
     },
     "execution_count": 46,
     "metadata": {},
     "output_type": "execute_result"
    }
   ],
   "source": [
    "estimate_pi(2000)"
   ]
  },
  {
   "cell_type": "markdown",
   "id": "98ed46ad",
   "metadata": {},
   "source": [
    "This method usually improves with the number of points, however there can be some variation due to the randomness of the numbers used. If you would like others to reproduce your exact results, you can seed the (pseudo-)random number generator:"
   ]
  },
  {
   "cell_type": "code",
   "execution_count": 42,
   "id": "b34c8768",
   "metadata": {},
   "outputs": [
    {
     "name": "stdout",
     "output_type": "stream",
     "text": [
      "error is 0.029592653589793017\n"
     ]
    }
   ],
   "source": [
    "random.seed(1)\n",
    "print(\"error is {}\".format(math.pi-estimate_pi(1000)))"
   ]
  },
  {
   "cell_type": "code",
   "execution_count": 43,
   "id": "f77d829c",
   "metadata": {},
   "outputs": [
    {
     "name": "stdout",
     "output_type": "stream",
     "text": [
      "error is -0.004407346410206792\n"
     ]
    }
   ],
   "source": [
    "random.seed(1)\n",
    "print(\"error is {}\".format(math.pi-estimate_pi(2000)))"
   ]
  },
  {
   "cell_type": "markdown",
   "id": "807987e2",
   "metadata": {},
   "source": [
    "#### Monte Carlo methods do not give very accurate answers but they provide a more general approach for calculating integrals\n",
    "\n",
    "In fact, the error varies as $N^{-\\frac{1}{2}}$, which is significantly more than the trapezoidal rule with error order $h^2$, where $h$ is the width of an integration slice. However Monte Carlo methods are more flexible and can be used where other methods break-down: for example, they are particularly useful for integrating functions where the integrand varies quickly (which is explored in the [Lesson exercises](https://nu-cem.github.io/CompPhys/2021/08/02/Random_exercises)), and/or where the integral is over many variables."
   ]
  },
  {
   "cell_type": "markdown",
   "id": "9061fb2c",
   "metadata": {},
   "source": [
    "-----\n",
    "Keypoints:\n",
    "- There are many different numerical methods for calculating integrals\n",
    "- Monte Carlo methods calculate the answers to exact calculations by doing random calculations\n",
    "- The Monte Carlo \"area method\" estimates integrals by generating a uniform sample of points and counting how many fall into a planar region\n",
    "- The Monte Carlo area method can be translated into Python code\n",
    "- Monte Carlo methods do not give very accurate answers but they provide a more general approach for calculating integrals"
   ]
  },
  {
   "cell_type": "markdown",
   "id": "4930a769",
   "metadata": {},
   "source": [
    "---\n",
    "\n",
    "Do [the quick-test](https://nu-cem.github.io/CompPhys/2021/08/02/Monte-Carlo-Qs.html).\n",
    "\n",
    "Back to [Calculating Integrals](https://nu-cem.github.io/CompPhys/2021/08/02/Integrals.html).\n",
    "\n",
    "---"
   ]
  },
  {
   "cell_type": "code",
   "execution_count": null,
   "id": "c14833f1",
   "metadata": {},
   "outputs": [],
   "source": []
  }
 ],
 "metadata": {
  "kernelspec": {
   "display_name": "Python 3",
   "language": "python",
   "name": "python3"
  },
  "language_info": {
   "codemirror_mode": {
    "name": "ipython",
    "version": 3
   },
   "file_extension": ".py",
   "mimetype": "text/x-python",
   "name": "python",
   "nbconvert_exporter": "python",
   "pygments_lexer": "ipython3",
   "version": "3.8.13"
  }
 },
 "nbformat": 4,
 "nbformat_minor": 5
}
