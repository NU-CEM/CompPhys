{
 "cells": [
  {
   "cell_type": "markdown",
   "id": "d0baa959",
   "metadata": {},
   "source": [
    "# Calculating integrals using Monte Carlo methods\n",
    "\n",
    "- toc:false\n",
    "- branch: master\n",
    "- badges: true\n",
    "- comments: false\n",
    "- hide: true"
   ]
  },
  {
   "cell_type": "markdown",
   "id": "fa502deb",
   "metadata": {},
   "source": [
    "-----\n",
    "Questions:\n",
    "- How do I generate random numbers?\n",
    "- How do I integrate using Monte Carlo methods?\n",
    "\n",
    "Objectives:\n",
    "- Use the `random` module to generate random numbers\n",
    "- Use Monte Carlo methods to calculate the area of a circle\n",
    "\n",
    "-----"
   ]
  },
  {
   "cell_type": "markdown",
   "id": "7c4e1974",
   "metadata": {},
   "source": [
    "-----\n",
    "\n",
    "Keypoints:\n"
   ]
  },
  {
   "cell_type": "markdown",
   "id": "58bf6587",
   "metadata": {},
   "source": [
    "---\n",
    "\n",
    "Do [the quick-test](https://nu-cem.github.io/CompPhys/2021/08/02/Monte-Carlo-Qs.html).\n",
    "\n",
    "Back to [Calculating Integrals](https://nu-cem.github.io/CompPhys/2021/08/02/Integrals.html).\n",
    "\n",
    "---"
   ]
  },
  {
   "cell_type": "code",
   "execution_count": null,
   "id": "c8dab313",
   "metadata": {},
   "outputs": [],
   "source": []
  }
 ],
 "metadata": {
  "kernelspec": {
   "display_name": "Python 3",
   "language": "python",
   "name": "python3"
  },
  "language_info": {
   "codemirror_mode": {
    "name": "ipython",
    "version": 3
   },
   "file_extension": ".py",
   "mimetype": "text/x-python",
   "name": "python",
   "nbconvert_exporter": "python",
   "pygments_lexer": "ipython3",
   "version": "3.8.13"
  }
 },
 "nbformat": 4,
 "nbformat_minor": 5
}
