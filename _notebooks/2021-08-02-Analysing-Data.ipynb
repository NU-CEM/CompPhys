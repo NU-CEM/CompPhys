{
 "cells": [
  {
   "cell_type": "markdown",
   "id": "saved-homeless",
   "metadata": {},
   "source": [
    "# Analysing data with NumPy\n",
    "\n",
    "- toc:false\n",
    "- branch: master\n",
    "- badges: true\n",
    "- comments: false\n",
    "- categories: [data, python]\n",
    "- hide: true"
   ]
  },
  {
   "cell_type": "markdown",
   "id": "several-intent",
   "metadata": {},
   "source": [
    "Questions:\n",
    "- How can I import and analyse tabular data files in Python?\n",
    "\n",
    "Objectives:\n",
    "- Read tabular data from a file into a program using `numpy`.\n",
    "- Select individual values and subsections from data.\n",
    "- Perform operations on arrays of data.\n",
    "\n",
    "Keypoints:\n",
    "- Use the `numpy` library to work with arrays in Python.\n",
    "- The expression `array.shape` gives the shape of an array.\n",
    "- Use `array[x, y]` to select a single element from a 2D array.\n",
    "- Array indices start at 0, not 1.\n",
    "- All the indexing and slicing that we've used on lists and strings also works on arrays.\n",
    "- Use `low:high` to specify a `slice` that includes indices from `low` to `high-1`.\n",
    "- Arithmetic operations are done element-by-element.\n",
    "- Use `numpy.mean(array)`, `numpy.max(array)`, and `numpy.min(array)` to calculate simple statistics.\n",
    "- Use `numpy.mean(array, axis=0)` or `numpy.mean(array, axis=1)` to calculate the mean along a particular column or row"
   ]
  },
  {
   "cell_type": "markdown",
   "id": "respected-assistant",
   "metadata": {},
   "source": [
    "### Use the numpy library to work with arrays in Python.\n",
    "\n",
    "In general you should use the [NumPy](http://docs.scipy.org/doc/numpy/)\n",
    "library if you want to do fancy things with numbers, especially if you have matrices or arrays. "
   ]
  },
  {
   "cell_type": "code",
   "execution_count": 3,
   "id": "alert-immune",
   "metadata": {},
   "outputs": [],
   "source": [
    "import numpy"
   ]
  },
  {
   "cell_type": "markdown",
   "id": "strange-brook",
   "metadata": {},
   "source": [
    "First lets ask the library to read our cleaned data\n",
    "file for us:"
   ]
  },
  {
   "cell_type": "code",
   "execution_count": 5,
   "id": "ancient-analysis",
   "metadata": {},
   "outputs": [
    {
     "data": {
      "text/plain": [
       "array([[ 4.47125000e-04,  6.55591000e-04,  8.64056000e-04, ...,\n",
       "         1.00000000e+01,  1.29667747e+00,  1.66669679e+00],\n",
       "       [-3.66223800e-03, -3.49741500e-03, -3.34321500e-03, ...,\n",
       "        -1.22419536e-01, -7.07442700e-03, -1.82473719e-01],\n",
       "       [ 2.23267300e-03,  2.29731000e-03,  2.47505900e-03, ...,\n",
       "         3.31975669e-01,  3.77199233e-01,  3.53418890e-02],\n",
       "       ...,\n",
       "       [ 1.20771340e-02,  1.22769590e-02,  1.24000520e-02, ...,\n",
       "         3.11538220e-02,  1.53292596e-01, -2.67419547e-01],\n",
       "       [ 3.98183100e-03,  4.22229500e-03,  4.32843200e-03, ...,\n",
       "        -1.33138746e-01, -6.67433520e-02,  1.55003861e-01],\n",
       "       [ 4.21040200e-03,  4.36906300e-03,  4.38802100e-03, ...,\n",
       "         8.95578190e-02,  8.41182170e-02,  1.43565789e-01]])"
      ]
     },
     "execution_count": 5,
     "metadata": {},
     "output_type": "execute_result"
    }
   ],
   "source": [
    "numpy.loadtxt(fname='../data/UVVis-01-cleaned.csv', delimiter=',')"
   ]
  },
  {
   "cell_type": "markdown",
   "id": "welsh-universal",
   "metadata": {},
   "source": [
    "The expression `numpy.loadtxt(...)` is a function call\n",
    "that asks Python to run the function `loadtxt` which\n",
    "belongs to the `numpy` library. \n",
    "\n",
    "`numpy.loadtxt` has two parameters: the name of the file\n",
    "we want to read and the delimeter that separates values on\n",
    "a line. These both need to be character strings \n",
    ", so we put them in quotes.\n",
    "\n",
    "\n",
    "Let's re-run\n",
    "`numpy.loadtxt` and save the returned data:"
   ]
  },
  {
   "cell_type": "code",
   "execution_count": 6,
   "id": "controlled-second",
   "metadata": {},
   "outputs": [],
   "source": [
    "data = numpy.loadtxt(fname='../data/UVVis-01-cleaned.csv', delimiter=',')"
   ]
  },
  {
   "cell_type": "markdown",
   "id": "domestic-cement",
   "metadata": {},
   "source": [
    "\n",
    "Remember, this statement doesn't produce any output because we've assigned the output to the variable `data`.\n",
    "If we want to check that the data have been loaded,\n",
    "we can print the variable's value:"
   ]
  },
  {
   "cell_type": "code",
   "execution_count": 7,
   "id": "narrative-british",
   "metadata": {},
   "outputs": [
    {
     "name": "stdout",
     "output_type": "stream",
     "text": [
      "[[ 4.47125000e-04  6.55591000e-04  8.64056000e-04 ...  1.00000000e+01\n",
      "   1.29667747e+00  1.66669679e+00]\n",
      " [-3.66223800e-03 -3.49741500e-03 -3.34321500e-03 ... -1.22419536e-01\n",
      "  -7.07442700e-03 -1.82473719e-01]\n",
      " [ 2.23267300e-03  2.29731000e-03  2.47505900e-03 ...  3.31975669e-01\n",
      "   3.77199233e-01  3.53418890e-02]\n",
      " ...\n",
      " [ 1.20771340e-02  1.22769590e-02  1.24000520e-02 ...  3.11538220e-02\n",
      "   1.53292596e-01 -2.67419547e-01]\n",
      " [ 3.98183100e-03  4.22229500e-03  4.32843200e-03 ... -1.33138746e-01\n",
      "  -6.67433520e-02  1.55003861e-01]\n",
      " [ 4.21040200e-03  4.36906300e-03  4.38802100e-03 ...  8.95578190e-02\n",
      "   8.41182170e-02  1.43565789e-01]]\n"
     ]
    }
   ],
   "source": [
    "print(data)"
   ]
  },
  {
   "cell_type": "markdown",
   "id": "constant-serbia",
   "metadata": {},
   "source": [
    "\n",
    "First,\n",
    "let's ask what type of thing `data` refers to:\n"
   ]
  },
  {
   "cell_type": "code",
   "execution_count": 8,
   "id": "requested-alaska",
   "metadata": {},
   "outputs": [
    {
     "name": "stdout",
     "output_type": "stream",
     "text": [
      "<class 'numpy.ndarray'>\n"
     ]
    }
   ],
   "source": [
    "print(type(data))"
   ]
  },
  {
   "cell_type": "markdown",
   "id": "severe-setting",
   "metadata": {},
   "source": [
    "The output tells us that `data` currently refers to\n",
    "an N-dimensional array, the functionality for which is provided by the NumPy library.\n",
    "The rows are the individual samples, and the columns\n",
    "are the absorption at each wavelength."
   ]
  },
  {
   "cell_type": "markdown",
   "id": "stylish-scratch",
   "metadata": {},
   "source": [
    "> Note: A Numpy array contains one or more elements\n",
    "of the same type. The `type` function will only tell you that\n",
    "a variable is a NumPy array but won't tell you the type of\n",
    "thing inside the array.\n",
    "We can find out the type\n",
    "of the data contained in the NumPy array using `print(data.dtype)`."
   ]
  },
  {
   "cell_type": "markdown",
   "id": "active-pension",
   "metadata": {},
   "source": [
    "### The expression `array.shape` gives the shape of an array.\n",
    "\n",
    "With the following command, we can see the array's shape:"
   ]
  },
  {
   "cell_type": "code",
   "execution_count": 10,
   "id": "silver-distance",
   "metadata": {},
   "outputs": [
    {
     "name": "stdout",
     "output_type": "stream",
     "text": [
      "(10, 1301)\n"
     ]
    }
   ],
   "source": [
    "print(data.shape)"
   ]
  },
  {
   "cell_type": "markdown",
   "id": "several-tobacco",
   "metadata": {},
   "source": [
    "The output tells us that the `data` array variable contains 10 rows and 1301 columns. When we\n",
    "created the variable `data` to store our absorption data, we didn't just create the array; we also\n",
    "created information about the array, called members or\n",
    "attributes. This extra information describes `data` in the same way an adjective describes a noun.\n",
    "`data.shape` is an attribute of `data` which describes the dimensions of `data`. We use the same\n",
    "dotted notation for the attributes of variables that we use for the functions in libraries because\n",
    "they have the same part-and-whole relationship.\n",
    "\n",
    "### Use `array[x, y]` to select a single element from a 2D array.\n",
    "\n",
    "If we want to get a single number from the array, we must provide an\n",
    "index in square brackets after the variable name, just as we\n",
    "do in math when referring to an element of a matrix.  Our absorption data has two dimensions, so\n",
    "we will need to use two indices to refer to one specific value:"
   ]
  },
  {
   "cell_type": "code",
   "execution_count": 11,
   "id": "typical-retailer",
   "metadata": {},
   "outputs": [
    {
     "name": "stdout",
     "output_type": "stream",
     "text": [
      "first value in data: 0.000447125\n"
     ]
    }
   ],
   "source": [
    "print('first value in data:', data[0, 0])"
   ]
  },
  {
   "cell_type": "code",
   "execution_count": 12,
   "id": "retired-paintball",
   "metadata": {},
   "outputs": [
    {
     "name": "stdout",
     "output_type": "stream",
     "text": [
      "middle value in data: 0.05236074\n"
     ]
    }
   ],
   "source": [
    "print('middle value in data:', data[5, 600])"
   ]
  },
  {
   "cell_type": "markdown",
   "id": "rotary-forest",
   "metadata": {},
   "source": [
    "### Array indices start at 0, not 1.\n",
    "\n",
    "The expression `data[5, 600]` accesses the element at row 5, column 600. While this expression may\n",
    "not surprise you,\n",
    " `data[0, 0]` might.\n",
    "Programming languages like Fortran, MATLAB and R start counting at 1\n",
    "because that's what human beings have done for thousands of years.\n",
    "Languages in the C family (including C++, Java, Perl, and Python) count from 0\n",
    "because it represents an offset from the first value in the array (the second\n",
    "value is offset by one index from the first value). This is closer to the way\n",
    "that computers represent arrays (if you are interested in the historical\n",
    "reasons behind counting indices from zero, you can read\n",
    "[Mike Hoye's blog post](http://exple.tive.org/blarg/2013/10/22/citation-needed/)).\n",
    "As a result,\n",
    "if we have an M×N array in Python,\n",
    "its indices go from 0 to M-1 on the first axis\n",
    "and 0 to N-1 on the second.\n",
    "It takes a bit of getting used to,\n",
    "but one way to remember the rule is that\n",
    "the index is how many steps we have to take from the start to get the item we want.\n",
    "\n"
   ]
  },
  {
   "cell_type": "markdown",
   "id": "voluntary-violence",
   "metadata": {},
   "source": [
    "![](../images/python-zero-index.png)"
   ]
  },
  {
   "cell_type": "markdown",
   "id": "sonic-anthropology",
   "metadata": {},
   "source": [
    "> Note: What may also surprise you is that when Python displays an array, it shows the element with index `[0, 0]` in the upper left corner\n",
    " rather than the lower left.\n",
    " This is consistent with the way mathematicians draw matrices\n",
    " but different from the Cartesian coordinates.\n",
    " The indices are (row, column) instead of (column, row) for the same reason,\n",
    " which can be confusing when plotting data."
   ]
  },
  {
   "cell_type": "markdown",
   "id": "worse-journalism",
   "metadata": {},
   "source": [
    "### All the indexing and slicing that we've used on lists and strings also works on arrays.\n",
    "\n",
    "An index like `[5, 600]` selects a single element of an array,\n",
    "but we can select whole sections as well.\n",
    "For example,\n",
    "we can select the first ten days (columns) of values\n",
    "for the first four patients (rows) like this:"
   ]
  },
  {
   "cell_type": "code",
   "execution_count": 14,
   "id": "contained-aerospace",
   "metadata": {},
   "outputs": [
    {
     "name": "stdout",
     "output_type": "stream",
     "text": [
      "[[ 0.00044712  0.00065559  0.00086406  0.00107252  0.00128099  0.00148945\n",
      "   0.00169792  0.00190638  0.00211485  0.00232331]\n",
      " [-0.00366224 -0.00349741 -0.00334322 -0.0036817  -0.00405294 -0.00324795\n",
      "  -0.00336376 -0.00375587 -0.00342078 -0.00319713]\n",
      " [ 0.00223267  0.00229731  0.00247506  0.00222341  0.00225055  0.00260366\n",
      "   0.00255431  0.00229944  0.00254705  0.00278302]\n",
      " [ 0.0060851   0.00631194  0.00641883  0.00616071  0.00553703  0.00655359\n",
      "   0.00648117  0.00620936  0.00630154  0.00666987]]\n"
     ]
    }
   ],
   "source": [
    "print(data[0:4, 0:10])"
   ]
  },
  {
   "cell_type": "markdown",
   "id": "handmade-miracle",
   "metadata": {},
   "source": [
    "### Use `low:high` to specify a `slice` that includes indices from `low` to `high-1`.\n",
    "\n",
    "The slice `0:4` means, \"Start at index 0 and go up to, but not\n",
    "including, index 4.\"Again, the up-to-but-not-including takes a bit of getting used to, but the\n",
    "rule is that the difference between the upper and lower bounds is the number of values in the slice.\n",
    "\n",
    "We don't have to start slices at 0:"
   ]
  },
  {
   "cell_type": "code",
   "execution_count": 15,
   "id": "lined-folks",
   "metadata": {},
   "outputs": [
    {
     "name": "stdout",
     "output_type": "stream",
     "text": [
      "[[0.01210117 0.01231773 0.01241982 0.01212973 0.01202739 0.01261753\n",
      "  0.01251138 0.01232068 0.01247477 0.01260437]\n",
      " [0.01206768 0.01227019 0.01239462 0.01212571 0.01220084 0.01219452\n",
      "  0.0122772  0.01225797 0.01248005 0.01262111]\n",
      " [0.01207713 0.01227696 0.01240005 0.01214027 0.01222512 0.01238692\n",
      "  0.01246438 0.01226141 0.01244613 0.01270402]\n",
      " [0.00398183 0.0042223  0.00432843 0.00407767 0.00415076 0.00426605\n",
      "  0.00438313 0.00419297 0.00439255 0.0046121 ]\n",
      " [0.0042104  0.00436906 0.00438802 0.00414603 0.0041499  0.00446744\n",
      "  0.00435411 0.00416835 0.00443187 0.00467494]]\n"
     ]
    }
   ],
   "source": [
    "print(data[5:10, 0:10])"
   ]
  },
  {
   "cell_type": "markdown",
   "id": "disciplinary-margin",
   "metadata": {},
   "source": [
    "We also don't have to include the upper and lower bound on the slice.  If we don't include the lower\n",
    "bound, Python uses 0 by default; if we don't include the upper, the slice runs to the end of the\n",
    "axis, and if we don't include either (i.e., if we just use ':' on its own), the slice includes\n",
    "everything:"
   ]
  },
  {
   "cell_type": "code",
   "execution_count": 16,
   "id": "looking-sacramento",
   "metadata": {},
   "outputs": [
    {
     "name": "stdout",
     "output_type": "stream",
     "text": [
      "small is:\n",
      "[[ 7.95187800e-03  8.16034400e-03  8.36880900e-03 ...  1.00000000e+01\n",
      "   1.29667747e+00  1.66669679e+00]\n",
      " [-2.69293800e-03 -2.44559000e-03 -2.69407000e-03 ... -1.22419536e-01\n",
      "  -7.07442700e-03 -1.82473719e-01]\n",
      " [ 3.43972300e-03  3.70568000e-03  3.41978900e-03 ...  3.31975669e-01\n",
      "   3.77199233e-01  3.53418890e-02]]\n"
     ]
    }
   ],
   "source": [
    "small = data[:3, 36:]\n",
    "print('small is:')\n",
    "print(small)"
   ]
  },
  {
   "cell_type": "code",
   "execution_count": null,
   "id": "wireless-transparency",
   "metadata": {},
   "outputs": [],
   "source": [
    "The above example selects rows 0 through 2 and columns 36 through to the end of the array."
   ]
  },
  {
   "cell_type": "markdown",
   "id": "missing-sailing",
   "metadata": {},
   "source": [
    "### Arithmetic operations are done element-by-element\n",
    "\n",
    "Arrays also know how to perform common mathematical operations on their values.  The simplest\n",
    "operations with data are arithmetic: addition, subtraction, multiplication, and division.  When you\n",
    "do such operations on arrays, the operation is done element-by-element.  Thus:"
   ]
  },
  {
   "cell_type": "code",
   "execution_count": 19,
   "id": "defensive-convenience",
   "metadata": {},
   "outputs": [],
   "source": [
    "doubledata = data * 2.0"
   ]
  },
  {
   "cell_type": "markdown",
   "id": "governing-bobby",
   "metadata": {},
   "source": [
    "will create a new array `doubledata`\n",
    "each element of which is twice the value of the corresponding element in `data`:"
   ]
  },
  {
   "cell_type": "code",
   "execution_count": 20,
   "id": "studied-cursor",
   "metadata": {},
   "outputs": [
    {
     "name": "stdout",
     "output_type": "stream",
     "text": [
      "original:\n",
      "[[ 7.95187800e-03  8.16034400e-03  8.36880900e-03 ...  1.00000000e+01\n",
      "   1.29667747e+00  1.66669679e+00]\n",
      " [-2.69293800e-03 -2.44559000e-03 -2.69407000e-03 ... -1.22419536e-01\n",
      "  -7.07442700e-03 -1.82473719e-01]\n",
      " [ 3.43972300e-03  3.70568000e-03  3.41978900e-03 ...  3.31975669e-01\n",
      "   3.77199233e-01  3.53418890e-02]]\n",
      "doubledata:\n",
      "[[ 1.59037560e-02  1.63206880e-02  1.67376180e-02 ...  2.00000000e+01\n",
      "   2.59335494e+00  3.33339357e+00]\n",
      " [-5.38587600e-03 -4.89118000e-03 -5.38814000e-03 ... -2.44839072e-01\n",
      "  -1.41488540e-02 -3.64947438e-01]\n",
      " [ 6.87944600e-03  7.41136000e-03  6.83957800e-03 ...  6.63951338e-01\n",
      "   7.54398466e-01  7.06837780e-02]]\n"
     ]
    }
   ],
   "source": [
    "print('original:')\n",
    "print(data[:3, 36:])\n",
    "print('doubledata:')\n",
    "print(doubledata[:3, 36:])"
   ]
  },
  {
   "cell_type": "markdown",
   "id": "civic-graphics",
   "metadata": {},
   "source": [
    "If, instead of taking an array and doing arithmetic with a single value (as above), you did the\n",
    "arithmetic operation with another array of the same shape, the operation will be done on\n",
    "corresponding elements of the two arrays.  Thus:"
   ]
  },
  {
   "cell_type": "code",
   "execution_count": 21,
   "id": "manual-hunger",
   "metadata": {},
   "outputs": [],
   "source": [
    "tripledata = doubledata + data"
   ]
  },
  {
   "cell_type": "markdown",
   "id": "congressional-psychology",
   "metadata": {},
   "source": [
    "will give you an array where `tripledata[0,0]` will equal `doubledata[0,0]` plus `data[0,0]`,\n",
    "and so on for all other elements of the arrays."
   ]
  },
  {
   "cell_type": "code",
   "execution_count": 22,
   "id": "neutral-scratch",
   "metadata": {},
   "outputs": [
    {
     "name": "stdout",
     "output_type": "stream",
     "text": [
      "tripledata:\n",
      "[[ 2.38556340e-02  2.44810320e-02  2.51064270e-02 ...  3.00000000e+01\n",
      "   3.89003241e+00  5.00009036e+00]\n",
      " [-8.07881400e-03 -7.33677000e-03 -8.08221000e-03 ... -3.67258608e-01\n",
      "  -2.12232810e-02 -5.47421157e-01]\n",
      " [ 1.03191690e-02  1.11170400e-02  1.02593670e-02 ...  9.95927007e-01\n",
      "   1.13159770e+00  1.06025667e-01]]\n"
     ]
    }
   ],
   "source": [
    "print('tripledata:')\n",
    "print(tripledata[:3, 36:])"
   ]
  },
  {
   "cell_type": "markdown",
   "id": "worse-illustration",
   "metadata": {},
   "source": [
    "### Use `numpy.mean(array)`, `numpy.max(array)`, and `numpy.min(array)` to calculate simple statistics.\n",
    "\n",
    "Often, we want to do more than add, subtract, multiply, and divide array elements.  NumPy knows how\n",
    "to do more complex operations, too.  If we want to find the average absorption for all samples across all wavelengths, for example, we can ask NumPy to compute `data`'s mean value:\n"
   ]
  },
  {
   "cell_type": "code",
   "execution_count": 23,
   "id": "stable-second",
   "metadata": {},
   "outputs": [
    {
     "name": "stdout",
     "output_type": "stream",
     "text": [
      "0.0814548568076864\n"
     ]
    }
   ],
   "source": [
    "print(numpy.mean(data))"
   ]
  },
  {
   "cell_type": "markdown",
   "id": "clean-oregon",
   "metadata": {},
   "source": [
    "`mean` is a function that takes\n",
    "an array as an argument."
   ]
  },
  {
   "cell_type": "markdown",
   "id": "dramatic-swimming",
   "metadata": {},
   "source": [
    "> Note: Generally, a function uses inputs to produce outputs.\n",
    " However, some functions produce outputs without\n",
    " needing any input. For example, checking the current time\n",
    " with `print(time.ctime())` doesn't require any input.\n",
    " For functions that don't take in any arguments,\n",
    " we still need parentheses `()`\n",
    " to tell Python to go and do something for us.\n"
   ]
  },
  {
   "cell_type": "markdown",
   "id": "characteristic-addition",
   "metadata": {},
   "source": [
    "NumPy has lots of useful functions that take an array as input.\n",
    "Let's use three of those functions to get some descriptive values about the dataset.\n",
    "We'll also use multiple assignment,\n",
    "a convenient Python feature that will enable us to do this all in one line."
   ]
  },
  {
   "cell_type": "code",
   "execution_count": 26,
   "id": "smoking-netscape",
   "metadata": {},
   "outputs": [
    {
     "name": "stdout",
     "output_type": "stream",
     "text": [
      "maximum absorption: 10.0\n",
      "minimum absorption: -1.036568046\n",
      "standard deviation: 0.24849228257073133\n"
     ]
    }
   ],
   "source": [
    "maxval, minval, stdval = numpy.max(data), numpy.min(data), numpy.std(data)\n",
    "\n",
    "print('maximum absorption:', maxval)\n",
    "print('minimum absorption:', minval)\n",
    "print('standard deviation:', stdval)"
   ]
  },
  {
   "cell_type": "markdown",
   "id": "comparable-laptop",
   "metadata": {},
   "source": [
    "Here we've assigned the return value from `numpy.max(data)` to the variable `maxval`, the value\n",
    "from `numpy.min(data)` to `minval`, and so on."
   ]
  },
  {
   "cell_type": "markdown",
   "id": "earlier-summer",
   "metadata": {},
   "source": [
    "### Use `numpy.mean(array, axis=0)` or `numpy.mean(array, axis=1)` to calculate the mean along a particular column or row\n",
    "\n",
    "When analyzing data, though,\n",
    "we often want to look at variations in statistical values,\n",
    "such as the maximum absorption per sample\n",
    "or the average absorption per wavelength.\n",
    "One way to do this is to create a new temporary array of the data we want,\n",
    "then ask it to do the calculation:"
   ]
  },
  {
   "cell_type": "code",
   "execution_count": 29,
   "id": "practical-strength",
   "metadata": {},
   "outputs": [
    {
     "name": "stdout",
     "output_type": "stream",
     "text": [
      "maximum absorption for sample 0: 10.0\n"
     ]
    }
   ],
   "source": [
    "sample_0 = data[0, :] # 0 on the first axis (rows), everything on the second (columns)\n",
    "print('maximum absorption for sample 0:', sample_0.max())"
   ]
  },
  {
   "cell_type": "markdown",
   "id": "shaped-indonesian",
   "metadata": {},
   "source": [
    "> Tip: Everything in a line of code following the '#' symbol is a\n",
    "comment that is ignored by Python.\n",
    "Comments allow programmers to leave explanatory notes for other\n",
    "programmers or their future selves.\n",
    "\n",
    "We don't actually need to store the row in a variable of its own.\n",
    "Instead, we can combine the selection and the function call:"
   ]
  },
  {
   "cell_type": "code",
   "execution_count": 30,
   "id": "common-transmission",
   "metadata": {},
   "outputs": [
    {
     "name": "stdout",
     "output_type": "stream",
     "text": [
      "maximum absorption for sample 2: 0.377199233\n"
     ]
    }
   ],
   "source": [
    "print('maximum absorption for sample 2:', numpy.max(data[2, :]))"
   ]
  },
  {
   "cell_type": "markdown",
   "id": "premier-stanley",
   "metadata": {},
   "source": [
    "What if we need the maximum absorption for each patient over all wavelengths (as in the\n",
    "next diagram on the left) or the average for each wavelength (as in the\n",
    "diagram on the right)? As the diagram below shows, we want to perform the\n",
    "operation across an axis:\n",
    "    \n",
    "![](../images/python-operations-across-axes.png)\n",
    "\n",
    "To support this functionality,\n",
    "most array functions allow us to specify the axis we want to work on.\n",
    "If we ask for the average across axis 0 (rows in our 2D example),\n",
    "we get:"
   ]
  },
  {
   "cell_type": "code",
   "execution_count": 32,
   "id": "private-contribution",
   "metadata": {},
   "outputs": [
    {
     "name": "stdout",
     "output_type": "stream",
     "text": [
      "[0.00556981 0.00575402 0.00588247 ... 1.07087656 0.34124763 0.27600167]\n"
     ]
    }
   ],
   "source": [
    "print(numpy.mean(data, axis=0))"
   ]
  },
  {
   "cell_type": "markdown",
   "id": "characteristic-blocking",
   "metadata": {},
   "source": [
    "As a quick check,\n",
    "we can ask this array what its shape is:"
   ]
  },
  {
   "cell_type": "code",
   "execution_count": 34,
   "id": "living-sitting",
   "metadata": {},
   "outputs": [
    {
     "name": "stdout",
     "output_type": "stream",
     "text": [
      "(1301,)\n"
     ]
    }
   ],
   "source": [
    "print(numpy.mean(data, axis=0).shape)"
   ]
  },
  {
   "cell_type": "markdown",
   "id": "tender-value",
   "metadata": {},
   "source": [
    "\n",
    "The expression `(1301,)` tells us we have an N×1 vector,\n",
    "so this is the average absorption per day for all samples.\n",
    "If we average across axis 1 (columns in our 2D example), we get:\n"
   ]
  },
  {
   "cell_type": "code",
   "execution_count": 36,
   "id": "charming-france",
   "metadata": {},
   "outputs": [
    {
     "name": "stdout",
     "output_type": "stream",
     "text": [
      "[0.13104075 0.02947129 0.02323768 0.08578812 0.07745822 0.10012283\n",
      " 0.10339795 0.09871813 0.08216419 0.08314941]\n"
     ]
    }
   ],
   "source": [
    "print(numpy.mean(data, axis=1))"
   ]
  },
  {
   "cell_type": "markdown",
   "id": "dependent-spine",
   "metadata": {},
   "source": [
    "\n",
    "\n",
    "which is the average absorption per sample across all wavelengths."
   ]
  },
  {
   "cell_type": "markdown",
   "id": "bronze-hometown",
   "metadata": {},
   "source": [
    "---\n",
    "\n",
    "Do [the quick-test](https://nu-cem.github.io/CompPhys/2021/08/02/Analysing-Data-Qs.html).\n",
    "\n",
    "Back to [data analysis and visualisation](https://nu-cem.github.io/CompPhys/2021/08/02/Data_analysis.html).\n",
    "\n",
    "---"
   ]
  }
 ],
 "metadata": {
  "kernelspec": {
   "display_name": "Python 3",
   "language": "python",
   "name": "python3"
  },
  "language_info": {
   "codemirror_mode": {
    "name": "ipython",
    "version": 3
   },
   "file_extension": ".py",
   "mimetype": "text/x-python",
   "name": "python",
   "nbconvert_exporter": "python",
   "pygments_lexer": "ipython3",
   "version": "3.8.5"
  }
 },
 "nbformat": 4,
 "nbformat_minor": 5
}
