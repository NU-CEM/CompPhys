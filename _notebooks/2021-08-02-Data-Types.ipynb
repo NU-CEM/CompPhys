{
 "cells": [
  {
   "cell_type": "markdown",
   "id": "linear-craft",
   "metadata": {},
   "source": [
    "# Data types and type conversion\n",
    "\n",
    "- toc:false\n",
    "- branch: master\n",
    "- badges: true\n",
    "- comments: false\n",
    "- categories: [python]\n",
    "- hide: true"
   ]
  },
  {
   "cell_type": "markdown",
   "id": "316bda90",
   "metadata": {},
   "source": [
    "---\n",
    "Questions:\n",
    "- What kinds of data do programs store?\n",
    "- How can I convert one type to another?\n",
    "\n",
    "Objectives:\n",
    "- Explain key differences between integers and floating point numbers.\n",
    "- Explain key differences between numbers and character strings.\n",
    "- Use built-in functions to convert between integers, floating point numbers, and strings.\n",
    "\n",
    "Keypoints:\n",
    "- Every value has a type.\n",
    "- Use the built-in function `type` to find the type of a value.\n",
    "- Types control what operations can be done on values.\n",
    "- Strings can be added and multiplied.\n",
    "- Use an index to get a single character from a string.\n",
    "- Use a slice to get a substring.\n",
    "- Use the built-in function `len` to find the length of a string.\n",
    "- Convert numbers to strings or vice versa when operating on them.\n",
    "- You can mix integers and floats freely in operations.\n",
    "- Variables only change value when something is assigned to them.\n",
    "---\n"
   ]
  },
  {
   "cell_type": "markdown",
   "id": "b4d6eb82",
   "metadata": {},
   "source": [
    "### Every value has a type.\n",
    "\n",
    "*   Every value in a program has a specific type.\n",
    "*   Integer (`int`): represents positive or negative whole numbers like 3 or -512.\n",
    "*   Floating point number (`float`): represents real numbers like 3.14159 or -2.5.\n",
    "*   Character string (usually called \"string\", `str`): text.\n",
    "    *   Written in either single quotes or double quotes (as long as they match).\n",
    "    *   The quote marks aren't printed when the string is displayed.\n",
    "\n"
   ]
  },
  {
   "cell_type": "markdown",
   "id": "51bbe794",
   "metadata": {},
   "source": [
    "### Use the built-in function `type` to find the type of a value.\n",
    "\n",
    "*   Use the built-in function `type` to find out what type a value has.\n",
    "*   Works on variables as well.\n",
    "    *   But remember: the *value* has the type --- the *variable* is just a label.\n",
    "\n"
   ]
  },
  {
   "cell_type": "code",
   "execution_count": 1,
   "id": "37b3b2ae",
   "metadata": {},
   "outputs": [
    {
     "name": "stdout",
     "output_type": "stream",
     "text": [
      "<class 'int'>\n"
     ]
    }
   ],
   "source": [
    "print(type(52))"
   ]
  },
  {
   "cell_type": "code",
   "execution_count": 2,
   "id": "bdefe619",
   "metadata": {},
   "outputs": [
    {
     "name": "stdout",
     "output_type": "stream",
     "text": [
      "<class 'str'>\n"
     ]
    }
   ],
   "source": [
    "fitness = 'average'\n",
    "print(type(fitness))"
   ]
  },
  {
   "cell_type": "markdown",
   "id": "5da2fefc",
   "metadata": {},
   "source": [
    "### Types control what operations (or methods) can be performed on a given value.\n",
    "\n",
    "*   A value's type determines what the program can do to it. For example, you can subtract two integers but not two strings."
   ]
  },
  {
   "cell_type": "code",
   "execution_count": 3,
   "id": "686e1417",
   "metadata": {},
   "outputs": [
    {
     "name": "stdout",
     "output_type": "stream",
     "text": [
      "2\n"
     ]
    }
   ],
   "source": [
    "print(5 - 3)"
   ]
  },
  {
   "cell_type": "code",
   "execution_count": 4,
   "id": "56d067c1",
   "metadata": {},
   "outputs": [
    {
     "ename": "TypeError",
     "evalue": "unsupported operand type(s) for -: 'str' and 'str'",
     "output_type": "error",
     "traceback": [
      "\u001b[0;31m---------------------------------------------------------------------------\u001b[0m",
      "\u001b[0;31mTypeError\u001b[0m                                 Traceback (most recent call last)",
      "\u001b[0;32m/var/folders/5q/mny3pg2n7h5g21h3v32rfj9wpykqrf/T/ipykernel_11287/13340790.py\u001b[0m in \u001b[0;36m<module>\u001b[0;34m\u001b[0m\n\u001b[0;32m----> 1\u001b[0;31m \u001b[0mprint\u001b[0m\u001b[0;34m(\u001b[0m\u001b[0;34m'hello'\u001b[0m \u001b[0;34m-\u001b[0m \u001b[0;34m'h'\u001b[0m\u001b[0;34m)\u001b[0m\u001b[0;34m\u001b[0m\u001b[0;34m\u001b[0m\u001b[0m\n\u001b[0m",
      "\u001b[0;31mTypeError\u001b[0m: unsupported operand type(s) for -: 'str' and 'str'"
     ]
    }
   ],
   "source": [
    "print('hello' - 'h')"
   ]
  },
  {
   "cell_type": "markdown",
   "id": "2c058659",
   "metadata": {},
   "source": [
    "### You can use the \"+\" and \"*\" operators on strings.\n",
    "\n",
    "*   \"Adding\" character strings concatenates them."
   ]
  },
  {
   "cell_type": "code",
   "execution_count": 5,
   "id": "4eb5501a",
   "metadata": {},
   "outputs": [
    {
     "name": "stdout",
     "output_type": "stream",
     "text": [
      "Ahmed Walsh\n"
     ]
    }
   ],
   "source": [
    "full_name = 'Ahmed' + ' ' + 'Walsh'\n",
    "print(full_name)"
   ]
  },
  {
   "cell_type": "markdown",
   "id": "4ca82c8d",
   "metadata": {},
   "source": [
    "*   Multiplying a character string by an integer _N_ creates a new string that consists of that character string repeated  _N_ times."
   ]
  },
  {
   "cell_type": "code",
   "execution_count": 6,
   "id": "66901659",
   "metadata": {},
   "outputs": [
    {
     "name": "stdout",
     "output_type": "stream",
     "text": [
      "==========\n"
     ]
    }
   ],
   "source": [
    "separator = '=' * 10\n",
    "print(separator)"
   ]
  },
  {
   "cell_type": "markdown",
   "id": "51c0b121",
   "metadata": {},
   "source": [
    "### You can index to get a single character from a string.\n",
    "\n",
    "*   The characters (individual letters, numbers, and so on) in a string are\n",
    "    ordered. For example, the string 'AB' is not the same as 'BA'. Because of\n",
    "    this ordering, we can treat the string as a list of characters.\n",
    "*   Each position in the string (first, second, etc.) is given a number. This\n",
    "    number is called an index or sometimes a subscript.\n",
    "*   Indices are numbered from 0.\n",
    "*   Use the position's index in square brackets to get the character at that\n",
    "    position."
   ]
  },
  {
   "cell_type": "code",
   "execution_count": 7,
   "id": "374c1481",
   "metadata": {},
   "outputs": [
    {
     "name": "stdout",
     "output_type": "stream",
     "text": [
      "h\n"
     ]
    }
   ],
   "source": [
    "atom_name = 'helium'\n",
    "print(atom_name[0])"
   ]
  },
  {
   "cell_type": "markdown",
   "id": "986801eb",
   "metadata": {},
   "source": [
    "### Use a slice to get a substring.\n",
    "\n",
    "*   A slice is a part of a string\n",
    "*   We take a slice by using `[start:stop]`, where `start` is replaced with the\n",
    "    index of the first element we want and `stop` is replaced with the index of\n",
    "    the element just after the last element we want.\n",
    "*   Mathematically, you might say that a slice selects `[start:stop)`.\n",
    "*   The difference between stop and start is the slice's length.\n",
    "*   Taking a slice does not change the contents of the original string. Instead,\n",
    "    the slice is a copy of part of the original string.\n",
    "*   You can slice any list-like thing and we will come back to slicing several times in this course"
   ]
  },
  {
   "cell_type": "code",
   "execution_count": 9,
   "id": "f7cc699d",
   "metadata": {},
   "outputs": [
    {
     "name": "stdout",
     "output_type": "stream",
     "text": [
      "um\n"
     ]
    }
   ],
   "source": [
    "atom_name = 'sodium'\n",
    "print(atom_name[4:6])"
   ]
  },
  {
   "cell_type": "markdown",
   "id": "77e96cf8",
   "metadata": {},
   "source": [
    "\n",
    "### Use the built-in function `len` to find the length of a string."
   ]
  },
  {
   "cell_type": "code",
   "execution_count": 11,
   "id": "ddb9505d",
   "metadata": {},
   "outputs": [
    {
     "name": "stdout",
     "output_type": "stream",
     "text": [
      "6\n"
     ]
    }
   ],
   "source": [
    "print(len('helium'))"
   ]
  },
  {
   "cell_type": "markdown",
   "id": "4252d838",
   "metadata": {},
   "source": [
    "*   Nested functions are evaluated from the inside out, just like in mathematics.\n",
    "*   `len` is a built-in function because it is always available - you do not need to import a particular library to access it\n",
    "*   Numbers do not have a length"
   ]
  },
  {
   "cell_type": "code",
   "execution_count": 12,
   "id": "082c9eed",
   "metadata": {},
   "outputs": [
    {
     "ename": "TypeError",
     "evalue": "object of type 'int' has no len()",
     "output_type": "error",
     "traceback": [
      "\u001b[0;31m---------------------------------------------------------------------------\u001b[0m",
      "\u001b[0;31mTypeError\u001b[0m                                 Traceback (most recent call last)",
      "\u001b[0;32m/var/folders/5q/mny3pg2n7h5g21h3v32rfj9wpykqrf/T/ipykernel_11287/2246900780.py\u001b[0m in \u001b[0;36m<module>\u001b[0;34m\u001b[0m\n\u001b[0;32m----> 1\u001b[0;31m \u001b[0mprint\u001b[0m\u001b[0;34m(\u001b[0m\u001b[0mlen\u001b[0m\u001b[0;34m(\u001b[0m\u001b[0;36m52\u001b[0m\u001b[0;34m)\u001b[0m\u001b[0;34m)\u001b[0m\u001b[0;34m\u001b[0m\u001b[0;34m\u001b[0m\u001b[0m\n\u001b[0m",
      "\u001b[0;31mTypeError\u001b[0m: object of type 'int' has no len()"
     ]
    }
   ],
   "source": [
    "print(len(52))"
   ]
  },
  {
   "cell_type": "markdown",
   "id": "6292ac99",
   "metadata": {},
   "source": [
    "\n",
    "### Convert numbers to strings or vice versa when operating on them.\n",
    "\n",
    "*   You cannot add numbers and strings."
   ]
  },
  {
   "cell_type": "code",
   "execution_count": 15,
   "id": "a272a890",
   "metadata": {},
   "outputs": [
    {
     "ename": "TypeError",
     "evalue": "unsupported operand type(s) for +: 'int' and 'str'",
     "output_type": "error",
     "traceback": [
      "\u001b[0;31m---------------------------------------------------------------------------\u001b[0m",
      "\u001b[0;31mTypeError\u001b[0m                                 Traceback (most recent call last)",
      "\u001b[0;32m/var/folders/5q/mny3pg2n7h5g21h3v32rfj9wpykqrf/T/ipykernel_11287/3905401405.py\u001b[0m in \u001b[0;36m<module>\u001b[0;34m\u001b[0m\n\u001b[0;32m----> 1\u001b[0;31m \u001b[0mprint\u001b[0m\u001b[0;34m(\u001b[0m\u001b[0;36m1\u001b[0m \u001b[0;34m+\u001b[0m \u001b[0;34m'2'\u001b[0m\u001b[0;34m)\u001b[0m\u001b[0;34m\u001b[0m\u001b[0;34m\u001b[0m\u001b[0m\n\u001b[0m",
      "\u001b[0;31mTypeError\u001b[0m: unsupported operand type(s) for +: 'int' and 'str'"
     ]
    }
   ],
   "source": [
    "print(1 + '2')"
   ]
  },
  {
   "cell_type": "markdown",
   "id": "c09f4d36",
   "metadata": {},
   "source": [
    "\n",
    "\n",
    "*   This is not allowed because it's ambiguous: should `1 + '2'` be `3` or `'12'`?\n",
    "*   Some types can be converted to other types by using the type name as a function."
   ]
  },
  {
   "cell_type": "code",
   "execution_count": 16,
   "id": "109e636a",
   "metadata": {},
   "outputs": [
    {
     "name": "stdout",
     "output_type": "stream",
     "text": [
      "3\n",
      "12\n"
     ]
    }
   ],
   "source": [
    "print(1 + int('2'))\n",
    "print(str(1) + '2')"
   ]
  },
  {
   "cell_type": "markdown",
   "id": "3606094a",
   "metadata": {},
   "source": [
    "### You can mix integers and floats freely in operations.\n",
    "\n",
    "*   Integers and floating-point numbers can be mixed in arithmetic.\n",
    "*   Python 3 automatically converts integers to floats as needed. \n"
   ]
  },
  {
   "cell_type": "code",
   "execution_count": 17,
   "id": "9b790bf9",
   "metadata": {},
   "outputs": [
    {
     "name": "stdout",
     "output_type": "stream",
     "text": [
      "half is 0.5\n",
      "three squared is 9.0\n"
     ]
    }
   ],
   "source": [
    "print('half is', 1 / 2.0)\n",
    "print('three squared is', 3.0 ** 2)"
   ]
  },
  {
   "cell_type": "markdown",
   "id": "56d173b2",
   "metadata": {},
   "source": [
    "### Variables only change value when something is assigned to them.\n",
    "\n",
    "*   If we make one cell in a spreadsheet depend on another,\n",
    "    and update the latter,\n",
    "    the former updates automatically.\n",
    "*   This does **not** happen in programming languages."
   ]
  },
  {
   "cell_type": "code",
   "execution_count": 18,
   "id": "495ec656",
   "metadata": {},
   "outputs": [
    {
     "name": "stdout",
     "output_type": "stream",
     "text": [
      "first is 2 and second is 5\n"
     ]
    }
   ],
   "source": [
    "first = 1\n",
    "second = 5 * first\n",
    "first = 2\n",
    "print('first is', first, 'and second is', second)"
   ]
  },
  {
   "cell_type": "markdown",
   "id": "5f818161",
   "metadata": {},
   "source": [
    "*   The computer reads the value of `first` when doing the multiplication,\n",
    "    creates a new value, and assigns it to `second`.\n",
    "*   The value of `second` is not updated when we re-assign the value of `first`."
   ]
  },
  {
   "cell_type": "markdown",
   "id": "3190c34b",
   "metadata": {},
   "source": [
    "> Tip: By now we have seen plenty of Error messages. **Don't be afraid of Error messages** - they won't break the computer! In the next lesson we will learn how to use these messages to fix our code more efficiently."
   ]
  },
  {
   "cell_type": "markdown",
   "id": "38938058",
   "metadata": {},
   "source": [
    "---\n",
    "\n",
    "Do [the quick-test](https://nu-cem.github.io/CompPhys/2021/08/02/Data-Types-Qs.html).\n",
    "\n",
    "Back to [Python part one](https://nu-cem.github.io/CompPhys/2021/08/02/Python_basics_one.html).\n",
    "\n",
    "---"
   ]
  },
  {
   "cell_type": "code",
   "execution_count": null,
   "id": "0a4dd18c",
   "metadata": {},
   "outputs": [],
   "source": []
  }
 ],
 "metadata": {
  "kernelspec": {
   "display_name": "Python 3",
   "language": "python",
   "name": "python3"
  },
  "language_info": {
   "codemirror_mode": {
    "name": "ipython",
    "version": 3
   },
   "file_extension": ".py",
   "mimetype": "text/x-python",
   "name": "python",
   "nbconvert_exporter": "python",
   "pygments_lexer": "ipython3",
   "version": "3.8.5"
  }
 },
 "nbformat": 4,
 "nbformat_minor": 5
}
