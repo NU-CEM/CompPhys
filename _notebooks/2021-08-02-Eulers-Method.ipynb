{
 "cells": [
  {
   "cell_type": "markdown",
   "id": "progressive-fields",
   "metadata": {},
   "source": [
    "# Euler's method\n",
    "\n",
    "- toc:false\n",
    "- branch: master\n",
    "- badges: true\n",
    "- comments: false\n",
    "- categories: [mathematics, numerical recipes]\n",
    "- hide: true"
   ]
  },
  {
   "cell_type": "markdown",
   "id": "fantastic-complex",
   "metadata": {},
   "source": [
    "Questions:\n",
    "- How do I use Euler's method to solve a first-order ODE?\n",
    "\n",
    "Objectives:\n",
    "\n",
    "\n",
    "Keypoints:\n",
    "\n"
   ]
  },
  {
   "cell_type": "markdown",
   "id": "consecutive-thesis",
   "metadata": {},
   "source": [
    "---\n",
    "\n",
    "Do [the quick-test](https://nu-cem.github.io/CompPhys/2021/08/02/Eulers-Method-Qs.html).\n",
    "\n",
    "Back to [Modelling with Ordinary Differential Equations](https://nu-cem.github.io/CompPhys/2021/08/02/ODEs.html).\n",
    "\n",
    "---"
   ]
  },
  {
   "cell_type": "code",
   "execution_count": null,
   "id": "square-significance",
   "metadata": {},
   "outputs": [],
   "source": []
  }
 ],
 "metadata": {
  "kernelspec": {
   "display_name": "Python 3",
   "language": "python",
   "name": "python3"
  },
  "language_info": {
   "codemirror_mode": {
    "name": "ipython",
    "version": 3
   },
   "file_extension": ".py",
   "mimetype": "text/x-python",
   "name": "python",
   "nbconvert_exporter": "python",
   "pygments_lexer": "ipython3",
   "version": "3.8.5"
  }
 },
 "nbformat": 4,
 "nbformat_minor": 5
}
