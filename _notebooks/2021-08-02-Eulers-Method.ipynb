{
 "cells": [
  {
   "cell_type": "markdown",
   "id": "least-lobby",
   "metadata": {},
   "source": [
    "# Euler's method\n",
    "\n",
    "- toc:false\n",
    "- branch: master\n",
    "- badges: true\n",
    "- comments: false\n",
    "- categories: [mathematics, numerical recipes]\n",
    "- hide: true"
   ]
  },
  {
   "cell_type": "markdown",
   "id": "recovered-retreat",
   "metadata": {},
   "source": [
    "# 📐 Euler's method 📐"
   ]
  },
  {
   "cell_type": "markdown",
   "id": "subsequent-timeline",
   "metadata": {},
   "source": [
    "-------\n",
    "Questions:\n",
    "- How do I use Euler's method to solve a first-order ODE?\n",
    "\n",
    "\n",
    "\n",
    "--------\n",
    "\n"
   ]
  },
  {
   "cell_type": "markdown",
   "id": "refined-perth",
   "metadata": {},
   "source": [
    "---------\n",
    "Objectives:\n",
    "\n",
    "------"
   ]
  },
  {
   "cell_type": "markdown",
   "id": "according-intake",
   "metadata": {},
   "source": [
    "### There are a variety of ways to solve an ODE\n",
    "\n",
    "In the previous lesson we considered nuclear decay:\n",
    "\n",
    "\\begin{equation}\n",
    "\\frac{d N}{d t} = -\\lambda N\n",
    "\\end{equation}\n",
    "\n",
    "We could model the number of atoms $N$ by finding an analytic solution through integration:\n",
    "\n",
    "\\\\begin{equation}\n",
    "N = N_0 e^{-\\lambda t}\n",
    "\\end{equation}\n",
    "\n",
    "However there is more than one way to crack an egg (or solve a differential equation). We could have, instead, used "
   ]
  },
  {
   "cell_type": "markdown",
   "id": "mighty-shoulder",
   "metadata": {},
   "source": [
    "----\n",
    "\n",
    "Keypoints:\n",
    "\n",
    "-----"
   ]
  },
  {
   "cell_type": "markdown",
   "id": "separate-stake",
   "metadata": {},
   "source": [
    "---\n",
    "\n",
    "Do [the quick-test](https://nu-cem.github.io/CompPhys/2021/08/02/Eulers-Method-Qs.html).\n",
    "\n",
    "Back to [Modelling with Ordinary Differential Equations](https://nu-cem.github.io/CompPhys/2021/08/02/ODEs.html).\n",
    "\n",
    "---"
   ]
  },
  {
   "cell_type": "code",
   "execution_count": null,
   "id": "alike-verification",
   "metadata": {},
   "outputs": [],
   "source": []
  }
 ],
 "metadata": {
  "kernelspec": {
   "display_name": "Python 3",
   "language": "python",
   "name": "python3"
  },
  "language_info": {
   "codemirror_mode": {
    "name": "ipython",
    "version": 3
   },
   "file_extension": ".py",
   "mimetype": "text/x-python",
   "name": "python",
   "nbconvert_exporter": "python",
   "pygments_lexer": "ipython3",
   "version": "3.8.5"
  }
 },
 "nbformat": 4,
 "nbformat_minor": 5
}
