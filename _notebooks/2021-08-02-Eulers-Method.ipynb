{
 "cells": [
  {
   "cell_type": "markdown",
   "id": "sharp-section",
   "metadata": {},
   "source": [
    "# Euler's method\n",
    "\n",
    "- toc: false\n",
    "- branch: master\n",
    "- badges: true\n",
    "- comments: false\n",
    "- categories: [mathematics, numerical recipes]\n",
    "- hide: true"
   ]
  },
  {
   "cell_type": "markdown",
   "id": "suffering-convention",
   "metadata": {},
   "source": [
    "# 📐 Euler's method 📐"
   ]
  },
  {
   "cell_type": "markdown",
   "id": "alpha-candidate",
   "metadata": {},
   "source": [
    "-------\n",
    "Questions:\n",
    "- How do I use Euler's method to solve a first-order ODE?\n",
    "\n",
    "\n",
    "\n",
    "--------\n",
    "\n"
   ]
  },
  {
   "cell_type": "markdown",
   "id": "stone-probe",
   "metadata": {},
   "source": [
    "---------\n",
    "Objectives:\n",
    "- Use Euler's method, implemented in Python, to solve a first-order ODE\n",
    "- Understand that this method is approximate and the significance of step size $h$\n",
    "- Compare results at different levels of approximation using the `matplotlib` library.\n",
    "------"
   ]
  },
  {
   "cell_type": "markdown",
   "id": "ignored-tuner",
   "metadata": {},
   "source": [
    "### There are a variety of ways to solve an ODE\n",
    "\n",
    "In the previous lesson we considered nuclear decay:\n",
    "\n",
    "\\begin{equation}\n",
    "\\frac{d N}{d t} = -\\lambda N\n",
    "\\end{equation}\n",
    "\n",
    "This is one of the simplest examples of am ODE - a first-order, linear, separable differential equation with one dependent variable. We saw that we could model the number of atoms $N$ by finding an analytic solution through integration:\n",
    "\n",
    "\\\\begin{equation}\n",
    "N = N_0 e^{-\\lambda t}\n",
    "\\end{equation}\n",
    "\n",
    "However there is more than one way to crack an egg (or solve a differential equation). We could have, instead, used an approximate, numerical method."
   ]
  },
  {
   "cell_type": "markdown",
   "id": "social-trunk",
   "metadata": {},
   "source": [
    "### Computers don't care whether a differential equation is linear or non-linear\n",
    "\n",
    "Many of the equations we are interested in are not so friendly. \n",
    "\n",
    "For example, the Lotka-Volterra equations for studying predator-prey interactions have multiple dependent variables and the Cahn-Hilliard equation for modelling phase separation in fluids is non-linear. These equations can be solved analytically for particular, special cases only.\n",
    "\n",
    "Computers don't care whether an equation is linear or non-linear, the numerical method for studying it is the same - with the caveat that numerical methods are approximate and so we need to think about the accuracy of the methods used."
   ]
  },
  {
   "cell_type": "markdown",
   "id": "robust-courage",
   "metadata": {},
   "source": [
    "### A function can be approximated using a Taylor expansion\n",
    "\n",
    "Let's return to our example of nuclear decay:\n",
    "\n",
    "\\begin{equation}\n",
    "\\frac{dN}{dt} = f(N,t),\n",
    "\\end{equation}\n",
    "\n",
    "where \n",
    "\n",
    "\\begin{equation}\n",
    "f(N,t) = -\\lambda N.\n",
    "\\end{equation}\n",
    "\n",
    "We can use a <nark>Taylor expansion</mark> to write the value of $N$ a short interval $h$ later:\n",
    "\n",
    "\\begin{equation}\n",
    "N(t+h) = N(t) + h\\frac{dN}{dt} + \\frac{1}{2}h^2\\frac{d^2N}{dt^2} + \\ldots\n",
    "\\end{equation}\n",
    "\n",
    "\\begin{equation}\n",
    "N(t+h) = N(t) + hf(N,t) + \\mathcal{O}(h^2)\n",
    "\\end{equation}"
   ]
  },
  {
   "cell_type": "markdown",
   "id": "optical-developer",
   "metadata": {},
   "source": [
    "*If you have forgotten what a Taylor expansion is, there is a lovely video explanation below from user `3blue1brown` on Youtube:*\n",
    "\n",
    "> youtube: https://www.youtube.com/watch?v=3d6DsjIBzJ4"
   ]
  },
  {
   "cell_type": "markdown",
   "id": "continued-impossible",
   "metadata": {},
   "source": [
    "### If the step size $h$ is small then higher  order terms can be neglected\n",
    "\n",
    "If $h$ is small and $h^2$ is very small we can neglect the terms in $h^2$ and higher and we get:\n",
    "\n",
    "\\begin{equation}\n",
    "N(t+h) = N(t) + hf(N,t).\n",
    "\\end{equation}\n",
    "\n"
   ]
  },
  {
   "cell_type": "markdown",
   "id": "prepared-rough",
   "metadata": {},
   "source": [
    "### Euler's method can be used to approximate the solution of differential equations\n",
    "\n",
    "We can keep applying the equation above so that we calculate $N(t)$ at a succession of equally spaced points for as  long as we want. If $h$ is small enough we can get a good approximation to the solution of the equation. This method for solving differential equations is called Euler's method, after Leonhard Euler, its inventor.\n",
    "\n",
    "![](../images/Euler_method.png)"
   ]
  },
  {
   "cell_type": "markdown",
   "id": "hazardous-sessions",
   "metadata": {},
   "source": [
    "> Note: Although we are neglecting terms $h^2$ and higher, Euler's method has an error linear in $h$ as the error accumulates over repeated steps. This means that if we want to double the accuracy of our calculation we need to double the number of steps, and double the calcuation time."
   ]
  },
  {
   "cell_type": "markdown",
   "id": "loaded-midwest",
   "metadata": {},
   "source": [
    "> Note: So far we have looked at an example where the input (or independent variable) is time. This isn't always the case - but it is the most common case in physics, as we are often interested in how things evolve with time."
   ]
  },
  {
   "cell_type": "markdown",
   "id": "integrated-entrepreneur",
   "metadata": {},
   "source": [
    "### Euler's method can be applied using the Python skills we have developed\n",
    "\n",
    "Let's use Euler's method to solve the differential equation for nuclear decay. We will model the decay process over a period of 10 seconds, with the decay constant $\\lambda=0.1$ and the initial condition $N_0 = 1000$.\n",
    "\n",
    "\\begin{equation}\n",
    "\\frac{d N}{d t} = -0.1 N\n",
    "\\end{equation}\n"
   ]
  },
  {
   "cell_type": "markdown",
   "id": "worthy-static",
   "metadata": {},
   "source": [
    "First, let's import the standard scientific libraries we will be using - Numpy and  Matplotlib:"
   ]
  },
  {
   "cell_type": "code",
   "execution_count": 38,
   "id": "allied-validity",
   "metadata": {},
   "outputs": [],
   "source": [
    "import numpy as np\n",
    "import matplotlib.pyplot as plt"
   ]
  },
  {
   "cell_type": "markdown",
   "id": "judicial-acceptance",
   "metadata": {},
   "source": [
    "Let's definte the function $f(N,t)$ which describes the rate of decay. In this case, the function depends only on the number of atoms present."
   ]
  },
  {
   "cell_type": "code",
   "execution_count": 39,
   "id": "constitutional-reverse",
   "metadata": {},
   "outputs": [],
   "source": [
    "# define the function for nuclear decay\n",
    "def f(Num_atoms):\n",
    "    return -0.1*Num_atoms"
   ]
  },
  {
   "cell_type": "markdown",
   "id": "behavioral-arabic",
   "metadata": {},
   "source": [
    "Next we'll list the simulation parameters and initial conditions: start time, end time, number of starting atoms (which is an initial condition), number of time steps and step size (which is calculated using the number of time steps)."
   ]
  },
  {
   "cell_type": "code",
   "execution_count": 40,
   "id": "printable-blond",
   "metadata": {},
   "outputs": [],
   "source": [
    "a = 0                  # start time\n",
    "b = 10                 # end time\n",
    "Num_atoms = 1000       # initial condition\n",
    "num_steps = 5         # number of time steps\n",
    "h = (b-a) / num_steps  # time step size"
   ]
  },
  {
   "cell_type": "markdown",
   "id": "christian-original",
   "metadata": {},
   "source": [
    "We use the Numpy `arange` function to generate a list of evenly spaced times at which to evaluate the number of atoms. We also create  an empty list to hold the values for $N$ that we are yet to calculate."
   ]
  },
  {
   "cell_type": "code",
   "execution_count": 41,
   "id": "breeding-trading",
   "metadata": {},
   "outputs": [],
   "source": [
    "# use the Numpy arange function to generate a list of evenly spaced times at which to evaluate the number of atoms N.\n",
    "time_list = np.arange(a,b,h)\n",
    "\n",
    "# create an empty list to hold the calculated N values\n",
    "Num_atoms_list = []"
   ]
  },
  {
   "cell_type": "markdown",
   "id": "acute-david",
   "metadata": {},
   "source": [
    "Finally, we apply Euler's method using a `For` loop. Note that the order of operations in the loop body is important."
   ]
  },
  {
   "cell_type": "code",
   "execution_count": 42,
   "id": "supposed-birthday",
   "metadata": {},
   "outputs": [],
   "source": [
    "# apply Euler's method. Note that the order of operations in the loop body is important.\n",
    "for time in time_list:\n",
    "    Num_atoms_list.append(Num_atoms)\n",
    "    Num_atoms += h*f(Num_atoms)"
   ]
  },
  {
   "cell_type": "markdown",
   "id": "identified-canberra",
   "metadata": {},
   "source": [
    "### We can easily visualise our results, and compare against the analytical solution, using the `matplotlib` plotting library"
   ]
  },
  {
   "cell_type": "code",
   "execution_count": 43,
   "id": "norwegian-cylinder",
   "metadata": {},
   "outputs": [
    {
     "data": {
      "image/png": "[encoded data removed]",
      "text/plain": [
       "<Figure size 432x288 with 1 Axes>"
      ]
     },
     "metadata": {
      "needs_background": "light"
     },
     "output_type": "display_data"
    }
   ],
   "source": [
    "plt.scatter(time_list, Num_atoms_list)\n",
    "plt.xlabel(\"time\")\n",
    "plt.ylabel(\"Number of atoms\")\n",
    "plt.show()"
   ]
  },
  {
   "cell_type": "markdown",
   "id": "legitimate-serbia",
   "metadata": {},
   "source": [
    "Using the analytic solution from the previous lesson, we can define a function for calculating the number of atoms $N$ as a function of time (this is the exact solution)."
   ]
  },
  {
   "cell_type": "code",
   "execution_count": 44,
   "id": "architectural-collection",
   "metadata": {},
   "outputs": [],
   "source": [
    "def analytic_solution(time):\n",
    "    return 1000*np.exp(-0.1*time)"
   ]
  },
  {
   "cell_type": "markdown",
   "id": "reliable-cleanup",
   "metadata": {},
   "source": [
    "We can use this to calculate the exact value for $N$ over the full time range. Note that we use a large number of points in time (in this case 1000) to give a nice smooth curve:"
   ]
  },
  {
   "cell_type": "code",
   "execution_count": 45,
   "id": "beneficial-courtesy",
   "metadata": {},
   "outputs": [],
   "source": [
    "num_steps = 1000\n",
    "h = (b-a) / num_steps\n",
    "time_analytic_list = np.arange(a,b,h)\n",
    "Num_atoms_analytic_list = []\n",
    "\n",
    "for time in time_analytic_list:\n",
    "    Num_atoms_analytic_list.append(analytic_solution(time))"
   ]
  },
  {
   "cell_type": "markdown",
   "id": "imperial-communications",
   "metadata": {},
   "source": [
    "Finally, we plot the approximate Euler method results against the exact analytical solution:"
   ]
  },
  {
   "cell_type": "code",
   "execution_count": 46,
   "id": "consistent-success",
   "metadata": {},
   "outputs": [
    {
     "data": {
      "text/plain": [
       "Text(0, 0.5, 'Number of atoms')"
      ]
     },
     "execution_count": 46,
     "metadata": {},
     "output_type": "execute_result"
    },
    {
     "data": {
      "image/png": "[encoded data removed]",
      "text/plain": [
       "<Figure size 432x288 with 1 Axes>"
      ]
     },
     "metadata": {
      "needs_background": "light"
     },
     "output_type": "display_data"
    }
   ],
   "source": [
    "plt.plot(time_analytic_list,Num_atoms_analytic_list)\n",
    "plt.scatter(time_list, Num_atoms_list)\n",
    "plt.xlabel(\"time\")\n",
    "plt.ylabel(\"Number of atoms\")"
   ]
  },
  {
   "cell_type": "markdown",
   "id": "proper-barrier",
   "metadata": {},
   "source": [
    "----\n",
    "\n",
    "Keypoints:\n",
    "\n",
    "- There are a variety of ways to solve an ODE\n",
    "- Computers don't care whether a differential equation is linear or non-linear\n",
    "- A function can be approximated using a Taylor expansion\n",
    "- If the step size $h$ is small then higher  order terms can be neglected\n",
    "- Euler's method can be used to approximate the solution of differential equations\n",
    "- Euler's method can be applied using the Python skills we have developed\n",
    "- We can easily visualise our results, and compare against the analytical solution, using the matplotlib plotting library\n",
    "-----"
   ]
  },
  {
   "cell_type": "markdown",
   "id": "exclusive-contamination",
   "metadata": {},
   "source": [
    "---\n",
    "\n",
    "Do [the quick-test](https://nu-cem.github.io/CompPhys/2021/08/02/Eulers-Method-Qs.html).\n",
    "\n",
    "Back to [Modelling with Ordinary Differential Equations](https://nu-cem.github.io/CompPhys/2021/08/02/ODEs.html).\n",
    "\n",
    "---"
   ]
  },
  {
   "cell_type": "code",
   "execution_count": 35,
   "id": "usual-nicaragua",
   "metadata": {},
   "outputs": [
    {
     "data": {
      "text/plain": [
       "array([0])"
      ]
     },
     "execution_count": 35,
     "metadata": {},
     "output_type": "execute_result"
    }
   ],
   "source": [
    "time_analytic_list"
   ]
  },
  {
   "cell_type": "code",
   "execution_count": null,
   "id": "accurate-trinidad",
   "metadata": {},
   "outputs": [],
   "source": []
  }
 ],
 "metadata": {
  "kernelspec": {
   "display_name": "Python 3",
   "language": "python",
   "name": "python3"
  },
  "language_info": {
   "codemirror_mode": {
    "name": "ipython",
    "version": 3
   },
   "file_extension": ".py",
   "mimetype": "text/x-python",
   "name": "python",
   "nbconvert_exporter": "python",
   "pygments_lexer": "ipython3",
   "version": "3.8.5"
  }
 },
 "nbformat": 4,
 "nbformat_minor": 5
}
