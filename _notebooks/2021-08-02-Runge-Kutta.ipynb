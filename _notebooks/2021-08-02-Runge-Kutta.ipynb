{
 "cells": [
  {
   "cell_type": "markdown",
   "id": "recreational-present",
   "metadata": {},
   "source": [
    "# Runge-Kutta method\n",
    "\n",
    "- toc:false\n",
    "- branch: master\n",
    "- badges: true\n",
    "- comments: false\n",
    "- categories: [mathematics, numerical recipes]\n",
    "- hide: true"
   ]
  },
  {
   "cell_type": "markdown",
   "id": "square-space",
   "metadata": {},
   "source": [
    "-----\n",
    "Questions:\n",
    "- How do I use the Runge-Kutta method for more accurate solutions?\n",
    "\n",
    "Objectives:\n",
    "- Use the Runge-Kutta method, implemented in Python, to solve a first-order ODE\n",
    "- Compare results at different levels of approximation using the `matplotlib` library.\n",
    "\n",
    "-----"
   ]
  },
  {
   "cell_type": "markdown",
   "id": "4ad5646e",
   "metadata": {},
   "source": [
    "### The Runge-Kutta method is more accurate than Euler's method and runs just as fast\n",
    "\n",
    "So far we have used Euler's method for solving ODEs. We have learnt that, using this method, the final expression for the total error is linear in $h$. However for roughly the same compute time we can reduce the total error so it is of order $h^2$ by implementing another method - the <bold>Runge-Kutta method</bold>.\n",
    "\n",
    "> Note: It is common to use the Runge-Kutta method for solving ODEs given the improved accuracy over Euler's method. However Euler's method is still commonly used for PDEs (where there are other, larger, sources of error).\n",
    "\n",
    "> Info: The Runge-Kutta method is actually a family of methods. In fact, Euler's method is the first-order Runge-Kutta method. There is then the second-order Runge-Kutta method, third-order Runge-Kutta method, and so on.."
   ]
  },
  {
   "cell_type": "markdown",
   "id": "0d39eeeb",
   "metadata": {},
   "source": [
    "Euler's method does not take into account the curvature of the solution, whilst Runge-Kutta methods do, by calculating the gradient at intermediate points in the (time-)step. For example, in the image below we see two estimates to the blue line. Euler's method is equivalent to the orange line, where we have taken the slope at time $t$ and extrapolated it to $t+h$. A Runge-Kutta type method performs extrapolation using the slope (or slopes) at an intermediate time (or multiple intermediate times). In this case, the green line formed from the slope at $t+\\frac{h}2$ gives a better approximation at $t+h$. This green line is a visual representation of the second-order Runge Kutta method, which is also known as the \"midpoint method\".\n",
    "\n",
    "![](../images/RK2.png)"
   ]
  },
  {
   "cell_type": "markdown",
   "id": "945ea024",
   "metadata": {},
   "source": [
    "### Runge-Kutta methods are derived from Taylor expansion(s) around intermediate point(s)\n",
    "\n",
    "To derive the second-order Runge-Kutta method we:\n",
    "\n",
    "1) estimate $x(t+h)$ using a Taylor expansion around $t+\\frac{h}{2}$:\n",
    "\n",
    "\n",
    "\\begin{equation}\n",
    "x(t+h) = x(t+\\frac{h}{2}) + \\frac{h}{2}\\left(\\frac{\\mathrm{d}x}{\\mathrm{d}t}\\right)_{t+\\frac{h}{2}} + \\frac{h^2}{8}\\left(\\frac{\\mathrm{d}^2x}{\\mathrm{d}t^2}\\right)_{t+\\frac{h}{2}}+\\mathcal{O}(h^3)\n",
    "\\end{equation}\n",
    "\n",
    "2) estimate $x(t)$ using a Taylor expansion around $t+\\frac{h}{2}$:\n",
    "\n",
    "\\begin{equation}\n",
    "x(t) = x(t+\\frac{h}{2}) - \\frac{h}{2}\\left(\\frac{\\mathrm{d}x}{\\mathrm{d}t}\\right)_{t+\\frac{h}{2}} + \\frac{h^2}{8}\\left(\\frac{\\mathrm{d}^2x}{\\mathrm{d}t^2}\\right)_{t+\\frac{h}{2}}+\\mathcal{O}(h^3)\n",
    "\\end{equation}\n",
    "\n",
    "3) Subtract Equation 2 from Equation 1 and re-arrange:\n",
    "\n",
    "\\begin{eqnarray}\n",
    "x(t+h) &=& x(t) + h\\left(\\frac{\\mathrm{d}x}{\\mathrm{d}t}\\right))_{t+\\frac{h}{2}}+\\mathcal{O}(h^3) \\\\\n",
    "x(t+h) &=& x(t) + hf(x(t+\\frac{h}{2}),t+\\frac{h}{2})+\\mathcal{O}(h^3)\n",
    "\\end{eqnarray}\n",
    "\n",
    "Note that the $h^2$ term has completely disappeared, and the error term is now order $h^3$. We can say that this approximation is now accurate to order $h^2$.\n",
    "\n",
    "The problem is that this requires knowledge of $x(t+\\frac{h}{2})$ which we don't currently have. We can however estimate this using the Euler method!\n",
    "\n",
    "\\begin{equation}\n",
    "x(t+\\frac{h}{2}) = x(t) + \\frac{h}{2}f(x,t).\n",
    "\\end{equation}\n",
    "\n",
    "Substituting this into Equation 3 above, we can write the method for a single step as follows:\n",
    "\n",
    "\\begin{eqnarray}\n",
    "k_1 &=& hf(x,t) \\\\\n",
    "k_2 &=& hf(x+\\frac{k_1}{2},t+\\frac{h}{2})\\\\\n",
    "x(t+h) &=& x(t) + k_2\n",
    "\\end{eqnarray}\n",
    "\n",
    "See how $k_1$ is used to give an estimate for $x(t+\\frac{h}{2})$ ($k_2$), which is then substituted into the third equation to give an estimate for  $x(t+h)$.\n",
    "\n",
    "> Info: Higher orde Runge-Kutta methods can be derived in a similar way - by calculating the Taylor series around various points and then taking a linear combination of the resulting expansions. As we increase the number of intermediate points, we increase the accuracy of the method. The downside is that the equations get increasingly complicated. \n"
   ]
  },
  {
   "cell_type": "markdown",
   "id": "fb0bf161",
   "metadata": {},
   "source": [
    " ### Runge-Kutta methods can be applied using the Python skills we have developed\n",
    " \n",
    "To demonstrate the Runge-Kutta method with a simple example, we will re-visit the differential equation for nuclear decay. We will model the decay process over a period of 10 seconds, with the decay constant $\\lambda=0.1$ and the initial condition $N_0 = 1000$:\n",
    "\n",
    "\\begin{equation}\n",
    "\\frac{\\mathrm{d}N}{\\mathrm{d} t} = -0.1 N\n",
    "\\end{equation}\n"
   ]
  },
  {
   "cell_type": "markdown",
   "id": "worthy-static",
   "metadata": {},
   "source": [
    "First, let's import the standard scientific libraries we will be using - Numpy and  Matplotlib:"
   ]
  },
  {
   "cell_type": "code",
   "execution_count": 1,
   "id": "allied-validity",
   "metadata": {},
   "outputs": [],
   "source": [
    "import numpy as np\n",
    "import matplotlib.pyplot as plt"
   ]
  },
  {
   "cell_type": "markdown",
   "id": "judicial-acceptance",
   "metadata": {},
   "source": [
    "Let's definte the function $f(N,t)$ which describes the rate of decay. In this case, the function depends only on the number of atoms present."
   ]
  },
  {
   "cell_type": "code",
   "execution_count": 2,
   "id": "constitutional-reverse",
   "metadata": {},
   "outputs": [],
   "source": [
    "# define the function for nuclear decay\n",
    "def f(Num_atoms):\n",
    "    return -0.1*Num_atoms"
   ]
  },
  {
   "cell_type": "markdown",
   "id": "behavioral-arabic",
   "metadata": {},
   "source": [
    "Next we'll list the simulation parameters: start time, end time, number of time steps and step size (which is calculated using the number of time steps). For comparison, these will be the same as we used for Euler's method."
   ]
  },
  {
   "cell_type": "code",
   "execution_count": 3,
   "id": "printable-blond",
   "metadata": {},
   "outputs": [],
   "source": [
    "a = 0                  # start time\n",
    "b = 10                 # end time\n",
    "num_steps = 5         # number of time steps\n",
    "h = (b-a) / num_steps  # time step size"
   ]
  },
  {
   "cell_type": "markdown",
   "id": "dce42905",
   "metadata": {},
   "source": [
    "We then specify the initial conditions - which in this case is the number of atoms to begin with:"
   ]
  },
  {
   "cell_type": "code",
   "execution_count": 4,
   "id": "b9112c02",
   "metadata": {},
   "outputs": [],
   "source": [
    "Num_atoms = 1000       # initial condition"
   ]
  },
  {
   "cell_type": "markdown",
   "id": "christian-original",
   "metadata": {},
   "source": [
    "We use the Numpy `arange` function to generate a list of evenly spaced times at which to evaluate the number of atoms. We also create  an empty list to hold the values for $N$ over time."
   ]
  },
  {
   "cell_type": "code",
   "execution_count": 5,
   "id": "breeding-trading",
   "metadata": {},
   "outputs": [],
   "source": [
    "# use the Numpy arange function to generate a list of evenly spaced times at which to evaluate the number of atoms N.\n",
    "time_list = np.arange(a,b,h)\n",
    "\n",
    "# create an empty list to hold the calculated N values\n",
    "Num_atoms_list = []"
   ]
  },
  {
   "cell_type": "markdown",
   "id": "acute-david",
   "metadata": {},
   "source": [
    "Finally, we apply second-order Runge-Kutta method using a `For` loop. "
   ]
  },
  {
   "cell_type": "code",
   "execution_count": 6,
   "id": "supposed-birthday",
   "metadata": {},
   "outputs": [],
   "source": [
    "# apply Runge-Kutta method. \n",
    "for time in time_list:\n",
    "    Num_atoms_list.append(Num_atoms)\n",
    "    k1 = h*f(Num_atoms)\n",
    "    k2 = h*f(Num_atoms+0.5*k1)\n",
    "    Num_atoms += k2"
   ]
  },
  {
   "cell_type": "markdown",
   "id": "identified-canberra",
   "metadata": {},
   "source": [
    "### We can easily compare our various models using the `matplotlib` plotting library"
   ]
  },
  {
   "cell_type": "markdown",
   "id": "legitimate-serbia",
   "metadata": {},
   "source": [
    "Using the analytic solution from a previous lesson, we can define a function for calculating the number of atoms $N$ as a function of time (this is the exact solution)."
   ]
  },
  {
   "cell_type": "code",
   "execution_count": 7,
   "id": "architectural-collection",
   "metadata": {},
   "outputs": [],
   "source": [
    "def analytic_solution(time):\n",
    "    return 1000*np.exp(-0.1*time)"
   ]
  },
  {
   "cell_type": "markdown",
   "id": "reliable-cleanup",
   "metadata": {},
   "source": [
    "We can use this to calculate the exact value for $N$ over the full time range. We use a large number of points in time (in this case 1000) to give a nice smooth curve - note that we have renamed the variables for the analytic case so we do not override the original calculation parameters."
   ]
  },
  {
   "cell_type": "code",
   "execution_count": 8,
   "id": "beneficial-courtesy",
   "metadata": {},
   "outputs": [],
   "source": [
    "num_steps_analytic = 1000\n",
    "h_analytic = (b-a) / num_steps_analytic\n",
    "time_analytic_list = np.arange(a,b,h_analytic)\n",
    "Num_atoms_analytic_list = []\n",
    "\n",
    "for time in time_analytic_list:\n",
    "    Num_atoms_analytic_list.append(analytic_solution(time))"
   ]
  },
  {
   "cell_type": "markdown",
   "id": "5e85781a",
   "metadata": {},
   "source": [
    "We can also re-calculate the atom population using Euler's method for comparison to the Runge-Kutta method:"
   ]
  },
  {
   "cell_type": "code",
   "execution_count": 9,
   "id": "f7d3c09d",
   "metadata": {},
   "outputs": [],
   "source": [
    "Num_atoms = 1000\n",
    "Num_atoms_euler_list = []\n",
    "\n",
    "for time in time_list:\n",
    "    Num_atoms_euler_list.append(Num_atoms)\n",
    "    Num_atoms += h*f(Num_atoms)"
   ]
  },
  {
   "cell_type": "markdown",
   "id": "e902f44d",
   "metadata": {},
   "source": [
    "Finally we plot all three models side-by-side:"
   ]
  },
  {
   "cell_type": "code",
   "execution_count": 10,
   "id": "5f2b0343",
   "metadata": {},
   "outputs": [
    {
     "data": {
      "text/plain": [
       "<matplotlib.legend.Legend at 0x12a014e20>"
      ]
     },
     "execution_count": 10,
     "metadata": {},
     "output_type": "execute_result"
    },
    {
     "data": {
      "image/png": "[encoded data removed]",
      "text/plain": [
       "<Figure size 432x288 with 1 Axes>"
      ]
     },
     "metadata": {
      "needs_background": "light"
     },
     "output_type": "display_data"
    }
   ],
   "source": [
    "plt.plot(time_analytic_list,Num_atoms_analytic_list,label=\"analytic\")\n",
    "plt.scatter(time_list, Num_atoms_list,label=\"Runge-Kutta (second-order)\")\n",
    "plt.scatter(time_list, Num_atoms_euler_list,label=\"Euler's method\")\n",
    "plt.xlabel(\"time\")\n",
    "plt.ylabel(\"Number of atoms\")\n",
    "plt.legend()"
   ]
  },
  {
   "cell_type": "markdown",
   "id": "7bdfc71e",
   "metadata": {},
   "source": [
    "Keypoints:\n",
    "- The Runge-Kutta method is more accurate than Euler's method and runs just as fast\n",
    "- Runge-Kutta methods are derived from Taylor expansion(s) around intermediate point(s)\n",
    "- Runge-Kutta methods can be applied using the Python skills we have developed\n",
    "- We can easily compare our various models using the `matplotlib` plotting library"
   ]
  },
  {
   "cell_type": "markdown",
   "id": "strategic-trauma",
   "metadata": {},
   "source": [
    "---\n",
    "\n",
    "Do [the quick-test](https://nu-cem.github.io/CompPhys/2021/08/02/Runge-Kutta-Qs.html).\n",
    "\n",
    "Back to [Modelling with Ordinary Differential Equations](https://nu-cem.github.io/CompPhys/2021/08/02/ODEs.html).\n",
    "\n",
    "---"
   ]
  },
  {
   "cell_type": "code",
   "execution_count": 11,
   "id": "generous-satin",
   "metadata": {},
   "outputs": [
    {
     "data": {
      "text/plain": [
       "<matplotlib.legend.Legend at 0x129fb0f10>"
      ]
     },
     "execution_count": 11,
     "metadata": {},
     "output_type": "execute_result"
    },
    {
     "data": {
      "image/png": "[encoded data removed]",
      "text/plain": [
       "<Figure size 432x288 with 1 Axes>"
      ]
     },
     "metadata": {
      "needs_background": "light"
     },
     "output_type": "display_data"
    }
   ],
   "source": [
    "import matplotlib.pyplot as plt\n",
    "import numpy as np\n",
    "\n",
    "x = np.arange(0,100)\n",
    "y = ((x-2)**2)-0.01*x**3\n",
    "dy_30 = 29*x-(870-514)\n",
    "dy_55 = 15.25*x-(1145.25-1455)\n",
    "plt.plot(x,y)\n",
    "plt.plot(x,dy_30,label=r'Slope at $t$')\n",
    "plt.plot(x,dy_55,label=r'Slope at $t+\\frac{h}{2}$')\n",
    "plt.scatter(30,514,marker='o',color='black')\n",
    "plt.scatter(80,964,marker='o',color='black')\n",
    "#plt.scatter(80,1964,marker='x',color='black')\n",
    "#plt.scatter(80, 1529.65,marker='x',color='black')\n",
    "plt.xticks([30,80],[r'$t$',r'$t+h$'])\n",
    "plt.yticks([])\n",
    "plt.legend()"
   ]
  },
  {
   "cell_type": "code",
   "execution_count": null,
   "id": "e236754b",
   "metadata": {},
   "outputs": [],
   "source": []
  }
 ],
 "metadata": {
  "kernelspec": {
   "display_name": "Python 3 (ipykernel)",
   "language": "python",
   "name": "python3"
  },
  "language_info": {
   "codemirror_mode": {
    "name": "ipython",
    "version": 3
   },
   "file_extension": ".py",
   "mimetype": "text/x-python",
   "name": "python",
   "nbconvert_exporter": "python",
   "pygments_lexer": "ipython3",
   "version": "3.9.6"
  }
 },
 "nbformat": 4,
 "nbformat_minor": 5
}
