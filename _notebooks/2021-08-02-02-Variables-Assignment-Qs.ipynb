{
 "cells": [
  {
   "cell_type": "markdown",
   "id": "f1e3dd9b",
   "metadata": {},
   "source": [
    "# Variables and assignment - Quick test questions\n",
    "\n",
    "- toc:false\n",
    "- branch: master\n",
    "- badges: true\n",
    "- comments: false\n",
    "- categories: [python, quick-test]\n",
    "- hide: true"
   ]
  },
  {
   "cell_type": "markdown",
   "id": "af33efdd",
   "metadata": {},
   "source": [
    "## Swapping Values\n",
    "\n",
    "Fill the table showing the values of the variables in this program **after** each statement is executed.\n",
    "\n",
    "| Command | Value of x   | Value of y   | Value of swap |\n",
    "| ------- | ----------   | ----------   | ------------- |\n",
    "|x = 1.0    |              |              |               |\n",
    "|y = 3.0    |             |              |               |\n",
    "|swap = x   |               |              |               |\n",
    "|x = y      |                         |              |               |\n",
    "|y = swap   |                       |              |               |\n",
    "\n"
   ]
  },
  {
   "cell_type": "markdown",
   "id": "90c90a22",
   "metadata": {},
   "source": [
    "{::options parse_block_html=\"true\" /}"
   ]
  },
  {
   "cell_type": "markdown",
   "id": "1b51de0e",
   "metadata": {},
   "source": [
    "\n",
    "<details>\n",
    "  <summary markdown='span'/>Show answer</summary>\n",
    "\n",
    "| Command | Value of x   | Value of y   | Value of swap |\n",
    "| ------- | ----------   | ----------   | ------------- |\n",
    "|x = 1.0  | 1.0          | not defined  | not defined   |\n",
    "|y = 3.0  | 1.0          | 3.0          | not defined   |\n",
    "|swap = x | 1.0          | 3.0          | 1.0           |\n",
    "|x = y    | 3.0          | 3.0          | 1.0           |\n",
    "|y = swap | 3.0          | 1.0          | 1.0           |\n",
    "\n",
    "These three lines exchange the values in `x` and `y` using the `swap` variable for temporary storage. \n",
    "This is a fairly common programming idiom.   \n",
    "</details>\n",
    "\n"
   ]
  },
  {
   "cell_type": "markdown",
   "id": "199bff62",
   "metadata": {},
   "source": [
    "{::options parse_block_html=\"false\" /}"
   ]
  },
  {
   "cell_type": "markdown",
   "id": "b54ef3e9",
   "metadata": {},
   "source": [
    "## Predicting Values\n",
    "\n",
    " What is the final value of `position` in the program below? (Try to predict the value without running the program,\n",
    "then check your prediction.)\n",
    "\n",
    "~~~python\n",
    "initial = 'left'\n",
    "position = initial\n",
    "initial = 'right'\n",
    "~~~"
   ]
  },
  {
   "cell_type": "markdown",
   "id": "78a26cfb",
   "metadata": {},
   "source": [
    "<details>\n",
    "  <summary>Show answer</summary>\n",
    "\n",
    "The final value of position is `'left'`.\n",
    "\n",
    "The `initial` variable is assigned the value 'left'. In the second line, the `position` variable also receives the string value 'left'. In third line, the `initial` variable is given the value 'right', but the `position` variable retains its string value of 'left'.  \n",
    "</details>\n"
   ]
  },
  {
   "cell_type": "markdown",
   "id": "9942bd77",
   "metadata": {},
   "source": [
    "## Choosing a Name\n",
    "\n",
    "Which is a better variable name, `m`, `min`, or `minutes`?\n",
    "Why?\n",
    "\n",
    "Hint: think about which code you would rather inherit from someone who is leaving the lab:\n",
    "~~~python\n",
    "ts = m * 60 + s\n",
    "tot_sec = min * 60 + sec\n",
    "total_seconds = minutes * 60 + seconds\n",
    "~~~\n",
    "\n",
    "\n"
   ]
  },
  {
   "cell_type": "markdown",
   "id": "67653ade",
   "metadata": {},
   "source": [
    "<details>\n",
    "  <summary>Show answer</summary>\n",
    "    \n",
    "`minutes` is better because `min` might mean something like \"minimum\" (and actually does in Python, but we haven't seen that yet).\n",
    "</details>\n"
   ]
  },
  {
   "cell_type": "markdown",
   "id": "7b19e42c",
   "metadata": {},
   "source": [
    "```{toggle} Click the button to reveal!\n",
    ":show:\n",
    "Some hidden toggle content!\n",
    "\n",
    "\n",
    "```"
   ]
  },
  {
   "cell_type": "code",
   "execution_count": null,
   "id": "f27af47d",
   "metadata": {},
   "outputs": [],
   "source": []
  }
 ],
 "metadata": {
  "kernelspec": {
   "display_name": "Python 3 (ipykernel)",
   "language": "python",
   "name": "python3"
  },
  "language_info": {
   "codemirror_mode": {
    "name": "ipython",
    "version": 3
   },
   "file_extension": ".py",
   "mimetype": "text/x-python",
   "name": "python",
   "nbconvert_exporter": "python",
   "pygments_lexer": "ipython3",
   "version": "3.9.6"
  }
 },
 "nbformat": 4,
 "nbformat_minor": 5
}
