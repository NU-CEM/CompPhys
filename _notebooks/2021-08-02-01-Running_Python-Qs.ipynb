{
 "cells": [
  {
   "cell_type": "markdown",
   "id": "5086ecfb",
   "metadata": {},
   "source": [
    "# Running python - Quick test questions\n",
    "\n",
    "- toc:false\n",
    "- branch: master\n",
    "- badges: true\n",
    "- comments: false\n",
    "- categories: [python, quick-test]\n",
    "- hide: true"
   ]
  },
  {
   "cell_type": "markdown",
   "id": "ebbf40ae",
   "metadata": {},
   "source": [
    "## Creating Lists in Markdown\n",
    "\n",
    "Create a nested list in a Markdown cell in a notebook that looks like this:\n",
    "\n",
    "1.  Get funding.\n",
    "2.  Do work.\n",
    "    *   Design experiment.\n",
    "    *   Collect data.\n",
    "    *   Analyze.\n",
    "3.  Write up.\n",
    "4.  Publish.\n"
   ]
  },
  {
   "cell_type": "markdown",
   "id": "68a20712",
   "metadata": {},
   "source": [
    "<details>\n",
    "  <summary>Show answer</summary>\n",
    "\n",
    "Note that the bullet list is indented 2 spaces so that it is inline with the items of the numbered list.\n",
    "~~~\n",
    "1.  Get funding.\n",
    "2.  Do work.\n",
    "    *   Design experiment.\n",
    "    *   Collect data.\n",
    "    *   Analyze.\n",
    "3.  Write up.\n",
    "4.  Publish.\n",
    "~~~\n",
    "</details>"
   ]
  },
  {
   "cell_type": "markdown",
   "id": "3d8c2470",
   "metadata": {},
   "source": [
    "## Multiple Maths\n",
    "\n",
    "What is displayed when a Python cell in a notebook\n",
    "that contains several calculations is executed?\n",
    "For example, what happens when this cell is executed?\n",
    "\n",
    "~~~python\n",
    "7 * 3\n",
    "2 + 1\n",
    "~~~\n"
   ]
  },
  {
   "cell_type": "markdown",
   "id": "351b6799",
   "metadata": {},
   "source": [
    "<details>\n",
    "  <summary>Show answer</summary>\n",
    "\n",
    "Python returns the output of the last calculation. The output is:\n",
    "~~~python\n",
    "3\n",
    "~~~\n",
    "\n",
    "</details>"
   ]
  },
  {
   "cell_type": "markdown",
   "id": "00d0599c",
   "metadata": {},
   "source": [
    "## Equations\n",
    "\n",
    "Standard Markdown (such as we're using for these notes) won't render equations, but the Notebook will.\n",
    "Create a new Markdown cell and enter the following:\n",
    "\n",
    "~~~\n",
    "$\\sum_{i=1}^{N} 2^{-i} \\approx 1$\n",
    "~~~\n",
    "\n",
    "(It's probably easier to copy and paste.) What does it display? What do you think the underscore, `_`, circumflex, `^`, and dollar sign, `$`, do?\n"
   ]
  },
  {
   "cell_type": "markdown",
   "id": "7cd4fc78",
   "metadata": {},
   "source": [
    "<details>\n",
    "  <summary>Show answer</summary>\n",
    "\n",
    "The notebook shows the equation as it would be rendered from [LaTeX]() equation syntax.\n",
    "\n",
    "- The dollar sign, `$`, is used to tell markdown that the text in between is a latex equation.\n",
    "- underscore, `_`, is used for subscripts\n",
    "- circumflex, `^`, is used for superscripts.\n",
    "- A pair of curly braces, `{` and `}`, is used to group text together so that the statement `i=1` becomes the the subscript and `N` becomes the superscript.\n",
    "- Similarly, `-i` is in curly braces to make the whole statement the superscript for `2`.\n",
    "- `\\sum` and `\\approx` are latex commands for \"sum over\" and \"approximate\" symbols. \n",
    "\n",
    "</details>\n"
   ]
  },
  {
   "cell_type": "code",
   "execution_count": null,
   "id": "a744ceec",
   "metadata": {},
   "outputs": [],
   "source": []
  }
 ],
 "metadata": {
  "kernelspec": {
   "display_name": "Python 3 (ipykernel)",
   "language": "python",
   "name": "python3"
  },
  "language_info": {
   "codemirror_mode": {
    "name": "ipython",
    "version": 3
   },
   "file_extension": ".py",
   "mimetype": "text/x-python",
   "name": "python",
   "nbconvert_exporter": "python",
   "pygments_lexer": "ipython3",
   "version": "3.9.6"
  }
 },
 "nbformat": 4,
 "nbformat_minor": 5
}
