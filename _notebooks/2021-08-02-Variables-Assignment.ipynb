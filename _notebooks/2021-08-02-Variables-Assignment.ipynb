{
 "cells": [
  {
   "cell_type": "markdown",
   "id": "59337621",
   "metadata": {},
   "source": [
    "# Variables and assignment\n",
    "\n",
    "- toc:false\n",
    "- branch: master\n",
    "- badges: true\n",
    "- comments: false\n",
    "- categories: [python]\n",
    "- hide: true"
   ]
  },
  {
   "cell_type": "markdown",
   "id": "c7e477ed",
   "metadata": {},
   "source": [
    "---\n",
    "\n",
    "Questions:\n",
    "- How can I store data in programs?\n",
    "\n",
    "Objectives:\n",
    "- Write programs that assign scalar values to variables and perform calculations with those values.\n",
    "- Correctly trace value changes in programs that use scalar assignment.\n",
    "\n",
    "Keypoints:\n",
    "- Use variables to store values.\n",
    "- Use `print` to display values.\n",
    "- Variables must be created before they are used.\n",
    "- Variables persist between cells.\n",
    "- Variables can be used in calculations.\n",
    "- Python is case-sensitive.\n",
    "- Use valid and meaningful variable names.\n",
    "---\n",
    "\n"
   ]
  },
  {
   "cell_type": "markdown",
   "id": "0beeaf91",
   "metadata": {},
   "source": [
    "### Use variables to store values.\n",
    "\n",
    "*   Variables are names for values.\n",
    "*   In Python the `=` symbol assigns the value on the right to the name on the left.\n",
    "*   The variable is created when a value is assigned to it.\n",
    "*   Here, Python assigns an age to a variable `age` and a name in quotes to a variable `first_name`."
   ]
  },
  {
   "cell_type": "code",
   "execution_count": 3,
   "id": "9bfc663d",
   "metadata": {},
   "outputs": [],
   "source": [
    "age = 42\n",
    "first_name = 'Ahmed'"
   ]
  },
  {
   "cell_type": "markdown",
   "id": "4f6b316d",
   "metadata": {},
   "source": [
    "\n",
    "\n",
    "\n"
   ]
  },
  {
   "cell_type": "markdown",
   "id": "7946612d",
   "metadata": {},
   "source": [
    "### Use `print` to display values.\n",
    "\n",
    "*   Python has a built-in function called `print` that prints things as text.\n",
    "*   Call the function (i.e., tell Python to run it) by using its name.\n",
    "*   Provide values to the function (i.e., the things to print) in parentheses.\n",
    "*   To add a string to the printout, wrap the string in single or double quotes.\n",
    "*   The values passed to the function are called 'arguments'"
   ]
  },
  {
   "cell_type": "code",
   "execution_count": 6,
   "id": "ac5da8f7",
   "metadata": {},
   "outputs": [
    {
     "name": "stdout",
     "output_type": "stream",
     "text": [
      "Ahmed is 42 years old\n"
     ]
    }
   ],
   "source": [
    "print(first_name, 'is', age, 'years old')"
   ]
  },
  {
   "cell_type": "markdown",
   "id": "39b2efba",
   "metadata": {},
   "source": [
    "\n",
    "\n",
    "*   `print` automatically puts a single space between items to separate them.\n",
    "*   And wraps around to a new line at the end."
   ]
  },
  {
   "cell_type": "markdown",
   "id": "ed56515b",
   "metadata": {},
   "source": [
    "\n",
    "\n",
    "### Variables must be created before they are used.\n",
    "\n",
    "*   Unlike some languages, which \"guess\" a default value, if a variable doesn't exist yet, or if the name has been mis-spelled, Python reports an error.\n",
    "      \n",
    "\n"
   ]
  },
  {
   "cell_type": "code",
   "execution_count": 7,
   "id": "51710213",
   "metadata": {},
   "outputs": [
    {
     "ename": "NameError",
     "evalue": "name 'last_name' is not defined",
     "output_type": "error",
     "traceback": [
      "\u001b[0;31m---------------------------------------------------------------------------\u001b[0m",
      "\u001b[0;31mNameError\u001b[0m                                 Traceback (most recent call last)",
      "\u001b[0;32m/var/folders/5q/mny3pg2n7h5g21h3v32rfj9wpykqrf/T/ipykernel_792/2256896230.py\u001b[0m in \u001b[0;36m<module>\u001b[0;34m\u001b[0m\n\u001b[0;32m----> 1\u001b[0;31m \u001b[0mprint\u001b[0m\u001b[0;34m(\u001b[0m\u001b[0mlast_name\u001b[0m\u001b[0;34m)\u001b[0m\u001b[0;34m\u001b[0m\u001b[0;34m\u001b[0m\u001b[0m\n\u001b[0m\u001b[1;32m      2\u001b[0m \u001b[0;34m\u001b[0m\u001b[0m\n",
      "\u001b[0;31mNameError\u001b[0m: name 'last_name' is not defined"
     ]
    }
   ],
   "source": [
    "print(last_name)"
   ]
  },
  {
   "cell_type": "markdown",
   "id": "a2eb1412",
   "metadata": {},
   "source": [
    "\n",
    "*   The last line of an error message is usually the most informative.\n",
    "*   We will look at error messages in detail [later]({{ page.root }}/15-scope/#reading-error-messages).\n"
   ]
  },
  {
   "cell_type": "markdown",
   "id": "c7faf72a",
   "metadata": {},
   "source": [
    "\n",
    "### Variables Persist Between Cells\n",
    "\n",
    "Be aware that it is the order of **execution** of cells that is important in a Jupyter notebook, not the order\n",
    "in which they appear. Python will remember **all** the code that was run previously, including any variables you have\n",
    "defined, irrespective of the order in the notebook. Therefore if you define variables lower down the notebook and then\n",
    "(re)run cells further up, those defined further down will still be present. As an example, we can create 2 cells with the following content, in this order:\n"
   ]
  },
  {
   "cell_type": "code",
   "execution_count": null,
   "id": "0a7d1b44",
   "metadata": {},
   "outputs": [],
   "source": [
    "print(myval)"
   ]
  },
  {
   "cell_type": "code",
   "execution_count": null,
   "id": "cdde0958",
   "metadata": {},
   "outputs": [],
   "source": [
    "myval = 1"
   ]
  },
  {
   "cell_type": "markdown",
   "id": "6b1d2b63",
   "metadata": {},
   "source": [
    "\n",
    "If you execute this in order, the first cell will give an error. However, if you run the first cell **after** the second\n",
    "cell it will print out ‘1’. To prevent confusion, it can be helpful to use the `Kernel` -> `Restart & Run All` option which\n",
    " clears the interpreter and runs everything from a clean slate going top to bottom.\n"
   ]
  },
  {
   "cell_type": "markdown",
   "id": "99253afe",
   "metadata": {},
   "source": [
    "\n",
    "\n",
    "### Variables can be used in calculations.\n",
    "\n",
    "*   We can use variables in calculations just as if they were values.\n",
    "\n"
   ]
  },
  {
   "cell_type": "code",
   "execution_count": 8,
   "id": "bcbd73fa",
   "metadata": {},
   "outputs": [
    {
     "name": "stdout",
     "output_type": "stream",
     "text": [
      "Age in three years: 45\n"
     ]
    }
   ],
   "source": [
    "age = 42\n",
    "age = age + 3\n",
    "print('Age in three years:', age)"
   ]
  },
  {
   "cell_type": "markdown",
   "id": "b9dcf605",
   "metadata": {},
   "source": [
    "\n",
    "\n",
    "\n",
    "### Python is case-sensitive.\n",
    "\n",
    "*   Python thinks that upper- and lower-case letters are different,\n",
    "    so `Name` and `name` are different variables.\n",
    "*   There are conventions for using upper-case letters at the start of variable names so we will use lower-case letters for now.\n",
    "\n"
   ]
  },
  {
   "cell_type": "markdown",
   "id": "84e64a86",
   "metadata": {},
   "source": [
    "> Tip: In programming an eye for detail is important. If you include an extra full-stop, or forget a space, then you may get an error message or unexpected behaviour. "
   ]
  },
  {
   "cell_type": "markdown",
   "id": "ce137e41",
   "metadata": {},
   "source": [
    "### Use valid and meaningful variable names.\n",
    "\n",
    "*   Python doesn't care what you call variables as long as they obey the following rules:\n",
    "\n",
    "    * can **only** contain letters, digits, and underscore `_` (typically used to separate words in long variable names)\n",
    "    * cannot start with a digit\n",
    "\n",
    "*   Variable names that start with underscores like `__bobbins_real_age` have a special meaning so we won't do that until we understand the convention.\n",
    "\n"
   ]
  },
  {
   "cell_type": "code",
   "execution_count": null,
   "id": "f6b482bc",
   "metadata": {},
   "outputs": [],
   "source": [
    "flabadab = 42\n",
    "ewr_422_yY = 'Ahmed'\n",
    "print(ewr_422_yY, 'is', flabadab, 'years old')"
   ]
  },
  {
   "cell_type": "markdown",
   "id": "bbafdfaf",
   "metadata": {},
   "source": [
    "*   Use meaningful variable names to help other people understand what the program does.\n",
    "*   The most important \"other person\" is your future self.\n",
    "\n"
   ]
  },
  {
   "cell_type": "markdown",
   "id": "107aec4c",
   "metadata": {},
   "source": [
    "---\n",
    "\n",
    "Do [the quick-test](https://nu-cem.github.io/CompPhys/2021/08/02/02-Variables-Assignment-Qs.html).\n",
    "\n",
    "Back to [Python part one](https://nu-cem.github.io/CompPhys/2021/08/02/Python_basics_one.html).\n",
    "\n",
    "---"
   ]
  },
  {
   "cell_type": "code",
   "execution_count": null,
   "id": "76af28c5",
   "metadata": {},
   "outputs": [],
   "source": []
  }
 ],
 "metadata": {
  "kernelspec": {
   "display_name": "Python 3 (ipykernel)",
   "language": "python",
   "name": "python3"
  },
  "language_info": {
   "codemirror_mode": {
    "name": "ipython",
    "version": 3
   },
   "file_extension": ".py",
   "mimetype": "text/x-python",
   "name": "python",
   "nbconvert_exporter": "python",
   "pygments_lexer": "ipython3",
   "version": "3.9.6"
  }
 },
 "nbformat": 4,
 "nbformat_minor": 5
}
