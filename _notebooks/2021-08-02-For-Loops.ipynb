{
 "cells": [
  {
   "cell_type": "markdown",
   "id": "independent-vegetarian",
   "metadata": {},
   "source": [
    "# For loops\n",
    "\n",
    "- toc:false\n",
    "- branch: master\n",
    "- badges: true\n",
    "- comments: false\n",
    "- categories: [python]\n",
    "- hide: true"
   ]
  },
  {
   "cell_type": "markdown",
   "id": "smoking-manitoba",
   "metadata": {},
   "source": [
    "Questions:\n",
    "- How can I make a program do many things?\n",
    "\n",
    "Objectives:\n",
    "- Explain what for loops are normally used for.\n",
    "- Trace the execution of a simple (unnested) loop and correctly state the values of variables in each iteration.\n",
    "- Write for loops that use the Accumulator pattern to aggregate values.\n",
    "\n",
    "Keypoints:\n",
    "- A *for loop* executes commands once for each value in a collection.\n",
    "- The first line of the `for` loop must end with a colon, and the body must be indented.\n",
    "- Indentation is always meaningful in Python.\n",
    "- A `for` loop is made up of a collection, a loop variable, and a body.\n",
    "- Loop variables can be called anything (but it is strongly advised to have a meaningful name to the looping variable).\n",
    "- The body of a loop can contain many statements.\n",
    "- Use `range` to iterate over a sequence of numbers.\n",
    "- The Accumulator pattern turns many values into one."
   ]
  },
  {
   "cell_type": "markdown",
   "id": "leading-arabic",
   "metadata": {},
   "source": [
    "### A *for loop* executes commands once for each value in a collection.\n",
    "\n",
    "Doing calculations on the values in a list one by one\n",
    "    can be very time consuming and lead to repeated code (which should be avoided). A *for loop* tells Python to execute some statements once for each value in a list,\n",
    "    a character string,\n",
    "    or some other collection. A for loop can be translated as: \"for each thing in this group, do these operations\"."
   ]
  },
  {
   "cell_type": "code",
   "execution_count": 6,
   "id": "flying-coral",
   "metadata": {},
   "outputs": [
    {
     "name": "stdout",
     "output_type": "stream",
     "text": [
      "2\n",
      "3\n",
      "5\n"
     ]
    }
   ],
   "source": [
    "for number in [2, 3, 5]:\n",
    "    print(number)"
   ]
  },
  {
   "cell_type": "markdown",
   "id": "negative-deviation",
   "metadata": {},
   "source": [
    "This `for` loop is equivalent to:"
   ]
  },
  {
   "cell_type": "code",
   "execution_count": 7,
   "id": "derived-sociology",
   "metadata": {},
   "outputs": [
    {
     "name": "stdout",
     "output_type": "stream",
     "text": [
      "2\n",
      "3\n",
      "5\n"
     ]
    }
   ],
   "source": [
    "print(2)\n",
    "print(3)\n",
    "print(5)"
   ]
  },
  {
   "cell_type": "markdown",
   "id": "thrown-extreme",
   "metadata": {},
   "source": [
    "### The first line of the `for` loop must end with a colon, and the body must be indented.\n",
    "\n",
    "The colon at the end of the first line signals the start of a *block* of statements.\n",
    "Any consistent indentation is legal, but almost everyone uses four spaces."
   ]
  },
  {
   "cell_type": "code",
   "execution_count": 8,
   "id": "brave-color",
   "metadata": {},
   "outputs": [
    {
     "ename": "IndentationError",
     "evalue": "expected an indented block (<ipython-input-8-3a0b55365d6d>, line 2)",
     "output_type": "error",
     "traceback": [
      "\u001b[0;36m  File \u001b[0;32m\"<ipython-input-8-3a0b55365d6d>\"\u001b[0;36m, line \u001b[0;32m2\u001b[0m\n\u001b[0;31m    print(number)\u001b[0m\n\u001b[0m    ^\u001b[0m\n\u001b[0;31mIndentationError\u001b[0m\u001b[0;31m:\u001b[0m expected an indented block\n"
     ]
    }
   ],
   "source": [
    "for number in [2, 3, 5]:\n",
    "print(number)"
   ]
  },
  {
   "cell_type": "markdown",
   "id": "vanilla-exhibition",
   "metadata": {},
   "source": [
    "Indentation is always meaningful in Python."
   ]
  },
  {
   "cell_type": "code",
   "execution_count": 9,
   "id": "detected-native",
   "metadata": {},
   "outputs": [
    {
     "ename": "IndentationError",
     "evalue": "unexpected indent (<ipython-input-9-fac7a181dff6>, line 2)",
     "output_type": "error",
     "traceback": [
      "\u001b[0;36m  File \u001b[0;32m\"<ipython-input-9-fac7a181dff6>\"\u001b[0;36m, line \u001b[0;32m2\u001b[0m\n\u001b[0;31m    lastName=\"Smith\"\u001b[0m\n\u001b[0m    ^\u001b[0m\n\u001b[0;31mIndentationError\u001b[0m\u001b[0;31m:\u001b[0m unexpected indent\n"
     ]
    }
   ],
   "source": [
    "firstName=\"Jon\"\n",
    "  lastName=\"Smith\""
   ]
  },
  {
   "cell_type": "markdown",
   "id": "familiar-mainland",
   "metadata": {},
   "source": [
    "This error can be fixed by removing the extra spaces\n",
    "    at the beginning of the second line."
   ]
  },
  {
   "cell_type": "markdown",
   "id": "comparable-secretariat",
   "metadata": {},
   "source": [
    "### A `for` loop is made up of a collection, a loop variable, and a body."
   ]
  },
  {
   "cell_type": "code",
   "execution_count": 11,
   "id": "viral-macro",
   "metadata": {},
   "outputs": [
    {
     "name": "stdout",
     "output_type": "stream",
     "text": [
      "2\n",
      "3\n",
      "5\n"
     ]
    }
   ],
   "source": [
    "for number in [2, 3, 5]:\n",
    "    print(number)"
   ]
  },
  {
   "cell_type": "markdown",
   "id": "critical-diesel",
   "metadata": {},
   "source": [
    "*   The collection, `[2, 3, 5]`, is what the loop is being run on.\n",
    "*   The body, `print(number)`, specifies what to do for each value in the collection.\n",
    "*   The loop variable, `number`, is what changes for each *iteration* of the loop.\n",
    "    "
   ]
  },
  {
   "cell_type": "markdown",
   "id": "spread-blink",
   "metadata": {},
   "source": [
    "### Loop variables can be called anything.\n",
    "\n",
    "*   As with all variables, loop variables are:\n",
    "    *   Created on demand.\n",
    "    *   Meaningless: their names can be anything at all."
   ]
  },
  {
   "cell_type": "code",
   "execution_count": 14,
   "id": "distant-lambda",
   "metadata": {},
   "outputs": [
    {
     "name": "stdout",
     "output_type": "stream",
     "text": [
      "2\n",
      "3\n",
      "5\n"
     ]
    }
   ],
   "source": [
    "for kitten in [2, 3, 5]:\n",
    "    print(kitten)"
   ]
  },
  {
   "cell_type": "markdown",
   "id": "cathedral-baker",
   "metadata": {},
   "source": [
    "### The body of a loop can contain many statements.\n",
    "\n",
    "But no loop should be more than a few lines long as it is hard for human beings to keep larger chunks of code in mind."
   ]
  },
  {
   "cell_type": "code",
   "execution_count": 15,
   "id": "resistant-donna",
   "metadata": {},
   "outputs": [
    {
     "name": "stdout",
     "output_type": "stream",
     "text": [
      "2 4 8\n",
      "3 9 27\n",
      "5 25 125\n"
     ]
    }
   ],
   "source": [
    "primes = [2, 3, 5]\n",
    "for p in primes:\n",
    "    squared = p ** 2\n",
    "    cubed = p ** 3\n",
    "    print(p, squared, cubed)"
   ]
  },
  {
   "cell_type": "markdown",
   "id": "unsigned-seminar",
   "metadata": {},
   "source": [
    "### Use `range` to iterate over a sequence of numbers.\n",
    "The built-in function `range` produces a sequence of numbers.\n",
    "This is *not* a list: the numbers are produced on demand to make looping over large ranges more efficient.\n",
    "`range(N)` is the numbers 0..N-1\n",
    "  "
   ]
  },
  {
   "cell_type": "code",
   "execution_count": 16,
   "id": "patent-genome",
   "metadata": {},
   "outputs": [
    {
     "name": "stdout",
     "output_type": "stream",
     "text": [
      "0\n",
      "1\n",
      "2\n"
     ]
    }
   ],
   "source": [
    "for number in range(0,3):\n",
    "    print(number)"
   ]
  },
  {
   "cell_type": "markdown",
   "id": "graduate-glossary",
   "metadata": {},
   "source": [
    "### The Accumulator pattern turns many values into one.\n",
    "\n",
    "A common pattern in programs is to:\n",
    "\n",
    "1.  Initialize an *accumulator* variable to zero, the empty string, or the empty list.\n",
    "2.  Update the variable with values from a collection.\n",
    "\n",
    "For example, if we would like to sum the first 10 integers we could write:"
   ]
  },
  {
   "cell_type": "code",
   "execution_count": 18,
   "id": "interesting-arrest",
   "metadata": {},
   "outputs": [
    {
     "name": "stdout",
     "output_type": "stream",
     "text": [
      "55\n"
     ]
    }
   ],
   "source": [
    "# Sum the first 10 integers.\n",
    "total = 0\n",
    "for number in range(10):\n",
    "   total = total + (number + 1)\n",
    "print(total)"
   ]
  },
  {
   "cell_type": "markdown",
   "id": "perfect-freeware",
   "metadata": {},
   "source": [
    "Read `total = total + (number + 1)` as:\n",
    "\n",
    "*   Add 1 to the current value of the loop variable `number`.\n",
    "*   Add that to the current value of the accumulator variable `total`.\n",
    "*   Assign that to `total`, replacing the current value.\n",
    "    \n",
    "We have to add `number + 1` because `range` produces 0..9, not 1..10.\n"
   ]
  },
  {
   "cell_type": "markdown",
   "id": "black-cleanup",
   "metadata": {},
   "source": [
    "---\n",
    "\n",
    "Do [the quick-test](https://nu-cem.github.io/CompPhys/2021/08/02/For-Loops-Qs.html).\n",
    "\n",
    "Back to [Python part two](https://nu-cem.github.io/CompPhys/2021/08/02/Python_basics_two.html).\n",
    "\n",
    "---"
   ]
  },
  {
   "cell_type": "code",
   "execution_count": null,
   "id": "guided-geneva",
   "metadata": {},
   "outputs": [],
   "source": []
  }
 ],
 "metadata": {
  "kernelspec": {
   "display_name": "Python 3",
   "language": "python",
   "name": "python3"
  },
  "language_info": {
   "codemirror_mode": {
    "name": "ipython",
    "version": 3
   },
   "file_extension": ".py",
   "mimetype": "text/x-python",
   "name": "python",
   "nbconvert_exporter": "python",
   "pygments_lexer": "ipython3",
   "version": "3.8.5"
  }
 },
 "nbformat": 4,
 "nbformat_minor": 5
}
