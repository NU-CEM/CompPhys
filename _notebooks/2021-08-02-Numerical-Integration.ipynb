{
 "cells": [
  {
   "cell_type": "markdown",
   "id": "4a507ab1",
   "metadata": {},
   "source": [
    "# Numerical Integration\n",
    "\n",
    "- toc:false\n",
    "- branch: master\n",
    "- badges: true\n",
    "- comments: false\n",
    "- hide: true"
   ]
  },
  {
   "cell_type": "markdown",
   "id": "f43e6aa4",
   "metadata": {},
   "source": [
    "-----\n",
    "Questions:\n",
    "- How can I do basic numerical integration?\n",
    "\n",
    "Objectives:\n",
    "- Use the rectangular-slice approximation to calculate integrals\n",
    "\n",
    "-----"
   ]
  },
  {
   "cell_type": "markdown",
   "id": "1e221eac",
   "metadata": {},
   "source": [
    "#### Depending on the functional form of f(x), it may not be possible to calculate an integral analytically\n",
    "\n",
    "The integral of f(x) from a to b is the area under the curve. Depending on the functional\n",
    "form of f(x), it may not be possible to calculate the integral analytically.\n",
    "\n",
    "<figure>\n",
    "<img src=\"../images/integration.png\" width=500 />\n",
    "</figure>\n",
    "\n",
    "#### The simplest method to approximate an integral is to use the rectangular-slices\n",
    "\n",
    "The simplest method of estimating the integral shown above is to divide the integration range into $N$ slices of width $h$. We calculate $f(x_i)$ at some point on each slice and then calculate the area of the associated rectangle:\n",
    "\n",
    "$ A_i = f(x_i)h$\n",
    "\n",
    "The integral is given by summing over all of the rectangles:\n",
    "\n",
    "$ \\int_a^b f(x_i) dx \\approx \\sum_i f(x_i)h $\n",
    "\n",
    "<figure>\n",
    "<img src=\"../images/integration2.png\" width=500 />\n",
    "</figure>\n",
    " \n",
    "#### The rectangular slice method can be translated to Python code in a straight-forward manner\n",
    "\n",
    "For example, we may want to calculate the integral of $\\sin(x)$ from 0 to $\\frac{\\pi}{2}$. This is an integral that can be evaluated analytically, so it doesn't usually make sense to calculate numerically - however, in this case, we can use it to establish that our method is correct."
   ]
  },
  {
   "cell_type": "code",
   "execution_count": 5,
   "id": "e5414535",
   "metadata": {},
   "outputs": [],
   "source": [
    "import math\n",
    "\n",
    "def sin(x):\n",
    "    \n",
    "    return math.sin(x)\n",
    "\n",
    "def rectangular_slice_integral(f_x, a, b, N):\n",
    "    \n",
    "    integral = 0\n",
    "    h = (b-a) / N   # h is the width of each slice\n",
    "    for i in range(N):\n",
    "        x = a + h*i # the x value for the slice\n",
    "        integral += f_x(x)*h\n",
    "    return integral"
   ]
  },
  {
   "cell_type": "markdown",
   "id": "b57b78ad",
   "metadata": {},
   "source": [
    "Note that the function `rectangular_slice_integral` has an argument `f_x` which is itself a function. This is valid Python - you can pass one function to another function as an argument."
   ]
  },
  {
   "cell_type": "code",
   "execution_count": 8,
   "id": "c902c3a5",
   "metadata": {},
   "outputs": [
    {
     "data": {
      "text/plain": [
       "0.9921254566056334"
      ]
     },
     "execution_count": 8,
     "metadata": {},
     "output_type": "execute_result"
    }
   ],
   "source": [
    "rectangular_slice_integral(sin,0,math.pi/2,100)"
   ]
  },
  {
   "cell_type": "markdown",
   "id": "1be696e7",
   "metadata": {},
   "source": [
    "In fact, it is possible to pass the `math.sin()` function directly to `rectangular_slice_integral()`:"
   ]
  },
  {
   "cell_type": "code",
   "execution_count": 9,
   "id": "15f7caf4",
   "metadata": {},
   "outputs": [
    {
     "data": {
      "text/plain": [
       "0.9921254566056334"
      ]
     },
     "execution_count": 9,
     "metadata": {},
     "output_type": "execute_result"
    }
   ],
   "source": [
    "rectangular_slice_integral(math.sin,0,math.pi/2,100)"
   ]
  },
  {
   "cell_type": "markdown",
   "id": "b1b34295",
   "metadata": {},
   "source": [
    "This is pretty close to the correct value of 1. To improve our approximation we can increase the number of slices: "
   ]
  },
  {
   "cell_type": "code",
   "execution_count": 10,
   "id": "8f8f21f6",
   "metadata": {},
   "outputs": [
    {
     "data": {
      "text/plain": [
       "0.9960678687587687"
      ]
     },
     "execution_count": 10,
     "metadata": {},
     "output_type": "execute_result"
    }
   ],
   "source": [
    "rectangular_slice_integral(math.sin,0,math.pi/2,200)"
   ]
  },
  {
   "cell_type": "markdown",
   "id": "174f9680",
   "metadata": {},
   "source": [
    "The error is of order $h$ - when we halve the rectangular width, we halve the error. "
   ]
  },
  {
   "cell_type": "markdown",
   "id": "4b8a6795",
   "metadata": {},
   "source": [
    "#### The rectangular slice method can be adapted for use with discrete data\n",
    "\n",
    "Not all integrations are integrations of functions. For example, we may want to integrate experimental data, in which case there is no function to call to find the value of f(x). Instead, the most likely form of f(x) is given by the list of data values. In this case we can use the same method, but the implementation is slightly different:"
   ]
  },
  {
   "cell_type": "code",
   "execution_count": 17,
   "id": "852358f2",
   "metadata": {},
   "outputs": [],
   "source": [
    "def rectangular_slice_integral_discrete(data, h):\n",
    "    \n",
    "    return h*sum(data)"
   ]
  },
  {
   "cell_type": "markdown",
   "id": "03c6f19f",
   "metadata": {},
   "source": [
    "Note that this assumes the data is evenly spaced. To test our function using the same example as above we need to generate a list of sin(x) values between 0 to $\\frac{\\pi}{2}$:"
   ]
  },
  {
   "cell_type": "code",
   "execution_count": 36,
   "id": "c3bd4d6b",
   "metadata": {},
   "outputs": [],
   "source": [
    "import numpy as np\n",
    "\n",
    "h = (math.pi/2)/100\n",
    "sin_0_90 = [math.sin(x) for x in np.arange(0,math.pi/2,h)]"
   ]
  },
  {
   "cell_type": "markdown",
   "id": "623a4ff2",
   "metadata": {},
   "source": [
    "where we are using [Python list comprehension](https://realpython.com/list-comprehension-python/#using-list-comprehensions) and the Numpy arange function to generate a list of evenly spaced floats. We can now pass this list to our function `rectangular_slice_integral_discrete`:"
   ]
  },
  {
   "cell_type": "code",
   "execution_count": 37,
   "id": "7e12c7c1",
   "metadata": {},
   "outputs": [
    {
     "data": {
      "text/plain": [
       "0.9921254566056331"
      ]
     },
     "execution_count": 37,
     "metadata": {},
     "output_type": "execute_result"
    }
   ],
   "source": [
    "rectangular_slice_integral_discrete(sin_0_90, h)"
   ]
  },
  {
   "cell_type": "markdown",
   "id": "3ca65c3c",
   "metadata": {},
   "source": [
    "#### The trapezoidal rule is a simple extension that is more computationally efficient\n",
    "\n",
    "We can greatly improve the efficiency of our integration by approximating the slices as trapezoids instead of as rectangles. This is because the area under the trapezoids is a considerably better approximation to the\n",
    "area under the curve.\n",
    "\n",
    "<figure>\n",
    "<img src=\"../images/integration3.png\" width=500 />\n",
    "</figure>\n",
    "\n",
    "This method is explored in the [Lesson exercises](https://nu-cem.github.io/CompPhys/2021/08/02/Random_exercises). The trapezoidal rule a first-order rule that is *accurate* to order $h$ ($\\mathcal{O}(h)$) and has an *error* of order $h^2$ $\\mathcal{O}(h^2)$."
   ]
  },
  {
   "cell_type": "markdown",
   "id": "46b5bcfd",
   "metadata": {},
   "source": [
    "-----\n",
    "\n",
    "Keypoints:\n",
    "\n",
    "- Depending on the functional form of f(x), it may not be possible to calculate an integral analytically\n",
    "- The simplest method to approximate an integral is to use the rectangular-slices\n",
    "- The rectangular slice method can be translated to Python code in a straight-forward manner\n",
    "- The rectangular slice method can be adapted for use with discrete data\n",
    "- The trapezoidal rule is a simple extension that is more computationally efficient"
   ]
  },
  {
   "cell_type": "markdown",
   "id": "83c2b90b",
   "metadata": {},
   "source": [
    "---\n",
    "\n",
    "Do [the quick-test](https://nu-cem.github.io/CompPhys/2021/08/02/Numerical-Integration-Qs.html).\n",
    "\n",
    "Back to [Calculating Integrals](https://nu-cem.github.io/CompPhys/2021/08/02/Integrals.html).\n",
    "\n",
    "---"
   ]
  }
 ],
 "metadata": {
  "kernelspec": {
   "display_name": "Python 3",
   "language": "python",
   "name": "python3"
  },
  "language_info": {
   "codemirror_mode": {
    "name": "ipython",
    "version": 3
   },
   "file_extension": ".py",
   "mimetype": "text/x-python",
   "name": "python",
   "nbconvert_exporter": "python",
   "pygments_lexer": "ipython3",
   "version": "3.8.13"
  }
 },
 "nbformat": 4,
 "nbformat_minor": 5
}
