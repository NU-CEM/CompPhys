{
 "cells": [
  {
   "cell_type": "markdown",
   "id": "abb33a1b",
   "metadata": {},
   "source": [
    "# Numerical Integration\n",
    "\n",
    "- toc:false\n",
    "- branch: master\n",
    "- badges: true\n",
    "- comments: false\n",
    "- hide: true"
   ]
  },
  {
   "cell_type": "markdown",
   "id": "4acc1199",
   "metadata": {},
   "source": [
    "-----\n",
    "Questions:\n",
    "- How can I do basic numerical integration?\n",
    "\n",
    "Objectives:\n",
    "- Use the rectangular-slice approximation to calculate integrals\n",
    "- Use the trapezoidal rule to calculate integrals\n",
    "- Compare the accuracy of these two methods\n",
    "\n",
    "-----"
   ]
  },
  {
   "cell_type": "markdown",
   "id": "8858a916",
   "metadata": {},
   "source": [
    "-----\n",
    "\n",
    "Keypoints:\n"
   ]
  },
  {
   "cell_type": "markdown",
   "id": "8280a8b8",
   "metadata": {},
   "source": [
    "---\n",
    "\n",
    "Do [the quick-test](https://nu-cem.github.io/CompPhys/2021/08/02/Numerical-Integration-Qs.html).\n",
    "\n",
    "Back to [Calculating Integrals](https://nu-cem.github.io/CompPhys/2021/08/02/Integrals.html).\n",
    "\n",
    "---"
   ]
  },
  {
   "cell_type": "code",
   "execution_count": null,
   "id": "d58aa916",
   "metadata": {},
   "outputs": [],
   "source": []
  }
 ],
 "metadata": {
  "kernelspec": {
   "display_name": "Python 3",
   "language": "python",
   "name": "python3"
  },
  "language_info": {
   "codemirror_mode": {
    "name": "ipython",
    "version": 3
   },
   "file_extension": ".py",
   "mimetype": "text/x-python",
   "name": "python",
   "nbconvert_exporter": "python",
   "pygments_lexer": "ipython3",
   "version": "3.8.13"
  }
 },
 "nbformat": 4,
 "nbformat_minor": 5
}
