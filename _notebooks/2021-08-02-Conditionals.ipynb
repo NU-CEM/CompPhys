{
 "cells": [
  {
   "cell_type": "markdown",
   "id": "worth-frequency",
   "metadata": {},
   "source": [
    "# Conditionals\n",
    "\n",
    "- toc:false\n",
    "- branch: master\n",
    "- badges: true\n",
    "- comments: false\n",
    "- categories: [python]\n",
    "- hide: true"
   ]
  },
  {
   "cell_type": "markdown",
   "id": "geographic-information",
   "metadata": {},
   "source": [
    "Questions:\n",
    "- How can programs do different things for different data?\n",
    "\n",
    "Objectives:\n",
    "- Correctly write programs that use if and else statements and simple Boolean expressions (without logical operators).\n",
    "- Trace the execution of unnested conditionals and conditionals inside loops.\n",
    "\n",
    "Keypoints:\n",
    "- Use `if` statements to control whether or not a block of code is executed.\n",
    "- Conditionals are often used inside loops.\n",
    "- Use `else` to execute a block of code when an `if` condition is *not* true.\n",
    "- Use `elif` to specify additional tests.\n",
    "- Conditions are tested once, in order.\n",
    "- Compound Relations Using `and`, `or`, and Parentheses."
   ]
  },
  {
   "cell_type": "markdown",
   "id": "facial-graham",
   "metadata": {},
   "source": [
    "### Use `if` statements to control whether or not a block of code is executed.\n",
    "\n",
    "An `if` statement (more properly called a *conditional* statement)\n",
    "    controls whether some block of code is executed or not.\n",
    "\n",
    "The `if` statement structure is similar to a `for` statement:\n",
    "*   First line opens with `if` and ends with a colon\n",
    "*   Body containing one or more statements is indented (usually by 4 spaces)"
   ]
  },
  {
   "cell_type": "code",
   "execution_count": 3,
   "id": "rolled-central",
   "metadata": {},
   "outputs": [
    {
     "name": "stdout",
     "output_type": "stream",
     "text": [
      "3.54 is large\n"
     ]
    }
   ],
   "source": [
    "mass = 3.54\n",
    "if mass > 3.0:\n",
    "    print(mass, 'is large')\n",
    "\n",
    "mass = 2.07\n",
    "if mass > 3.0:\n",
    "    print (mass, 'is large')"
   ]
  },
  {
   "cell_type": "markdown",
   "id": "confirmed-buying",
   "metadata": {},
   "source": [
    "### Conditionals are often used inside loops.\n",
    "\n",
    "There is not much point using a conditional when we know the value (as above). But conditionals can be useful when we have a collection to process."
   ]
  },
  {
   "cell_type": "code",
   "execution_count": 4,
   "id": "heated-variety",
   "metadata": {},
   "outputs": [
    {
     "name": "stdout",
     "output_type": "stream",
     "text": [
      "3.54 is large\n",
      "9.22 is large\n"
     ]
    }
   ],
   "source": [
    "masses = [3.54, 2.07, 9.22, 1.86, 1.71]\n",
    "for m in masses:\n",
    "    if m > 3.0:\n",
    "        print(m, 'is large')"
   ]
  },
  {
   "cell_type": "code",
   "execution_count": null,
   "id": "grand-annex",
   "metadata": {},
   "outputs": [],
   "source": [
    "### Use `else` to execute a block of code when an `if` condition is *not* true."
   ]
  },
  {
   "cell_type": "markdown",
   "id": "supreme-hometown",
   "metadata": {},
   "source": [
    "An `else` can be used following an `if`. This allows us to specify an alternative to execute when the `if` *branch* isn't taken."
   ]
  },
  {
   "cell_type": "code",
   "execution_count": 6,
   "id": "million-clause",
   "metadata": {},
   "outputs": [
    {
     "name": "stdout",
     "output_type": "stream",
     "text": [
      "3.54 is large\n",
      "2.07 is small\n",
      "9.22 is large\n",
      "1.86 is small\n",
      "1.71 is small\n"
     ]
    }
   ],
   "source": [
    "masses = [3.54, 2.07, 9.22, 1.86, 1.71]\n",
    "for m in masses:\n",
    "    if m > 3.0:\n",
    "        print(m, 'is large')\n",
    "    else:\n",
    "        print(m, 'is small')"
   ]
  },
  {
   "cell_type": "markdown",
   "id": "oriental-attack",
   "metadata": {},
   "source": [
    "### Use `elif` to specify additional tests.\n",
    "\n",
    "We may want to provide several alternative choices, each with its own test. We can use `elif` (short for \"else if\") and a condition to specify these.\n",
    "An `elif` must always associated with an `if`, and it must come before the `else` (which is the \"catch all\")."
   ]
  },
  {
   "cell_type": "code",
   "execution_count": 8,
   "id": "clear-gallery",
   "metadata": {},
   "outputs": [
    {
     "name": "stdout",
     "output_type": "stream",
     "text": [
      "3.54 is large\n",
      "2.07 is small\n",
      "9.22 is HUGE\n",
      "1.86 is small\n",
      "1.71 is small\n"
     ]
    }
   ],
   "source": [
    "masses = [3.54, 2.07, 9.22, 1.86, 1.71]\n",
    "for m in masses:\n",
    "    if m > 9.0:\n",
    "        print(m, 'is HUGE')\n",
    "    elif m > 3.0:\n",
    "        print(m, 'is large')\n",
    "    else:\n",
    "        print(m, 'is small')"
   ]
  },
  {
   "cell_type": "markdown",
   "id": "married-causing",
   "metadata": {},
   "source": [
    "### Conditions are tested once, in order.\n",
    "\n",
    "Python steps through the branches of the conditional in order, testing each in turn - so the ordering matters. Python does *not* automatically go back and re-evaluate if values change."
   ]
  },
  {
   "cell_type": "code",
   "execution_count": 10,
   "id": "broke-austria",
   "metadata": {},
   "outputs": [
    {
     "name": "stdout",
     "output_type": "stream",
     "text": [
      "grade is C\n"
     ]
    }
   ],
   "source": [
    "grade = 85\n",
    "if grade >= 70:\n",
    "    print('grade is C')\n",
    "elif grade >= 80:\n",
    "    print('grade is B')\n",
    "elif grade >= 90:\n",
    "    print('grade is A')"
   ]
  },
  {
   "cell_type": "code",
   "execution_count": 11,
   "id": "remarkable-improvement",
   "metadata": {},
   "outputs": [
    {
     "name": "stdout",
     "output_type": "stream",
     "text": [
      "adjusting velocity\n"
     ]
    }
   ],
   "source": [
    "velocity = 10.0\n",
    "if velocity > 20.0:\n",
    "    print('moving too fast')\n",
    "else:\n",
    "    print('adjusting velocity')\n",
    "    velocity = 50.0"
   ]
  },
  {
   "cell_type": "markdown",
   "id": "neither-patch",
   "metadata": {},
   "source": [
    "We can use conditionals in a loop to \"evolve\" the values of variables."
   ]
  },
  {
   "cell_type": "code",
   "execution_count": 12,
   "id": "processed-peoples",
   "metadata": {},
   "outputs": [
    {
     "name": "stdout",
     "output_type": "stream",
     "text": [
      "0 : 10.0\n",
      "moving too slow\n",
      "1 : 20.0\n",
      "moving too slow\n",
      "2 : 30.0\n",
      "moving too fast\n",
      "3 : 25.0\n",
      "moving too fast\n",
      "4 : 20.0\n",
      "moving too slow\n",
      "final velocity: 30.0\n"
     ]
    }
   ],
   "source": [
    "velocity = 10.0\n",
    "for i in range(5): # execute the loop 5 times\n",
    "    print(i, ':', velocity)\n",
    "    if velocity > 20.0:\n",
    "        print('moving too fast')\n",
    "        velocity = velocity - 5.0\n",
    "    else:\n",
    "        print('moving too slow')\n",
    "        velocity = velocity + 10.0\n",
    "print('final velocity:', velocity)"
   ]
  },
  {
   "cell_type": "markdown",
   "id": "infinite-dallas",
   "metadata": {},
   "source": [
    "The program must have a `print` statement *outside* the body of the loop\n",
    "    to show the final value of `velocity`,\n",
    "    since its value is updated by the last iteration of the loop.\n",
    "\n",
    "\n",
    "### Compound Relations Using `and`, `or`, and Parentheses\n",
    "\n",
    "Often, you want some combination of things to be true.  You can combine\n",
    "relations within a conditional using `and` and `or`.  Continuing the example\n",
    "above, suppose you have"
   ]
  },
  {
   "cell_type": "code",
   "execution_count": 14,
   "id": "pleasant-award",
   "metadata": {},
   "outputs": [
    {
     "name": "stdout",
     "output_type": "stream",
     "text": [
      "Normal traffic\n",
      "Normal traffic\n",
      "Fast heavy object.  Duck!\n",
      "Whoa!  Something is up with the data.  Check it\n",
      "Slow light object.  Ignore it\n"
     ]
    }
   ],
   "source": [
    "mass     = [ 3.54,  2.07,  9.22,  1.86,  1.71]\n",
    "velocity = [10.00, 20.00, 30.00, 25.00, 20.00]\n",
    "\n",
    "i = 0\n",
    "for i in range(5):\n",
    " if mass[i] > 5 and velocity[i] > 20:\n",
    "     print(\"Fast heavy object.  Duck!\")\n",
    " elif mass[i] > 2 and mass[i] <= 5 and velocity[i] <= 20:\n",
    "     print(\"Normal traffic\")\n",
    " elif mass[i] <= 2 and velocity[i] <= 20:\n",
    "     print(\"Slow light object.  Ignore it\")\n",
    " else:\n",
    "     print(\"Whoa!  Something is up with the data.  Check it\")"
   ]
  },
  {
   "cell_type": "markdown",
   "id": "accessible-soccer",
   "metadata": {},
   "source": [
    "Just like with arithmetic, you can and should use parentheses whenever there\n",
    "is possible ambiguity.  A good general rule is to *always* use parentheses\n",
    " when mixing `and` and `or` in the same condition.  That is, instead of:\n",
    " \n",
    "` if mass[i] <= 2 or mass[i] >= 5 and velocity[i] > 20:`\n",
    "\n",
    "write one of these:\n",
    "\n",
    "`if (mass[i] <= 2 or mass[i] >= 5) and velocity[i] > 20:`\n",
    "\n",
    "`if mass[i] <= 2 or (mass[i] >= 5 and velocity[i] > 20):`"
   ]
  },
  {
   "cell_type": "markdown",
   "id": "acquired-tulsa",
   "metadata": {},
   "source": [
    "so it is perfectly clear to a reader (and to Python) what you really mean."
   ]
  },
  {
   "cell_type": "markdown",
   "id": "liquid-yacht",
   "metadata": {},
   "source": [
    "---\n",
    "\n",
    "Do [the quick-test](https://nu-cem.github.io/CompPhys/2021/08/02/Conditionals-Qs.html).\n",
    "\n",
    "Back to [Python part two](https://nu-cem.github.io/CompPhys/2021/08/02/Python_basics_two.html).\n",
    "\n",
    "---"
   ]
  },
  {
   "cell_type": "code",
   "execution_count": null,
   "id": "activated-empty",
   "metadata": {},
   "outputs": [],
   "source": []
  }
 ],
 "metadata": {
  "kernelspec": {
   "display_name": "Python 3",
   "language": "python",
   "name": "python3"
  },
  "language_info": {
   "codemirror_mode": {
    "name": "ipython",
    "version": 3
   },
   "file_extension": ".py",
   "mimetype": "text/x-python",
   "name": "python",
   "nbconvert_exporter": "python",
   "pygments_lexer": "ipython3",
   "version": "3.8.5"
  }
 },
 "nbformat": 4,
 "nbformat_minor": 5
}
