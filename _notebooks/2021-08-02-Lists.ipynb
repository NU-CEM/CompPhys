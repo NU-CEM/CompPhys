{
 "cells": [
  {
   "cell_type": "markdown",
   "id": "1eed5660",
   "metadata": {},
   "source": [
    "# Lists\n",
    "\n",
    "- toc:false\n",
    "- branch: master\n",
    "- badges: true\n",
    "- comments: false\n",
    "- categories: [python]\n",
    "- hide: true"
   ]
  },
  {
   "cell_type": "markdown",
   "id": "ec9fe7a5",
   "metadata": {},
   "source": [
    "---\n",
    "\n",
    "Questions:\n",
    "    \n",
    "- How can I store multiple values?\n",
    "\n",
    "Objectives:\n",
    "    \n",
    "- Explain why programs need collections of values.\n",
    "- Write programs that create flat lists, index them, slice them, and modify them through assignment and method calls.\n",
    "\n",
    "Keypoints:\n",
    "    \n",
    "- A list stores many values in a single structure.\n",
    "- Use an item's index to fetch it from a list.\n",
    "- Lists' values can be replaced by assigning to them.\n",
    "- Appending items to a list lengthens it.\n",
    "- Use `del` to remove items from a list entirely.\n",
    "- The empty list contains no values.\n",
    "- Lists may contain values of different types.\n",
    "- Character strings can be indexed like lists.\n",
    "- Character strings are immutable.\n",
    "- Indexing beyond the end of the collection is an error.\n",
    "---\n"
   ]
  },
  {
   "cell_type": "markdown",
   "id": "caf5ba14",
   "metadata": {},
   "source": [
    "### A list stores many values in a single structure.\n",
    "\n",
    "*   Doing calculations with a hundred variables called `pressure_001`, `pressure_002`, etc.,\n",
    "    would be at least as slow as doing them by hand.\n",
    "*   Use a *list* to store many values together.\n",
    "    *   Contained within square brackets `[...]`.\n",
    "    *   Values separated by commas `,`.\n",
    "*   Use `len` to find out how many values are in a list."
   ]
  },
  {
   "cell_type": "code",
   "execution_count": 2,
   "id": "9581f38c",
   "metadata": {},
   "outputs": [
    {
     "name": "stdout",
     "output_type": "stream",
     "text": [
      "pressures: [0.273, 0.275, 0.277, 0.275, 0.276]\n",
      "length: 5\n"
     ]
    }
   ],
   "source": [
    "pressures = [0.273, 0.275, 0.277, 0.275, 0.276]\n",
    "print('pressures:', pressures)\n",
    "print('length:', len(pressures))"
   ]
  },
  {
   "cell_type": "markdown",
   "id": "82a673ba",
   "metadata": {},
   "source": [
    "### Use an item's index to fetch it from a list.\n",
    "\n",
    "*   Just like strings."
   ]
  },
  {
   "cell_type": "code",
   "execution_count": 3,
   "id": "db8b7da3",
   "metadata": {},
   "outputs": [
    {
     "name": "stdout",
     "output_type": "stream",
     "text": [
      "zeroth item of pressures: 0.273\n",
      "fourth item of pressures: 0.276\n"
     ]
    }
   ],
   "source": [
    "print('zeroth item of pressures:', pressures[0])\n",
    "print('fourth item of pressures:', pressures[4])"
   ]
  },
  {
   "cell_type": "markdown",
   "id": "f8d43f45",
   "metadata": {},
   "source": [
    "\n",
    "### Lists' values can be replaced by assigning to them.\n",
    "\n",
    "*   Use an index expression on the left of assignment to replace a value."
   ]
  },
  {
   "cell_type": "code",
   "execution_count": 4,
   "id": "dc352344",
   "metadata": {},
   "outputs": [
    {
     "name": "stdout",
     "output_type": "stream",
     "text": [
      "pressures is now: [0.265, 0.275, 0.277, 0.275, 0.276]\n"
     ]
    }
   ],
   "source": [
    "pressures[0] = 0.265\n",
    "print('pressures is now:', pressures)"
   ]
  },
  {
   "cell_type": "markdown",
   "id": "091879de",
   "metadata": {},
   "source": [
    "### Appending items to a list lengthens it.\n",
    "\n",
    "*   Use `list_name.append` to add items to the end of a list.\n"
   ]
  },
  {
   "cell_type": "code",
   "execution_count": 5,
   "id": "8bde5756",
   "metadata": {},
   "outputs": [
    {
     "name": "stdout",
     "output_type": "stream",
     "text": [
      "primes is initially: [2, 3, 5]\n",
      "primes has become: [2, 3, 5, 7, 9]\n"
     ]
    }
   ],
   "source": [
    "primes = [2, 3, 5]\n",
    "print('primes is initially:', primes)\n",
    "primes.append(7)\n",
    "primes.append(9)\n",
    "print('primes has become:', primes)"
   ]
  },
  {
   "cell_type": "markdown",
   "id": "48ac2e3d",
   "metadata": {},
   "source": [
    "\n",
    "*   `append` is a *method* of lists. A method is like a function, but tied to a particular object.\n",
    "*   Use `object_name.method_name` to call methods.\n",
    "*   We will meet other methods of lists as we go along - you can use `help(list)` for a preview.\n",
    "*   `extend` is similar to `append`, but it allows you to combine two lists.  For example:"
   ]
  },
  {
   "cell_type": "code",
   "execution_count": 6,
   "id": "ae22d1a4",
   "metadata": {},
   "outputs": [
    {
     "name": "stdout",
     "output_type": "stream",
     "text": [
      "primes is currently: [2, 3, 5, 7, 9]\n",
      "primes has now become: [2, 3, 5, 7, 9, 11, 13, 17, 19]\n",
      "primes has finally become: [2, 3, 5, 7, 9, 11, 13, 17, 19, [37, 41, 43, 47]]\n"
     ]
    }
   ],
   "source": [
    "teen_primes = [11, 13, 17, 19]\n",
    "middle_aged_primes = [37, 41, 43, 47]\n",
    "print('primes is currently:', primes)\n",
    "primes.extend(teen_primes)\n",
    "print('primes has now become:', primes)\n",
    "primes.append(middle_aged_primes)\n",
    "print('primes has finally become:', primes)"
   ]
  },
  {
   "cell_type": "markdown",
   "id": "7dbfaee7",
   "metadata": {},
   "source": [
    "Note that while `extend` maintains the \"flat\" structure of the list, appending a list to a list makes the result two-dimensional."
   ]
  },
  {
   "cell_type": "markdown",
   "id": "fdb90e73",
   "metadata": {},
   "source": [
    "### Use `del` to remove items from a list entirely.\n",
    "\n",
    "*   `del list_name[index]` removes an item from a list and shortens the list.\n",
    "*   Not a function or a method, but a statement in the language."
   ]
  },
  {
   "cell_type": "code",
   "execution_count": 7,
   "id": "22259b1c",
   "metadata": {},
   "outputs": [
    {
     "name": "stdout",
     "output_type": "stream",
     "text": [
      "primes before removing last item: [2, 3, 5, 7, 9, 11, 13, 17, 19, [37, 41, 43, 47]]\n",
      "primes after removing last item: [2, 3, 5, 7, 11, 13, 17, 19, [37, 41, 43, 47]]\n"
     ]
    }
   ],
   "source": [
    "print('primes before removing last item:', primes)\n",
    "del primes[4]\n",
    "print('primes after removing last item:', primes)"
   ]
  },
  {
   "cell_type": "markdown",
   "id": "38438731",
   "metadata": {},
   "source": [
    "\n",
    "### The empty list contains no values.\n",
    "\n",
    "*   Use `[]` on its own to represent a list that doesn't contain any values.\n",
    "    *   \"The zero of lists.\"\n",
    "*   Helpful as a starting point for collecting values\n",
    "    (which we will see in the [next episode]({{page.root}}/09-for-loops/))."
   ]
  },
  {
   "cell_type": "markdown",
   "id": "1f7c4b1d",
   "metadata": {},
   "source": [
    "\n",
    "### Lists may contain values of different types.\n",
    "\n",
    "*   A single list may contain numbers, strings, and anything else."
   ]
  },
  {
   "cell_type": "code",
   "execution_count": 8,
   "id": "49312394",
   "metadata": {},
   "outputs": [],
   "source": [
    "goals = [1, 'Create lists.', 2, 'Extract items from lists.', 3, 'Modify lists.']"
   ]
  },
  {
   "cell_type": "markdown",
   "id": "199c294e",
   "metadata": {},
   "source": [
    "### Character strings can be indexed like lists.\n",
    "\n",
    "*   Get single characters from a character string using indexes in square brackets."
   ]
  },
  {
   "cell_type": "code",
   "execution_count": 9,
   "id": "803ca9d7",
   "metadata": {},
   "outputs": [
    {
     "name": "stdout",
     "output_type": "stream",
     "text": [
      "zeroth character: c\n",
      "third character: b\n"
     ]
    }
   ],
   "source": [
    "element = 'carbon'\n",
    "print('zeroth character:', element[0])\n",
    "print('third character:', element[3])"
   ]
  },
  {
   "cell_type": "markdown",
   "id": "0425824b",
   "metadata": {},
   "source": [
    "### Character strings are immutable.\n",
    "\n",
    "*   Cannot change the characters in a string after it has been created.\n",
    "    *   *Immutable* data types can't be changed after creation.\n",
    "    *   In contrast, lists are *mutable*: they can be modified in place.\n",
    "*   Python considers the string to be a single value with parts,\n",
    "    not a collection of values."
   ]
  },
  {
   "cell_type": "code",
   "execution_count": 10,
   "id": "d6285de4",
   "metadata": {},
   "outputs": [
    {
     "ename": "TypeError",
     "evalue": "'str' object does not support item assignment",
     "output_type": "error",
     "traceback": [
      "\u001b[0;31m---------------------------------------------------------------------------\u001b[0m",
      "\u001b[0;31mTypeError\u001b[0m                                 Traceback (most recent call last)",
      "\u001b[0;32m/var/folders/5q/mny3pg2n7h5g21h3v32rfj9wpykqrf/T/ipykernel_11747/1676686116.py\u001b[0m in \u001b[0;36m<module>\u001b[0;34m\u001b[0m\n\u001b[0;32m----> 1\u001b[0;31m \u001b[0melement\u001b[0m\u001b[0;34m[\u001b[0m\u001b[0;36m0\u001b[0m\u001b[0;34m]\u001b[0m \u001b[0;34m=\u001b[0m \u001b[0;34m'C'\u001b[0m\u001b[0;34m\u001b[0m\u001b[0;34m\u001b[0m\u001b[0m\n\u001b[0m",
      "\u001b[0;31mTypeError\u001b[0m: 'str' object does not support item assignment"
     ]
    }
   ],
   "source": [
    "element[0] = 'C'"
   ]
  },
  {
   "cell_type": "markdown",
   "id": "ffa8e2ae",
   "metadata": {},
   "source": [
    "### Indexing beyond the end of the list or string is an error.\n",
    "\n",
    "*   Python reports an `IndexError` if we attempt to access a value that doesn't exist.\n",
    "    *   This is a kind of [runtime error]({{ page.root }}/05-error-messages/).\n",
    "    *   This cannot be detected as the code is parsed\n",
    "        because the index might be calculated based on data."
   ]
  },
  {
   "cell_type": "code",
   "execution_count": null,
   "id": "47623696",
   "metadata": {},
   "outputs": [],
   "source": [
    "print('99th element of element is:', element[99])"
   ]
  },
  {
   "cell_type": "markdown",
   "id": "adc85bda",
   "metadata": {},
   "source": [
    "---\n",
    "\n",
    "Do [the quick-test](https://nu-cem.github.io/CompPhys/2021/08/02/Lists-Qs.html).\n",
    "\n",
    "Back to [Python part one](https://nu-cem.github.io/CompPhys/2021/08/02/Python_basics_one.html).\n",
    "\n",
    "---"
   ]
  }
 ],
 "metadata": {
  "kernelspec": {
   "display_name": "Python 3 (ipykernel)",
   "language": "python",
   "name": "python3"
  },
  "language_info": {
   "codemirror_mode": {
    "name": "ipython",
    "version": 3
   },
   "file_extension": ".py",
   "mimetype": "text/x-python",
   "name": "python",
   "nbconvert_exporter": "python",
   "pygments_lexer": "ipython3",
   "version": "3.9.6"
  }
 },
 "nbformat": 4,
 "nbformat_minor": 5
}
