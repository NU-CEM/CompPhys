{
 "cells": [
  {
   "cell_type": "markdown",
   "id": "amber-gossip",
   "metadata": {},
   "source": [
    "# Classifying differential equations\n",
    "\n",
    "- toc:false\n",
    "- branch: master\n",
    "- badges: true\n",
    "- comments: false\n",
    "- categories: [mathematics, numerical recipes]\n",
    "- hide: true"
   ]
  },
  {
   "cell_type": "markdown",
   "id": "animated-phrase",
   "metadata": {},
   "source": [
    "Questions:\n",
    "- What is the difference between an ODE and PDE? \n",
    "- How do I classify the different types of differential equations?\n",
    "\n",
    "Objectives:\n",
    "- Distinguish between and ODE and PDE\n",
    "- Indentify the order of a differential equation\n",
    "- Distinguish between linear and non-linear equations\n",
    "- Distinguish between heterogeneous and homogeneous equations\n",
    "\n",
    "Keypoints:\n",
    "- Differential equations can be classified in a variety of ways\n",
    "- An ODE contains differentials with respect to only one variable\n",
    "- The order is the highest order of any differential contained in it\n",
    "- Linear equations do not contain higher powers of either the dependent variable or its differentials\n",
    "- Homogeneous equations do not contain any non-differential terms\n"
   ]
  },
  {
   "cell_type": "markdown",
   "id": "spoken-bachelor",
   "metadata": {},
   "source": [
    "### Differential equations can be classified in a variety of ways\n",
    "\n",
    "There are several ways to describe and classify differential equations. There are standard solution methods for each type, so it is useful to understand the classifications. \n",
    "\n",
    "### An ODE contains differentials with respect to only one variable\n",
    "\n",
    "For example, the following equations are ODEs:\n",
    "\n",
    "- $\\frac{d x}{d t} = at$\n",
    "- $\\frac{d^3 x}{d t^3} + \\frac{x}{t} = b$\n",
    "\n",
    "As in each case the differentials are with respect to the variable $t$.\n",
    "\n",
    "Partial differential equations (PDE) contain differentials with respect to several independent variables. An example of a PDE is:\n",
    "\n",
    "- $\\frac{\\partial x}{\\partial t} = \\frac{\\partial x}{\\partial y} $\n",
    "\n",
    "As there is one differential with respect to $t$ and one differential with respect to $y$. Note also the difference in notation - for ODEs we use $d$ whilst for PDEs we  use $\\partial$.\n",
    "\n",
    "> Note: the equations in this notebook are formatted using LaTeX. To write the equation above, for example, we used ```$\\frac{\\partial x}{\\partial t} = \\frac{\\partial x}{\\partial y} $``` in a markdown cell.\n",
    "\n"
   ]
  },
  {
   "cell_type": "markdown",
   "id": "magnetic-recipient",
   "metadata": {},
   "source": [
    "### The order of a differential equation is the highest order of any differential contained in it. \n",
    "\n",
    "For example, $\\frac{d x}{d t} = at$ is first order whilst $\\frac{d^3 x}{d t^3} + \\frac{x}{t} = b$ is third order.\n",
    "\n",
    "> Important: $\\frac{d^3 x}{d t^3}$ does not equal $\\left(\\frac{d x}{d t}\\right)^3$!"
   ]
  },
  {
   "cell_type": "markdown",
   "id": "champion-chapter",
   "metadata": {},
   "source": [
    "###  Linear equations do not contain higher powers of either the dependent variable or its differentials\n",
    "\n",
    "For example, $\\frac{d^3 x}{d t^3} = at$ and $\\frac{\\partial x}{\\partial t} = \\frac{\\partial x}{\\partial y} $ are linear, whilst $(\\frac{d x}{d t})^3 = at$ and $\\frac{d^3 x}{d t^3} = x^2$ is  non-linear.\n",
    "\n",
    "Non-linear equations can be particularly nasty to solve analytically, and so are often tackled numerically.\n",
    "\n",
    "### Homogeneous equations do not contain any non-differential terms\n",
    "\n",
    "For example, $\\frac{\\partial x}{\\partial t} = \\frac{\\partial x}{\\partial y}$ is a homogeneous equation, whilst $\\frac{\\partial x}{\\partial t} - \\frac{\\partial x}{\\partial y}=a$ is a heterogeneous equation (unless $a=0$!)\n",
    "\n",
    "### Separable equations can be written as a product of two functions of different variables\n",
    "\n",
    "A separable differential equation takes the form $f(y)\\frac{d y}{d t} = g(t)$. Separable equations are some of the easiest to solve as we can split the equation into two independent parts with fewer variables, and solve each in turn."
   ]
  },
  {
   "cell_type": "markdown",
   "id": "difficult-evans",
   "metadata": {},
   "source": [
    "---\n",
    "\n",
    "Do [the quick-test](https://nu-cem.github.io/CompPhys/2021/08/02/ODE-Types-Qs.html).\n",
    "\n",
    "Back to [Modelling with Ordinary Differential Equations](https://nu-cem.github.io/CompPhys/2021/08/02/ODEs.html).\n",
    "\n",
    "---"
   ]
  },
  {
   "cell_type": "code",
   "execution_count": null,
   "id": "boolean-lexington",
   "metadata": {},
   "outputs": [],
   "source": []
  }
 ],
 "metadata": {
  "kernelspec": {
   "display_name": "Python 3",
   "language": "python",
   "name": "python3"
  },
  "language_info": {
   "codemirror_mode": {
    "name": "ipython",
    "version": 3
   },
   "file_extension": ".py",
   "mimetype": "text/x-python",
   "name": "python",
   "nbconvert_exporter": "python",
   "pygments_lexer": "ipython3",
   "version": "3.8.5"
  }
 },
 "nbformat": 4,
 "nbformat_minor": 5
}
