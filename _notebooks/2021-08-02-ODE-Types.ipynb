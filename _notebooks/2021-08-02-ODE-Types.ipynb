{
 "cells": [
  {
   "cell_type": "markdown",
   "id": "amber-gossip",
   "metadata": {
    "slideshow": {
     "slide_type": "skip"
    }
   },
   "source": [
    "# Classifying differential equations\n",
    "\n",
    "- toc:false\n",
    "- branch: master\n",
    "- badges: false\n",
    "- comments: false\n",
    "- categories: [mathematics, numerical recipes]\n",
    "- hide: true"
   ]
  },
  {
   "cell_type": "markdown",
   "id": "animated-phrase",
   "metadata": {
    "slideshow": {
     "slide_type": "slide"
    }
   },
   "source": [
    "-------\n",
    "Questions:\n",
    "- What is a <mark>differential equation</mark>?\n",
    "- What is the difference between an ordinary (<mark>ODE</mark>) and partial (<mark>PDE</mark>) differential equation? \n",
    "- How do I classify the different types of differential equations?\n",
    "-------"
   ]
  },
  {
   "cell_type": "markdown",
   "id": "usual-residence",
   "metadata": {
    "slideshow": {
     "slide_type": "slide"
    }
   },
   "source": [
    "------\n",
    "Objectives:\n",
    "- Identify the dependent and independent variables in a differential equation\n",
    "- Distinguish between and ODE and PDE\n",
    "- Identify the <mark>order</mark> of a differential equation\n",
    "- Distinguish between <mark>linear</mark> and <mark>non-linear</mark> equations\n",
    "- Distinguish between <mark>heterogeneous</mark> and <mark>homogeneous</mark> equations\n",
    "- Identify a <mark>separable</mark> equation\n",
    "-----"
   ]
  },
  {
   "cell_type": "markdown",
   "id": "elect-reset",
   "metadata": {
    "slideshow": {
     "slide_type": "slide"
    }
   },
   "source": [
    "### A differential equation is an equation that relates one or more functions and their derivatives\n",
    "\n",
    "- The functions usually represent physical quantities (e.g. position $x$)\n",
    "- The derivative represents a rate of change (e.g. speed $v$)\n",
    "- The differential equation represents the relationship between the two:\n",
    "\n",
    "\\begin{equation}\n",
    "v = \\frac{dx}{dt}\n",
    "\\end{equation}"
   ]
  },
  {
   "cell_type": "markdown",
   "id": "ahead-column",
   "metadata": {
    "slideshow": {
     "slide_type": "slide"
    }
   },
   "source": [
    "### An independent variable is... a quantity that varies independently...\n",
    "\n",
    "- An <mark>independent variable</mark> does not depend on other variables\n",
    "- A <mark> dependent variable</mark> depends on the independent variable\n",
    "\n",
    "\\begin{equation}\n",
    "v = \\frac{dx}{dt}\n",
    "\\end{equation}\n",
    "\n",
    "- $t$ is the <mark>independent</mark> variable\n",
    "- $x$ is the <mark>dependent</mark> variable\n",
    "- Writing $x = x(t)$ makes this relationship clear.\n",
    " "
   ]
  },
  {
   "cell_type": "markdown",
   "id": "spoken-bachelor",
   "metadata": {
    "slideshow": {
     "slide_type": "slide"
    }
   },
   "source": [
    "### Differential equations can be classified in a variety of ways\n",
    "\n",
    "There are several ways to describe and classify differential equations. There are standard solution methods for each type, so it is useful to understand the classifications. \n",
    "\n",
    "![](../images/categories.png)\n",
    "\n",
    "<small>Once you can cook a single piece of spaghetti, you can cook all pieces of spaghetti!</small>"
   ]
  },
  {
   "cell_type": "markdown",
   "id": "greater-utilization",
   "metadata": {
    "slideshow": {
     "slide_type": "slide"
    }
   },
   "source": [
    "### An ODE contains differentials with respect to only one variable\n",
    "\n",
    "For example, the following equations are ODEs:\n",
    "\n",
    "\\begin{equation}\n",
    "\\frac{d x}{d t} = at\n",
    "\\frac{d^3 x}{d t^3} + \\frac{x}{t} = b\n",
    "\\end{equation}\n",
    "\n",
    "As in each case the differentials are with respect to the single variable $t$.\n",
    "\n"
   ]
  },
  {
   "cell_type": "markdown",
   "id": "international-freeware",
   "metadata": {
    "slideshow": {
     "slide_type": "slide"
    }
   },
   "source": [
    "### Partial differential equations (PDE) contain differentials with respect to several independent variables. \n",
    "\n",
    "An example of a PDE is:\n",
    "\n",
    "\\begin{equation}\n",
    "\\frac{\\partial x}{\\partial t} = \\frac{\\partial x}{\\partial y} \n",
    "\\end{equation}\n",
    "\n",
    "As there is one differential with respect to $t$ and one differential with respect to $y$. \n",
    "\n",
    "Note also the difference in notation - <mark>for ODEs we use $d$ whilst for PDEs we  use $\\partial$</mark>.\n",
    "\n",
    "> Note: the equations in this notebook are formatted using [LaTeX](https://www.latex-project.org/). \n"
   ]
  },
  {
   "cell_type": "markdown",
   "id": "magnetic-recipient",
   "metadata": {
    "slideshow": {
     "slide_type": "slide"
    }
   },
   "source": [
    "### The order of a differential equation is the highest order of any differential contained in it. \n",
    "\n",
    "For example:\n",
    "\n",
    "$\\frac{d x}{d t} = at$ is <mark>first order</mark>. \n",
    "\n",
    "$\\frac{d^3 x}{d t^3} + \\frac{x}{t} = b$ is <mark>third order</mark>.\n",
    "\n",
    "> Important: $\\frac{d^3 x}{d t^3}$ does not equal $\\left(\\frac{d x}{d t}\\right)^3$!"
   ]
  },
  {
   "cell_type": "markdown",
   "id": "champion-chapter",
   "metadata": {
    "slideshow": {
     "slide_type": "slide"
    }
   },
   "source": [
    "###  Linear equations do not contain higher powers of either the dependent variable or its differentials\n",
    "\n",
    "For example:\n",
    "\n",
    "$\\frac{d^3 x}{d t^3} = at$ and $\\frac{\\partial x}{\\partial t} = \\frac{\\partial x}{\\partial y} $ are <mark>linear</mark>.\n",
    "\n",
    "$(\\frac{d x}{d t})^3 = at$ and $\\frac{d^3 x}{d t^3} = x^2$ are <mark>non-linear</mark>.\n",
    "\n",
    "Non-linear equations can be particularly nasty to solve analytically, and so are often tackled numerically.\n",
    "\n"
   ]
  },
  {
   "cell_type": "markdown",
   "id": "french-state",
   "metadata": {
    "slideshow": {
     "slide_type": "slide"
    }
   },
   "source": [
    "\n",
    "### Homogeneous equations do not contain any non-differential terms\n",
    "\n",
    "For example:\n",
    "\n",
    "$\\frac{\\partial x}{\\partial t} = \\frac{\\partial x}{\\partial y}$ is a <mark>homogeneous equation</mark>.\n",
    "\n",
    "$\\frac{\\partial x}{\\partial t} - \\frac{\\partial x}{\\partial y}=a$ is a <mark>heterogeneous equation</mark> (unless $a=0$!).\n"
   ]
  },
  {
   "cell_type": "markdown",
   "id": "southeast-affairs",
   "metadata": {
    "slideshow": {
     "slide_type": "slide"
    }
   },
   "source": [
    "\n",
    "### Separable equations can be written as a product of two functions of different variables\n",
    "\n",
    "A separable first-order one-variable differential equation takes the form \n",
    "\n",
    "\\begin{equation}\n",
    "f(x)\\frac{d x}{d t} = g(t)\n",
    "\\end{equation}\n",
    "\n",
    "Separable equations are some of the easiest to solve as we can split the equation into two independent parts with fewer variables, and solve each in turn - we will see an example of this in the next lesson."
   ]
  },
  {
   "cell_type": "markdown",
   "id": "specialized-passport",
   "metadata": {
    "slideshow": {
     "slide_type": "slide"
    }
   },
   "source": [
    "----\n",
    "Summary:\n",
    "\n",
    "- An independent variable is a quantity that varies independently\n",
    "- Differential equations can be classified in a variety of ways\n",
    "- An ODE contains differentials with respect to only one variable\n",
    "- The order is the highest order of any differential contained in it\n",
    "- Linear equations do not contain higher powers of either the dependent variable or its differentials\n",
    "- Homogeneous equations do not contain any non-differential terms\n",
    "------\n"
   ]
  },
  {
   "cell_type": "markdown",
   "id": "difficult-evans",
   "metadata": {
    "slideshow": {
     "slide_type": "skip"
    }
   },
   "source": [
    "---\n",
    "\n",
    "Do [the quick-test](https://nu-cem.github.io/CompPhys/2021/08/02/ODE-Types-Qs.html).\n",
    "\n",
    "Back to [Modelling with Ordinary Differential Equations](https://nu-cem.github.io/CompPhys/2021/08/02/ODEs.html).\n",
    "\n",
    "---"
   ]
  },
  {
   "cell_type": "code",
   "execution_count": null,
   "id": "geographic-mustang",
   "metadata": {},
   "outputs": [],
   "source": []
  }
 ],
 "metadata": {
  "celltoolbar": "Slideshow",
  "kernelspec": {
   "display_name": "Python 3 (ipykernel)",
   "language": "python",
   "name": "python3"
  },
  "language_info": {
   "codemirror_mode": {
    "name": "ipython",
    "version": 3
   },
   "file_extension": ".py",
   "mimetype": "text/x-python",
   "name": "python",
   "nbconvert_exporter": "python",
   "pygments_lexer": "ipython3",
   "version": "3.9.6"
  }
 },
 "nbformat": 4,
 "nbformat_minor": 5
}
