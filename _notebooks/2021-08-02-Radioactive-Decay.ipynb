{
 "cells": [
  {
   "cell_type": "markdown",
   "id": "unable-religion",
   "metadata": {},
   "source": [
    "# Radioactive decay\n",
    "\n",
    "- toc:false\n",
    "- branch: master\n",
    "- badges: true\n",
    "- comments: false\n",
    "- categories: [mathematics, numerical recipes]\n",
    "- hide: true"
   ]
  },
  {
   "cell_type": "markdown",
   "id": "confirmed-ownership",
   "metadata": {},
   "source": [
    "Questions:\n",
    "- How can I describe radioactive decay using a first-order ODE? \n",
    "- What are initial conditions and why are  they important?\n",
    "\n",
    "Objectives:\n",
    "- Map between physical notation for a particular problem and the more general notation for all differential equations\n",
    "- Solve a linear, first order, separable ODE using integration\n",
    "- Understand the physical importance of initial conditions \n",
    "\n",
    "Keypoints:\n",
    "- Radioactive decay can be modelled a linear, first-order ODE\n",
    "- The equation for radioactive decay is separable and has an analytic solution\n",
    "- There is a whole class of solutions dependent on the initial value $N_0$"
   ]
  },
  {
   "cell_type": "markdown",
   "id": "advisory-telling",
   "metadata": {},
   "source": [
    "### Radioactive decay can be modelled a linear, first-order ODE\n",
    "\n",
    "We will now model radioactive decay using a differential equation, We know that the decay rate is proportional to the number of atoms present.  Mathematically, this relationship can be expressed as:\n",
    "\n",
    "\\begin{equation}\n",
    "\\frac{d y}{d x} = cy\n",
    "\\end{equation}\n",
    "\n",
    "or, choosing notation that is more in keeping with the context of the problem:\n",
    "\n",
    "\\begin{equation}\n",
    "\\frac{d N}{d t} = -\\lambda N\n",
    "\\end{equation}\n",
    "\n",
    "This equation is linear and first-order.\n",
    "\n",
    "| physical notation | generic notation |\n",
    "|-----|-----|\n",
    "|number of  atoms $N$ | dependent  variable $y$|\n",
    "| time $t$ | independent variable  $x$|\n",
    "| decay rate $\\frac{dN}{dt}$ | differential $\\frac{dy}{dx}$|\n",
    "| constant of proportionality $-\\lambda $ | parameter $c$ |\n",
    "\n",
    "### The equation for radioactive decay is separable and has an analytic solution\n",
    "\n",
    "Equations 1 and 2 are separable. Equation 2, for example, can be separated as:\n",
    "\n",
    "\\begin{equation}\n",
    "\\frac{dN}{N} = -\\lambda dt.\n",
    "\\end{equation}\n",
    "\n",
    "We can then integrate each side:\n",
    "\n",
    "\\begin{equation}\n",
    "\\ln N = -\\lambda t + const.\n",
    "\\end{equation}\n",
    "\n",
    "> Note: Remember that $\\int \\frac{1}{x} dx = \\ln x$\n",
    "\n",
    "> Important: Don't forget the constant of integration\n",
    "\n",
    "and solve for N:\n",
    "\n",
    "\\begin{equation}\n",
    "N = e^{-\\lambda t}e^{\\textrm{const.}} \n",
    "\\end{equation}\n",
    "\n",
    "### There is a whole class of solutions dependent on the initial value $N_0$\n",
    "\n",
    "At the beginning, $t=0$, $N = e^{-\\lambda t}e^{\\textrm{const.}} = e^{0}e^{\\textrm{const.}} = e^{\\textrm{const.}}$. As such, we can identify $e^{\\textrm{const.}}$ as the amount of radioactive material that was present in the beginning, denoted with $N_0$.\n",
    "\n",
    "As a result of this observation, the final solution can be more meaningfully written as:\n",
    "\n",
    "\\begin{equation}\n",
    "N = N_0 e^{-\\lambda t}\n",
    "\\end{equation}\n",
    "\n",
    "We now have  not  just one solution, but a whole  class  of solutions that are dependent on the initial amount of radioactive material $N_0$. To model  a physical system, this initial value (also known as initial condition) has to be provided alongside the constant of proportionality $\\lambda$.\n",
    "\n",
    "### The number of  initial conditions depends on the order of  the differential equation\n",
    "\n",
    "Note that as this is a first-order ODE we only had to provide a single  initial condition. For second-order  ODEs  we would  need to provide two initial conditions, for third-order ODEs we would  need to provide three, and so on.\n",
    "\n",
    "A similar equation could be used for other systems - for example, the animal populations where the growth rate is proportional to the number of animals. "
   ]
  },
  {
   "cell_type": "markdown",
   "id": "honest-startup",
   "metadata": {},
   "source": [
    "---\n",
    "\n",
    "Do [the quick-test](https://nu-cem.github.io/CompPhys/2021/08/02/Radioactive-Decay-Qs.html).\n",
    "\n",
    "Back to [Modelling with Ordinary Differential Equations](https://nu-cem.github.io/CompPhys/2021/08/02/ODEs.html).\n",
    "\n",
    "---"
   ]
  },
  {
   "cell_type": "code",
   "execution_count": null,
   "id": "received-verification",
   "metadata": {},
   "outputs": [],
   "source": []
  }
 ],
 "metadata": {
  "kernelspec": {
   "display_name": "Python 3",
   "language": "python",
   "name": "python3"
  },
  "language_info": {
   "codemirror_mode": {
    "name": "ipython",
    "version": 3
   },
   "file_extension": ".py",
   "mimetype": "text/x-python",
   "name": "python",
   "nbconvert_exporter": "python",
   "pygments_lexer": "ipython3",
   "version": "3.8.5"
  }
 },
 "nbformat": 4,
 "nbformat_minor": 5
}
