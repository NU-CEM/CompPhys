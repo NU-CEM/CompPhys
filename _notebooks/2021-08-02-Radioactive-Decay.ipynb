{
 "cells": [
  {
   "cell_type": "markdown",
   "id": "unable-religion",
   "metadata": {
    "slideshow": {
     "slide_type": "skip"
    }
   },
   "source": [
    "# Radioactive decay\n",
    "\n",
    "- toc: false\n",
    "- branch: master\n",
    "- badges: false\n",
    "- comments: false\n",
    "- categories: [mathematics, numerical recipes]\n",
    "- hide: true"
   ]
  },
  {
   "attachments": {},
   "cell_type": "markdown",
   "id": "damaged-baghdad",
   "metadata": {
    "slideshow": {
     "slide_type": "slide"
    }
   },
   "source": [
    "# ⚛️  Radioactive decay ⚛️ "
   ]
  },
  {
   "cell_type": "markdown",
   "id": "confirmed-ownership",
   "metadata": {
    "slideshow": {
     "slide_type": "slide"
    }
   },
   "source": [
    "----\n",
    "Questions:\n",
    "- How can I describe radioactive decay using a first-order ODE? \n",
    "- What are <mark>initial conditions</mark> and why are  they important?\n",
    "----"
   ]
  },
  {
   "cell_type": "markdown",
   "id": "extra-dressing",
   "metadata": {
    "slideshow": {
     "slide_type": "slide"
    }
   },
   "source": [
    "----\n",
    "Objectives:\n",
    "- Map between physical notation for a particular problem and the more general notation for all differential equations\n",
    "- Solve a linear, first order, separable ODE using integration\n",
    "- Understand the physical importance of initial conditions \n",
    "----\n",
    "\n"
   ]
  },
  {
   "cell_type": "markdown",
   "id": "advisory-telling",
   "metadata": {
    "slideshow": {
     "slide_type": "slide"
    }
   },
   "source": [
    "### Radioactive decay can be modelled a linear, first-order ODE\n",
    "\n",
    "As our first example of an ODE we will model radioactive decay using a differential equation.\n",
    "\n",
    "We know that the decay rate is proportional to the number of atoms present.  Mathematically, this relationship can be expressed as:\n",
    "\n",
    "\\begin{equation}\n",
    "\\frac{d y}{d x} = cy\n",
    "\\end{equation}\n",
    "\n",
    "or, choosing notation that is more in keeping with the context of the problem:\n",
    "\n",
    "\\begin{equation}\n",
    "\\frac{d N}{d t} = -\\lambda N\n",
    "\\end{equation}\n"
   ]
  },
  {
   "cell_type": "markdown",
   "id": "radical-stupid",
   "metadata": {
    "slideshow": {
     "slide_type": "subslide"
    }
   },
   "source": [
    "For example,  if we know that 10% of atoms will decay per second we could write:\n",
    "\n",
    "\\begin{equation}\n",
    "\\frac{d N}{d t} = -0.1 N\n",
    "\\end{equation}\n",
    "\n",
    "where $N$ is the number of atoms and $t$ is time measured in seconds.\n",
    "\n",
    "This equation is linear and first-order.\n",
    "\n",
    "| physical notation | generic notation |\n",
    "|-----|-----|\n",
    "|number of  atoms $N$ | dependent  variable $y$|\n",
    "| time $t$ | independent variable  $x$|\n",
    "| decay rate $\\frac{dN}{dt}$ | differential $\\frac{dy}{dx}$|\n",
    "| constant of proportionality $\\lambda=0.1 $ | parameter $c$ |"
   ]
  },
  {
   "cell_type": "markdown",
   "id": "continuous-crack",
   "metadata": {
    "slideshow": {
     "slide_type": "slide"
    }
   },
   "source": [
    "### The equation for radioactive decay is separable and has an analytic solution\n",
    "\n",
    "The radioactive decay equation is <mark>separable</mark>. For example,\n",
    "\n",
    "\\begin{equation}\n",
    "\\frac{d N}{d t} = -\\lambda N\n",
    "\\end{equation}\n",
    "\n",
    "Can be seperated as\n",
    "\n",
    "\\begin{equation}\n",
    "\\frac{dN}{N} = -\\lambda dt.\n",
    "\\end{equation}\n",
    "\n",
    "We can then integrate each side:\n",
    "\n",
    "\\begin{equation}\n",
    "\\ln N = -\\lambda t + const.\n",
    "\\end{equation}\n",
    "\n",
    "and solve for N:\n",
    "\n",
    "\\begin{equation}\n",
    "N = e^{-\\lambda t}e^{\\textrm{const.}} \n",
    "\\end{equation}\n"
   ]
  },
  {
   "cell_type": "markdown",
   "id": "insured-programming",
   "metadata": {
    "slideshow": {
     "slide_type": "skip"
    }
   },
   "source": [
    "> Note: Remember that $\\int \\frac{1}{x} dx = \\ln x + \\textrm{const.}$"
   ]
  },
  {
   "cell_type": "markdown",
   "id": "alpine-playing",
   "metadata": {
    "slideshow": {
     "slide_type": "slide"
    }
   },
   "source": [
    "### To model a physical system an initial value has to be provided\n",
    "\n",
    "At the beginning (when $t=0$):\n",
    "\n",
    "\\begin{equation}\n",
    "N = e^{-\\lambda t}e^{\\textrm{const.}} = e^{0}e^{\\textrm{const.}} = e^{\\textrm{const.}}\n",
    "\\end{equation}\n",
    "\n",
    "So we can identify $e^{\\textrm{const.}}$ as the amount of radioactive material that was present in the beginning. We denote this starting amount as $N_0$."
   ]
  },
  {
   "cell_type": "markdown",
   "id": "palestinian-entry",
   "metadata": {
    "slideshow": {
     "slide_type": "subslide"
    }
   },
   "source": [
    "Substituting this back into Equation 4, the final solution can be more meaningfully written as:\n",
    "\n",
    "\\begin{equation}\n",
    "N = N_0 e^{-\\lambda t}\n",
    "\\end{equation}\n",
    "\n",
    "We now have  not  just one solution, but a whole class  of solutions that are dependent on the initial amount of radioactive material $N_0$. \n",
    "\n",
    "Remember that not all mathematical solutions make physical sense. <mark>To model a physical system, this initial value (also known as initial condition) has to be provided alongside the constant of proportionality $\\lambda$.</mark>\n",
    "\n"
   ]
  },
  {
   "cell_type": "markdown",
   "id": "inappropriate-skating",
   "metadata": {
    "slideshow": {
     "slide_type": "slide"
    }
   },
   "source": [
    "### The number of  initial conditions depends on the order of  the differential equation\n",
    "\n",
    "Note that as this is a first-order ODE we only had to provide a single  initial condition. For second-order  ODEs  we would  need to provide two initial conditions, for third-order ODEs we would  need to provide three, and so on.\n"
   ]
  },
  {
   "cell_type": "markdown",
   "id": "capital-burton",
   "metadata": {
    "slideshow": {
     "slide_type": "slide"
    }
   },
   "source": [
    "-----\n",
    "Keypoints:\n",
    "- Radioactive decay can be modelled a linear, first-order ODE\n",
    "- The equation for radioactive decay is separable and has an analytic solution\n",
    "- To model a physical system an initial value has to be provided\n",
    "- The number of  initial conditions depends on the order of  the differential equation\n",
    "-----"
   ]
  },
  {
   "cell_type": "markdown",
   "id": "honest-startup",
   "metadata": {
    "slideshow": {
     "slide_type": "skip"
    }
   },
   "source": [
    "---\n",
    "\n",
    "Do [the quick-test](https://nu-cem.github.io/CompPhys/2021/08/02/Radioactive-Decay-Qs.html).\n",
    "\n",
    "Back to [Modelling with Ordinary Differential Equations](https://nu-cem.github.io/CompPhys/2021/08/02/ODEs.html).\n",
    "\n",
    "---"
   ]
  }
 ],
 "metadata": {
  "celltoolbar": "Slideshow",
  "kernelspec": {
   "display_name": "Python 3",
   "language": "python",
   "name": "python3"
  },
  "language_info": {
   "codemirror_mode": {
    "name": "ipython",
    "version": 3
   },
   "file_extension": ".py",
   "mimetype": "text/x-python",
   "name": "python",
   "nbconvert_exporter": "python",
   "pygments_lexer": "ipython3",
   "version": "3.8.5"
  }
 },
 "nbformat": 4,
 "nbformat_minor": 5
}
