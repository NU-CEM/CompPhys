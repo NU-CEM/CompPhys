{
 "cells": [
  {
   "cell_type": "markdown",
   "id": "840eeb94",
   "metadata": {},
   "source": [
    "# Variables and assignment\n",
    "\n",
    "- toc:false\n",
    "- branch: master\n",
    "- badges: true\n",
    "- comments: false\n",
    "- categories: [python]\n",
    "- hide: true"
   ]
  },
  {
   "cell_type": "markdown",
   "id": "4ed9ca10",
   "metadata": {},
   "source": [
    "---\n",
    "\n",
    "Questions:\n",
    "- How can I store data in programs?\n",
    "\n",
    "Objectives:\n",
    "- Write programs that assign scalar values to variables and perform calculations with those values.\n",
    "- Correctly trace value changes in programs that use scalar assignment.\n",
    "\n",
    "Keypoints:\n",
    "- Use variables to store values.\n",
    "- Use `print` to display values.\n",
    "- Variables persist between cells.\n",
    "- Variables must be created before they are used.\n",
    "- Variables can be used in calculations.\n",
    "- Python is case-sensitive.\n",
    "- Use meaningful variable names.\n",
    "---\n",
    "\n"
   ]
  },
  {
   "cell_type": "markdown",
   "id": "2778704a",
   "metadata": {},
   "source": [
    "### Use variables to store values.\n",
    "\n",
    "*   Variables are names for values.\n",
    "*   In Python the `=` symbol assigns the value on the right to the name on the left.\n",
    "*   The variable is created when a value is assigned to it.\n",
    "*   Here, Python assigns an age to a variable `age` and a name in quotes to a variable `first_name`."
   ]
  },
  {
   "cell_type": "code",
   "execution_count": 3,
   "id": "657107ce",
   "metadata": {},
   "outputs": [],
   "source": [
    "age = 42\n",
    "first_name = 'Ahmed'"
   ]
  },
  {
   "cell_type": "markdown",
   "id": "a0d6e754",
   "metadata": {},
   "source": [
    "### Variable names\n",
    "* can **only** contain letters, digits, and underscore `_` (typically used to separate words in long variable names)\n",
    "* cannot start with a digit\n",
    "*   Variable names that start with underscores like `__bobbins_real_age` have a special meaning\n",
    "    so we won't do that until we understand the convention.\n",
    "\n",
    "\n"
   ]
  },
  {
   "cell_type": "markdown",
   "id": "1b62b1d1",
   "metadata": {},
   "source": [
    "### Use `print` to display values.\n",
    "\n",
    "*   Python has a built-in function called `print` that prints things as text.\n",
    "*   Call the function (i.e., tell Python to run it) by using its name.\n",
    "*   Provide values to the function (i.e., the things to print) in parentheses.\n",
    "*   To add a string to the printout, wrap the string in single or double quotes.\n",
    "*   The values passed to the function are called 'arguments'"
   ]
  },
  {
   "cell_type": "code",
   "execution_count": 6,
   "id": "7c1cfa75",
   "metadata": {},
   "outputs": [
    {
     "name": "stdout",
     "output_type": "stream",
     "text": [
      "Ahmed is 42 years old\n"
     ]
    }
   ],
   "source": [
    "print(first_name, 'is', age, 'years old')"
   ]
  },
  {
   "cell_type": "markdown",
   "id": "f42402dc",
   "metadata": {},
   "source": [
    "\n",
    "\n",
    "*   `print` automatically puts a single space between items to separate them.\n",
    "*   And wraps around to a new line at the end."
   ]
  },
  {
   "cell_type": "markdown",
   "id": "b768cb71",
   "metadata": {},
   "source": [
    "\n",
    "\n",
    "### Variables must be created before they are used.\n",
    "\n",
    "*   Unlike some languages, which \"guess\" a default value, if a variable doesn't exist yet, or if the name has been mis-spelled, Python reports an error.\n",
    "      \n",
    "\n"
   ]
  },
  {
   "cell_type": "code",
   "execution_count": 7,
   "id": "cde7301f",
   "metadata": {},
   "outputs": [
    {
     "ename": "NameError",
     "evalue": "name 'last_name' is not defined",
     "output_type": "error",
     "traceback": [
      "\u001b[0;31m---------------------------------------------------------------------------\u001b[0m",
      "\u001b[0;31mNameError\u001b[0m                                 Traceback (most recent call last)",
      "\u001b[0;32m/var/folders/5q/mny3pg2n7h5g21h3v32rfj9wpykqrf/T/ipykernel_792/2256896230.py\u001b[0m in \u001b[0;36m<module>\u001b[0;34m\u001b[0m\n\u001b[0;32m----> 1\u001b[0;31m \u001b[0mprint\u001b[0m\u001b[0;34m(\u001b[0m\u001b[0mlast_name\u001b[0m\u001b[0;34m)\u001b[0m\u001b[0;34m\u001b[0m\u001b[0;34m\u001b[0m\u001b[0m\n\u001b[0m\u001b[1;32m      2\u001b[0m \u001b[0;34m\u001b[0m\u001b[0m\n",
      "\u001b[0;31mNameError\u001b[0m: name 'last_name' is not defined"
     ]
    }
   ],
   "source": [
    "print(last_name)"
   ]
  },
  {
   "cell_type": "markdown",
   "id": "4d399c11",
   "metadata": {},
   "source": [
    "\n",
    "*   The last line of an error message is usually the most informative.\n",
    "*   We will look at error messages in detail [later]({{ page.root }}/15-scope/#reading-error-messages).\n"
   ]
  },
  {
   "cell_type": "markdown",
   "id": "2f026a40",
   "metadata": {},
   "source": [
    "\n",
    "### Variables Persist Between Cells\n",
    "\n",
    "Be aware that it is the order of **execution** of cells that is important in a Jupyter notebook, not the order\n",
    "in which they appear. Python will remember **all** the code that was run previously, including any variables you have\n",
    "defined, irrespective of the order in the notebook. Therefore if you define variables lower down the notebook and then\n",
    "(re)run cells further up, those defined further down will still be present. As an example, we can create 2 cells with the following content, in this order:\n"
   ]
  },
  {
   "cell_type": "code",
   "execution_count": null,
   "id": "4dbfcbbe",
   "metadata": {},
   "outputs": [],
   "source": [
    "print(myval)"
   ]
  },
  {
   "cell_type": "code",
   "execution_count": null,
   "id": "4c270010",
   "metadata": {},
   "outputs": [],
   "source": [
    "myval = 1"
   ]
  },
  {
   "cell_type": "markdown",
   "id": "6a877b5e",
   "metadata": {},
   "source": [
    "\n",
    "If you execute this in order, the first cell will give an error. However, if you run the first cell **after** the second\n",
    "cell it will print out ‘1’. To prevent confusion, it can be helpful to use the `Kernel` -> `Restart & Run All` option which\n",
    " clears the interpreter and runs everything from a clean slate going top to bottom.\n"
   ]
  },
  {
   "cell_type": "markdown",
   "id": "31c5ad2b",
   "metadata": {},
   "source": [
    "\n",
    "\n",
    "### Variables can be used in calculations.\n",
    "\n",
    "*   We can use variables in calculations just as if they were values.\n",
    "\n"
   ]
  },
  {
   "cell_type": "code",
   "execution_count": 8,
   "id": "506ca951",
   "metadata": {},
   "outputs": [
    {
     "name": "stdout",
     "output_type": "stream",
     "text": [
      "Age in three years: 45\n"
     ]
    }
   ],
   "source": [
    "age = 42\n",
    "age = age + 3\n",
    "print('Age in three years:', age)"
   ]
  },
  {
   "cell_type": "markdown",
   "id": "d2a3629a",
   "metadata": {},
   "source": [
    "\n",
    "\n",
    "\n",
    "## Python is case-sensitive.\n",
    "\n",
    "*   Python thinks that upper- and lower-case letters are different,\n",
    "    so `Name` and `name` are different variables.\n",
    "*   There are conventions for using upper-case letters at the start of variable names so we will use lower-case letters for now.\n",
    "\n"
   ]
  },
  {
   "cell_type": "markdown",
   "id": "36f98f3d",
   "metadata": {},
   "source": [
    "## Use meaningful variable names.\n",
    "\n",
    "*   Python doesn't care what you call variables as long as they obey the rules\n",
    "    (alphanumeric characters and the underscore).\n"
   ]
  },
  {
   "cell_type": "code",
   "execution_count": null,
   "id": "e2536bec",
   "metadata": {},
   "outputs": [],
   "source": [
    "flabadab = 42\n",
    "ewr_422_yY = 'Ahmed'\n",
    "print(ewr_422_yY, 'is', flabadab, 'years old')"
   ]
  },
  {
   "cell_type": "markdown",
   "id": "f0f506de",
   "metadata": {},
   "source": [
    "*   Use meaningful variable names to help other people understand what the program does.\n",
    "*   The most important \"other person\" is your future self.\n",
    "\n"
   ]
  },
  {
   "cell_type": "markdown",
   "id": "55466fd9",
   "metadata": {},
   "source": [
    "---\n",
    "\n",
    "Do [the activities](https://nu-cem.github.io/CompPhys/2021/08/02/02-Variables-Assignment-Qs.html).\n",
    "\n",
    "Back to [Python basics - part one](https://nu-cem.github.io/CompPhys/2021/08/02/Python_basics_one.html).\n",
    "\n",
    "---"
   ]
  },
  {
   "cell_type": "code",
   "execution_count": null,
   "id": "17e4d9c0",
   "metadata": {},
   "outputs": [],
   "source": []
  }
 ],
 "metadata": {
  "kernelspec": {
   "display_name": "Python 3 (ipykernel)",
   "language": "python",
   "name": "python3"
  },
  "language_info": {
   "codemirror_mode": {
    "name": "ipython",
    "version": 3
   },
   "file_extension": ".py",
   "mimetype": "text/x-python",
   "name": "python",
   "nbconvert_exporter": "python",
   "pygments_lexer": "ipython3",
   "version": "3.9.6"
  }
 },
 "nbformat": 4,
 "nbformat_minor": 5
}
