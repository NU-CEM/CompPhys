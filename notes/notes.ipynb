{
 "cells": [
  {
   "cell_type": "code",
   "execution_count": 2,
   "id": "8b35161b",
   "metadata": {},
   "outputs": [
    {
     "data": {
      "text/plain": [
       "<matplotlib.legend.Legend at 0x11672be80>"
      ]
     },
     "execution_count": 2,
     "metadata": {},
     "output_type": "execute_result"
    },
    {
     "data": {
      "image/png": "[encoded data removed]",
      "text/plain": [
       "<Figure size 432x288 with 1 Axes>"
      ]
     },
     "metadata": {
      "needs_background": "light"
     },
     "output_type": "display_data"
    }
   ],
   "source": [
    "## for the RK2 image in the ODE lesson\n",
    "\n",
    "import matplotlib.pyplot as plt\n",
    "import numpy as np\n",
    "\n",
    "x = np.arange(0,100)\n",
    "y = ((x-2)**2)-0.01*x**3\n",
    "dy_30 = 29*x-(870-514)\n",
    "dy_55 = 15.25*x-(1145.25-1455)\n",
    "plt.plot(x,y)\n",
    "plt.plot(x,dy_30,label=r'Slope at $t$')\n",
    "plt.plot(x,dy_55,label=r'Slope at $t+\\frac{h}{2}$')\n",
    "plt.scatter(30,514,marker='o',color='black')\n",
    "plt.scatter(80,964,marker='o',color='black')\n",
    "#plt.scatter(80,1964,marker='x',color='black')\n",
    "#plt.scatter(80, 1529.65,marker='x',color='black')\n",
    "plt.xticks([30,80],[r'$t$',r'$t+h$'])\n",
    "plt.yticks([])\n",
    "plt.legend()"
   ]
  },
  {
   "cell_type": "markdown",
   "id": "a19f5296",
   "metadata": {},
   "source": [
    "### Logistics\n",
    "- snacks\n",
    "- TA\n",
    "- projector for online presentations from visitors\n",
    "- whiteboard pen / A-board for sketches\n",
    "- in Induction: ask students to bring laptop and follow setup instructions\n",
    "- Hacker stickers\n",
    "- Have a binder setup as backup\n",
    "- Sticky notes in green and pink\n",
    "- HDMI cable\n",
    "- iPad as an additional screen?\n",
    "\n",
    "### From discussion with Giulia - \n",
    "\n",
    "- highlight .txt = .csv for reading in  DONE\n",
    "- cross reference with experiment in two places  DONE\n",
    "- include error bars \n",
    "- need to include more on least squares curve fitting\n",
    "- discuss how averaging can reduce the error\n",
    "- send giulia 3blue1brown resources DONE\n",
    "- program the error propoagation example in the lab script DONE\n",
    "\n",
    "### From earlier notes\n",
    "\n",
    "- Remember to include printing out version numbers after import\n",
    "- Emphasise the style: live-coding\n",
    "- Motivation: why is this important? This is the age of computing. Talk about supercomputers. Talk about how it sits in our every day life. Talk about the creative arts, talk about technology. Talk about quantum computing. Computational science is THE BEST.\n",
    "- every little bit is important! one extra full stop means disaster.\n",
    "- How the experimental and computational parts fit together\n",
    "- Why would you do this to me? meme.\n",
    "- explain somethign to grandparent who doesnt know anything about programming\n",
    "- include anonymous polling for each lesson (mentimetre)\n",
    "- padlet for anonymous feedback?\n",
    "- stickies and pair working\n",
    "- raise issues using Github: show that it is all in the open.\n",
    "- Git origin story. 65 million repositories!\n",
    "- Questions for earlier sections:\n",
    "    - For the if and for loop section can practice by making piecewise / heaviside functions\n",
    "     - 2D plots\n",
    "     - binomial distribution - when do theory and numerical results converge? The problem of factorial numbers being very large and using built in functions instead\n",
    "     -  Taylor expanding / polynomial expansion of an exponential function\n",
    "- Add a pre-requisites for the course (mostly mathematical elements)\n",
    "\n",
    "### resources\n",
    "\n",
    "- https://jabberwocky.weecology.org/2016/11/14/fork-our-course-a-semester-long-data-carpentry-course-for-biologists/\n",
    "- https://emilyriederer.netlify.app/post/causal-design-patterns/\n",
    "- http://www.fizika.unios.hr/rf/wp-content/uploads/sites/67/2011/02/CPwP.pdf\n",
    "- https://reproducible-science-curriculum.github.io/sharing-RR-Jupyter/01-sharing-github/\n",
    "- https://github.com/mxgmn/WaveFunctionCollapse\n",
    "- https://www.youtube.com/channel/UC9IuUwwE2xdjQUT_LMLONoA\n",
    "- what happened to women in computer science?\n",
    "- https://third-bit.com/\n",
    "- git cheatsheet for drawing along: https://github.com/omsai/git-swc-worksheet/releases/tag/v2018.05.10\n",
    "- performance, productivity and generality\n",
    "- https://github.com/afeiguin/comp-phys\n",
    "- https://github.com/afeiguin/numerical-mooc\n",
    "- what we do adn basic rules: https://librarycarpentry.org/lc-git/\n",
    "- https://librarycarpentry.org/lc-git/05-github-pages/index.html\n",
    "- connect4 tournament"
   ]
  },
  {
   "cell_type": "markdown",
   "id": "96c0b4e4",
   "metadata": {},
   "source": [
    "### Questions for the ODE lesson\n",
    "\n",
    "part 1 - describing 5 different equations using technical language\n",
    "\n",
    "part 2 - generic vs physical notation for another equation: see Quora \"what precisely is a differential equation?\" for more examples.\n",
    "\n",
    "part 3 - Apply Euler's method to one of the problems in part 2 questions. Explore accuracy as the timestep is changed.\n",
    "\n",
    "part 4 - why is the Lorenz equation not a partial differential equation? Turn another equation into two simultaneous equations.\n",
    "\n",
    "part 5 - Use timeit function to compare this to the built-in function for Runge Kutta.\n",
    "\n",
    "Task: Implement Euler and Runge Kutta for two body and three body problem (see previous lab notes). Or should it be the pendulum problem with increasing complexity, then the state space?\n",
    "\n",
    "Extension: Leapfrog integration scheme"
   ]
  },
  {
   "cell_type": "markdown",
   "id": "97306068",
   "metadata": {},
   "source": [
    "### Resources\n",
    "\n",
    "See the 3blue1red (or whatever it is) channel of DE's - looks like some great videos.\n",
    "\n",
    "- link to useful resources on each page (e.g. 3blue1brown)\n",
    "\n",
    "\n",
    "### Prereq\n",
    "\n",
    "- what integrals and differentials are (limits in smaller and smaller time/space steps)\n",
    "- geometry: resolving forces e.g. -g\\*sin theta \n",
    "- Taylor expansion\n",
    "\n",
    "### PDEs\n",
    "\n",
    "- PDEs have multiple inputs\n",
    "- a temperature at every point\n",
    "- velocity at every point in space\n",
    "- doesn;t need to be like this but most commonly space and time.\n",
    "\n",
    "\n",
    "### ODEs\n",
    "\n",
    "- problem with the 2-body problem. Are coupled together. Not so simple as just dependent on g.\n",
    "- Should include something on simple harmonic motion? Think about the different levels of approximation: non-linear, then when theta is large. a = -gsin(theta). Then include air resistance: -mu theta.\n",
    "\n",
    "- Differential solutions are really difficult to solve analytically- even something simple like the simple harmonic motion. For damped, there is no way to write a full analytic solution. Indepentent are initial angle and velocity. This can be described fully with these two (acceleration depends on them). See state space (an abstract thing) which is different from physical space the pendulum is in. Plot the spiral inwards and you can see the vector field. Everything moves into -is attracted by - a single value. think about what happens if the pendulum is really fast to begin with - it spins around a few times. What happens when mu is changed? Think also about stability.\n",
    "\n",
    "- Think about state space vs phase space.\n",
    "\n",
    "- Any system can be described by a vector field so it's a vey general approach. 3 body problem - 18 degrees of freedom (3*6)\n",
    "\n",
    "- The romance equations by stiglitz, new york times. The tactics for one case transfer across to other ones.\n",
    "\n",
    "- Simulate what the universe would do but using finite timesteps. there is always a trade off between accuracy and efficiency.\n",
    "\n",
    "- Chaos theory tells us there are limits to how well numerical models can work: small changes to initial conditions has massive changes in results.\n",
    "\n",
    "### PDEs\n",
    "\n",
    "- heat equation. piece of metal. know the temperature at every point on the plate. But how does it change over time?\n",
    "- the paper that we published using this.\n",
    "- black-sholes, brownian motion are also example of heat equation type equation.\n",
    "- PDEs are even harder than ODE to solve analytically.\n",
    "- discrete version of the setup - a pixelated universe.\n",
    "- heat equation is where each point tends towards the average of its neighbours\n",
    "- laplacian is 3d equivalent to derivative. How different is this point from it's neighbours?\n",
    "- heatt equation can be solved using fourier series?\n",
    "- heat equation has three constraints: the equation, the boundary condition and the initial condition.\n",
    "- show importance of boundary conditions - can get many results for the heat equation (like linear solution) that doesn't make physical sense.\n",
    "- no heat flows into or out of, then the slope at either end is zero. Finding a function is not enough, needs to also satisfy boundary conditions (dT/dx = 0 for all t>0).\n",
    "\n",
    "\n",
    "### exp\n",
    "\n",
    "- growth of investment\n",
    "- there is also a 3blue1brown video"
   ]
  },
  {
   "cell_type": "code",
   "execution_count": null,
   "id": "ddc202b3",
   "metadata": {},
   "outputs": [],
   "source": []
  }
 ],
 "metadata": {
  "kernelspec": {
   "display_name": "Python 3",
   "language": "python",
   "name": "python3"
  },
  "language_info": {
   "codemirror_mode": {
    "name": "ipython",
    "version": 3
   },
   "file_extension": ".py",
   "mimetype": "text/x-python",
   "name": "python",
   "nbconvert_exporter": "python",
   "pygments_lexer": "ipython3",
   "version": "3.8.5"
  }
 },
 "nbformat": 4,
 "nbformat_minor": 5
}
