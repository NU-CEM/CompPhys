{
 "cells": [
  {
   "cell_type": "markdown",
   "id": "loose-error",
   "metadata": {
    "slideshow": {
     "slide_type": "slide"
    }
   },
   "source": [
    "# 💃 Classifying differential equations 💃\n",
    "\n"
   ]
  },
  {
   "cell_type": "markdown",
   "id": "animated-phrase",
   "metadata": {
    "slideshow": {
     "slide_type": "subslide"
    }
   },
   "source": [
    "Questions:\n",
    "- What is a <mark>differential equation</mark>?\n",
    "- What is the difference between an ordinary (<mark>ODE</mark>) and partial (<mark>PDE</mark>) differential equation? \n",
    "- How do I classify the different types of differential equations?"
   ]
  },
  {
   "cell_type": "markdown",
   "id": "usual-residence",
   "metadata": {
    "slideshow": {
     "slide_type": "subslide"
    }
   },
   "source": [
    "Objectives:\n",
    "- Identify the dependent and independent variables in a differential equation\n",
    "- Distinguish between and ODE and PDE\n",
    "- Identify the <mark>order</mark> of a differential equation\n",
    "- Distinguish between <mark>linear</mark> and <mark>non-linear</mark> equations\n",
    "- Distinguish between <mark>heterogeneous</mark> and <mark>homogeneous</mark> equations\n",
    "- Identify a <mark>separable</mark> equation"
   ]
  },
  {
   "cell_type": "markdown",
   "id": "elect-reset",
   "metadata": {
    "slideshow": {
     "slide_type": "slide"
    }
   },
   "source": [
    "### A differential equation is an equation that relates one or more functions and their derivatives\n",
    "\n",
    "- The functions usually represent physical quantities (e.g. position $x$)\n",
    "- The derivative represents a rate of change (e.g. speed $v$)\n",
    "- The differential equation represents the relationship between the two:\n",
    "\n",
    "\\begin{equation}\n",
    "v = \\frac{dx}{dt}\n",
    "\\end{equation}"
   ]
  },
  {
   "cell_type": "markdown",
   "id": "ahead-column",
   "metadata": {
    "slideshow": {
     "slide_type": "slide"
    }
   },
   "source": [
    "### An independent variable is... a quantity that varies independently...\n",
    "\n",
    "- An <mark>independent variable</mark> does not depend on other variables\n",
    "- A <mark> dependent variable</mark> depends on the independent variable\n",
    "\n",
    "\\begin{equation}\n",
    "v = \\frac{dx}{dt}\n",
    "\\end{equation}\n",
    "\n",
    "- $t$ is the <mark>independent</mark> variable\n",
    "- $x$ is the <mark>dependent</mark> variable\n",
    "- Writing $x = x(t)$ makes this relationship clear.\n",
    " "
   ]
  },
  {
   "cell_type": "markdown",
   "id": "spoken-bachelor",
   "metadata": {
    "slideshow": {
     "slide_type": "slide"
    }
   },
   "source": [
    "### Differential equations can be classified in a variety of ways\n",
    "\n",
    "There are several ways to describe and classify differential equations. There are standard solution methods for each type, so it is useful to understand the classifications. \n",
    "\n",
    "![](../images/categories.png)\n",
    "\n",
    "<small>Once you can cook a single piece of spaghetti, you can cook all pieces of spaghetti!</small>"
   ]
  },
  {
   "cell_type": "markdown",
   "id": "greater-utilization",
   "metadata": {
    "slideshow": {
     "slide_type": "slide"
    }
   },
   "source": [
    "### An ODE contains differentials with respect to only one variable\n",
    "\n",
    "For example, the following equation is an ODE:\n",
    "\n",
    "\\begin{equation}\n",
    "\\frac{d x}{d t} = at\n",
    "\\frac{d^3 x}{d t^3} + \\frac{x}{t} = b\n",
    "\\end{equation}\n",
    "\n",
    "As in each case the differentials are with respect to the single variable $t$.\n",
    "\n"
   ]
  },
  {
   "cell_type": "markdown",
   "id": "international-freeware",
   "metadata": {
    "slideshow": {
     "slide_type": "slide"
    }
   },
   "source": [
    "### Partial differential equations (PDE) contain differentials with respect to several independent variables. \n",
    "\n",
    "An example of a PDE is:\n",
    "\n",
    "\\begin{equation}\n",
    "\\frac{\\partial x}{\\partial t} = \\frac{\\partial x}{\\partial y} \n",
    "\\end{equation}\n",
    "\n",
    "As there is one differential with respect to $t$ and one differential with respect to $y$. \n",
    "\n",
    "Note also the difference in notation - <mark>for ODEs we use $d$ whilst for PDEs we  use $\\partial$</mark>.\n",
    "\n"
   ]
  },
  {
   "cell_type": "markdown",
   "id": "magnetic-recipient",
   "metadata": {
    "slideshow": {
     "slide_type": "slide"
    }
   },
   "source": [
    "### The order of a differential equation is the highest order of any differential contained in it. \n",
    "\n",
    "For example:\n",
    "\n",
    "$\\frac{d x}{d t} = at$ is <mark>first order</mark>. \n",
    "\n",
    "$\\frac{d^3 x}{d t^3} + \\frac{x}{t} = b$ is <mark>third order</mark>.\n",
    "\n",
    "> Important: $\\frac{d^3 x}{d t^3}$ does not equal $\\left(\\frac{d x}{d t}\\right)^3$!"
   ]
  },
  {
   "cell_type": "markdown",
   "id": "champion-chapter",
   "metadata": {
    "slideshow": {
     "slide_type": "slide"
    }
   },
   "source": [
    "###  Linear equations do not contain higher powers of either the dependent variable or its differentials\n",
    "\n",
    "For example:\n",
    "\n",
    "$\\frac{d^3 x}{d t^3} = at$ and $\\frac{\\partial x}{\\partial t} = \\frac{\\partial x}{\\partial y} $ are <mark>linear</mark>.\n",
    "\n",
    "$(\\frac{d x}{d t})^3 = at$ and $\\frac{d^3 x}{d t^3} = x^2$ are <mark>non-linear</mark>.\n",
    "\n",
    "Non-linear equations can be particularly nasty to solve analytically, and so are often tackled numerically.\n",
    "\n"
   ]
  },
  {
   "cell_type": "markdown",
   "id": "french-state",
   "metadata": {
    "slideshow": {
     "slide_type": "slide"
    }
   },
   "source": [
    "\n",
    "### Homogeneous equations do not contain any non-differential terms\n",
    "\n",
    "For example:\n",
    "\n",
    "$\\frac{\\partial x}{\\partial t} = \\frac{\\partial x}{\\partial y}$ is a <mark>homogeneous equation</mark>.\n",
    "\n",
    "$\\frac{\\partial x}{\\partial t} - \\frac{\\partial x}{\\partial y}=a$ is a <mark>heterogeneous equation</mark> (unless $a=0$!).\n"
   ]
  },
  {
   "cell_type": "markdown",
   "id": "southeast-affairs",
   "metadata": {
    "slideshow": {
     "slide_type": "slide"
    }
   },
   "source": [
    "\n",
    "### Separable equations can be written as a product of two functions of different variables\n",
    "\n",
    "A separable differential equation takes the form \n",
    "\n",
    "\\begin{equation}\n",
    "f(x)\\frac{d x}{d t} = g(t)\n",
    "\\end{equation}\n",
    "\n",
    "Separable equations are some of the easiest to solve as we can split the equation into two independent parts with fewer variables, and solve each in turn - we will see an example of this in the next lesson."
   ]
  },
  {
   "cell_type": "markdown",
   "id": "specialized-passport",
   "metadata": {
    "slideshow": {
     "slide_type": "slide"
    }
   },
   "source": [
    "\n",
    "Keypoints:\n",
    "\n",
    "- An independent variable is a quantity that varies independently\n",
    "- Differential equations can be classified in a variety of ways\n",
    "- An ODE contains differentials with respect to only one variable\n",
    "- The order is the highest order of any differential contained in it\n",
    "- Linear equations do not contain higher powers of either the dependent variable or its differentials\n",
    "- Homogeneous equations do not contain any non-differential terms"
   ]
  },
  {
   "cell_type": "markdown",
   "id": "b2b6017e",
   "metadata": {
    "slideshow": {
     "slide_type": "slide"
    }
   },
   "source": [
    "# Radioactive Decay\n"
   ]
  },
  {
   "cell_type": "markdown",
   "id": "confirmed-ownership",
   "metadata": {
    "slideshow": {
     "slide_type": "subslide"
    }
   },
   "source": [
    "----\n",
    "Questions:\n",
    "- How can I describe radioactive decay using a first-order ODE? \n",
    "- What are <mark>initial conditions</mark> and why are  they important?\n",
    "----"
   ]
  },
  {
   "cell_type": "markdown",
   "id": "extra-dressing",
   "metadata": {
    "slideshow": {
     "slide_type": "subslide"
    }
   },
   "source": [
    "----\n",
    "Objectives:\n",
    "- Map between physical notation for a particular problem and the more general notation for all differential equations\n",
    "- Solve a linear, first order, separable ODE using integration\n",
    "- Understand the physical importance of initial conditions \n",
    "----\n",
    "\n"
   ]
  },
  {
   "cell_type": "markdown",
   "id": "advisory-telling",
   "metadata": {
    "slideshow": {
     "slide_type": "slide"
    }
   },
   "source": [
    "### Radioactive decay can be modelled a linear, first-order ODE\n",
    "\n",
    "As our first example of an ODE we will model radioactive decay using a differential equation.\n",
    "\n",
    "We know that the decay rate is proportional to the number of atoms present.  Mathematically, this relationship can be expressed as:\n",
    "\n",
    "\\begin{equation}\n",
    "\\frac{d N}{d t} = -\\lambda N\n",
    "\\end{equation}\n",
    "\n",
    "Note that we could choose to use different variables, for example:\n",
    "\n",
    "\\begin{equation}\n",
    "\\frac{d y}{d x} = cy\n",
    "\\end{equation}\n",
    "\n",
    "However we try to use variables connected to the context of the problem. For example $N$ for the Number of atoms.\n"
   ]
  },
  {
   "cell_type": "markdown",
   "id": "radical-stupid",
   "metadata": {
    "slideshow": {
     "slide_type": "subslide"
    }
   },
   "source": [
    "For example,  if we know that 10% of atoms will decay per second we could write:\n",
    "\n",
    "\\begin{equation}\n",
    "\\frac{d N}{d t} = -0.1 N\n",
    "\\end{equation}\n",
    "\n",
    "where $N$ is the number of atoms and $t$ is time measured in seconds.\n",
    "\n",
    "This equation is linear and first-order.\n",
    "\n",
    "| physical notation | generic notation |\n",
    "|-----|-----|\n",
    "|number of  atoms $N$ | dependent  variable $y$|\n",
    "| time $t$ | independent variable  $x$|\n",
    "| decay rate $\\frac{dN}{dt}$ | differential $\\frac{dy}{dx}$|\n",
    "| constant of proportionality $\\lambda=0.1 $ | parameter $c$ |"
   ]
  },
  {
   "cell_type": "markdown",
   "id": "continuous-crack",
   "metadata": {
    "slideshow": {
     "slide_type": "slide"
    }
   },
   "source": [
    "### The equation for radioactive decay is separable and has an analytic solution\n",
    "\n",
    "The radioactive decay equation is <mark>separable</mark>. For example,\n",
    "\n",
    "\\begin{equation}\n",
    "\\frac{d N}{d t} = -\\lambda N\n",
    "\\end{equation}\n",
    "\n",
    "Can be seperated as\n",
    "\n",
    "\\begin{equation}\n",
    "\\frac{dN}{N} = -\\lambda dt.\n",
    "\\end{equation}\n",
    "\n",
    "We can then integrate each side:\n",
    "\n",
    "\\begin{equation}\n",
    "\\ln N = -\\lambda t + const.\n",
    "\\end{equation}\n",
    "\n",
    "and solve for N:\n",
    "\n",
    "\\begin{equation}\n",
    "N = e^{-\\lambda t}e^{\\textrm{const.}} \n",
    "\\end{equation}\n"
   ]
  },
  {
   "cell_type": "markdown",
   "id": "insured-programming",
   "metadata": {
    "slideshow": {
     "slide_type": "subslide"
    }
   },
   "source": [
    "> Note: Remember that $\\int \\frac{1}{x} dx = \\ln x + \\textrm{const.}$"
   ]
  },
  {
   "cell_type": "markdown",
   "id": "alpine-playing",
   "metadata": {
    "slideshow": {
     "slide_type": "slide"
    }
   },
   "source": [
    "### To model a physical system an initial value has to be provided\n",
    "\n",
    "At the beginning (when $t=0$):\n",
    "\n",
    "\\begin{equation}\n",
    "N = e^{-\\lambda t}e^{\\textrm{const.}} = e^{0}e^{\\textrm{const.}} = e^{\\textrm{const.}}\n",
    "\\end{equation}\n",
    "\n",
    "So we can identify $e^{\\textrm{const.}}$ as the amount of radioactive material that was present in the beginning. We denote this starting amount as $N_0$."
   ]
  },
  {
   "cell_type": "markdown",
   "id": "palestinian-entry",
   "metadata": {
    "slideshow": {
     "slide_type": "subslide"
    }
   },
   "source": [
    "Substituting this back into Equation 4, the final solution can be more meaningfully written as:\n",
    "\n",
    "\\begin{equation}\n",
    "N = N_0 e^{-\\lambda t}\n",
    "\\end{equation}\n",
    "\n",
    "We now have  not  just one solution, but a whole class  of solutions that are dependent on the initial amount of radioactive material $N_0$. \n",
    "\n",
    "Remember that not all mathematical solutions make physical sense. <mark>To model a physical system, this initial value (also known as initial condition) has to be provided alongside the constant of proportionality $\\lambda$.</mark>\n",
    "\n"
   ]
  },
  {
   "cell_type": "markdown",
   "id": "c4ad473e",
   "metadata": {
    "slideshow": {
     "slide_type": "slide"
    }
   },
   "source": [
    "### ODEs can have initial values or boundary values\n",
    "\n",
    "ODEs have either initial values or boundary values. For example, using Newton's second laws we could calculate the distance $x$ an object travels under the influence of gravity over time $t$\n",
    "\n",
    "\\begin{equation}\n",
    "\\frac{\\mathrm{d}^2x}{\\mathrm{d}t^2} = -g\n",
    "\\end{equation}\n",
    "\n",
    "An initial value problem would be where we know the starting position and velocity. A boundary value problem would be where we specify the position of the ball at times $t=t_0$ and $t=t_1$. \n",
    "\n",
    "In this course we will only study ODEs with initial values. ODEs with boundary values are more difficult to solve, but you can related materials listed under `External resources`.\n"
   ]
  },
  {
   "cell_type": "markdown",
   "id": "inappropriate-skating",
   "metadata": {
    "slideshow": {
     "slide_type": "slide"
    }
   },
   "source": [
    "### The number of  initial conditions depends on the order of  the differential equation\n",
    "\n",
    "Our radioactive decay example is a first-order ODE and so we only had to provide a single initial condition. For second-order ODEs (such as acceleration under gravity) we need to provide two initial/boundary conditions, for third-order ODEs we would need to provide three, and so on.\n"
   ]
  },
  {
   "cell_type": "markdown",
   "id": "capital-burton",
   "metadata": {
    "slideshow": {
     "slide_type": "slide"
    }
   },
   "source": [
    "-----\n",
    "Keypoints:\n",
    "- Radioactive decay can be modelled a linear, first-order ODE\n",
    "- The equation for radioactive decay is separable and has an analytic solution\n",
    "- To model a physical system an initial value has to be provided\n",
    "- The number of  initial conditions depends on the order of  the differential equation\n",
    "-----"
   ]
  },
  {
   "cell_type": "markdown",
   "id": "dacd8bb6",
   "metadata": {
    "slideshow": {
     "slide_type": "slide"
    }
   },
   "source": [
    "# Euler's Method"
   ]
  },
  {
   "cell_type": "markdown",
   "id": "alpha-candidate",
   "metadata": {
    "slideshow": {
     "slide_type": "subslide"
    }
   },
   "source": [
    "-------\n",
    "Questions:\n",
    "- How do I use Euler's method to solve a first-order ODE?\n",
    "\n",
    "\n",
    "\n",
    "--------\n",
    "\n"
   ]
  },
  {
   "cell_type": "markdown",
   "id": "stone-probe",
   "metadata": {
    "slideshow": {
     "slide_type": "subslide"
    }
   },
   "source": [
    "---------\n",
    "Objectives:\n",
    "- Use Euler's method, implemented in Python, to solve a first-order ODE\n",
    "- Understand that this method is approximate and the significance of step size $h$\n",
    "- Compare results at different levels of approximation using the `matplotlib` library.\n",
    "------"
   ]
  },
  {
   "cell_type": "markdown",
   "id": "ignored-tuner",
   "metadata": {
    "slideshow": {
     "slide_type": "slide"
    }
   },
   "source": [
    "### There are a variety of ways to solve an ODE\n",
    "\n",
    "In the previous lesson we considered nuclear decay:\n",
    "\n",
    "\\begin{equation}\n",
    "\\frac{\\mathrm{d} N}{\\mathrm{d} t} = -\\lambda N\n",
    "\\end{equation}\n",
    "\n",
    "This is one of the simplest examples of am ODE - a first-order, linear, separable differential equation with one dependent variable. We saw that we could model the number of atoms $N$ by finding an analytic solution through integration:\n",
    "\n",
    "\\begin{equation}\n",
    "N = N_0 e^{-\\lambda t}\n",
    "\\end{equation}\n",
    "\n",
    "However there is more than one way to crack an egg (or solve a differential equation). We could have, instead, used an approximate, numerical method. One such method - Euler's method - is this subject of this lesson."
   ]
  },
  {
   "cell_type": "markdown",
   "id": "robust-courage",
   "metadata": {
    "slideshow": {
     "slide_type": "slide"
    }
   },
   "source": [
    "### A function can be approximated using a Taylor expansion\n",
    "\n",
    "Let's return to our example of nuclear decay:\n",
    "\n",
    "\\begin{equation}\n",
    "\\frac{\\mathrm{d}N}{\\mathrm{d}t} = f(N,t),\n",
    "\\end{equation}\n",
    "\n",
    "where \n",
    "\n",
    "\\begin{equation}\n",
    "f(N,t) = -\\lambda N.\n",
    "\\end{equation}\n",
    "\n",
    "We can use a <mark>Taylor expansion</mark> to write the value of $N$ a short interval $h$ later:\n",
    "\n",
    "\\begin{equation}\n",
    "N(t+h) = N(t) + h\\frac{\\mathrm{d}N}{\\mathrm{d}t} + \\frac{1}{2}h^2\\frac{\\mathrm{d}^2N}{\\mathrm{d}t^2} + \\ldots\n",
    "\\end{equation}\n",
    "\n",
    "\\begin{equation}\n",
    "N(t+h) = N(t) + hf(N,t) + \\mathcal{O}(h^2)\n",
    "\\end{equation}"
   ]
  },
  {
   "cell_type": "markdown",
   "id": "optical-developer",
   "metadata": {
    "slideshow": {
     "slide_type": "subslide"
    }
   },
   "source": [
    "*If you have forgotten what a Taylor expansion is, there is a lovely video explanation below from user `3blue1brown` on Youtube:*\n",
    "\n",
    "> youtube: https://youtu.be/3d6DsjIBzJ4"
   ]
  },
  {
   "cell_type": "markdown",
   "id": "continued-impossible",
   "metadata": {
    "slideshow": {
     "slide_type": "slide"
    }
   },
   "source": [
    "### If the step size $h$ is small then higher  order terms can be neglected\n",
    "\n",
    "If $h$ is small and $h^2$ is very small we can neglect the terms in $h^2$ and higher and we get:\n",
    "\n",
    "\\begin{equation}\n",
    "N(t+h) = N(t) + hf(N,t).\n",
    "\\end{equation}\n",
    "\n"
   ]
  },
  {
   "cell_type": "markdown",
   "id": "prepared-rough",
   "metadata": {
    "slideshow": {
     "slide_type": "slide"
    }
   },
   "source": [
    "### Euler's method can be used to approximate the solution of differential equations\n",
    "\n",
    "We can keep applying the equation above so that we calculate $N(t)$ at a succession of equally spaced points for as  long as we want. If $h$ is small enough we can get a good approximation to the solution of the equation. This method for solving differential equations is called Euler's method, after Leonhard Euler, its inventor.\n",
    "\n",
    "![](../images/Euler_method.png)"
   ]
  },
  {
   "cell_type": "markdown",
   "id": "hazardous-sessions",
   "metadata": {
    "slideshow": {
     "slide_type": "subslide"
    }
   },
   "source": [
    "> Note: Although we are neglecting terms $h^2$ and higher, Euler's method typically has an error linear in $h$ as the error accumulates over repeated steps. This means that if we want to double the accuracy of our calculation we need to double the number of steps, and double the calcuation time."
   ]
  },
  {
   "cell_type": "markdown",
   "id": "loaded-midwest",
   "metadata": {
    "slideshow": {
     "slide_type": "subslide"
    }
   },
   "source": [
    "> Note: So far we have looked at an example where the input (or independent variable) is time. This isn't always the case - but it is the most common case in physics, as we are often interested in how things evolve with time."
   ]
  },
  {
   "cell_type": "markdown",
   "id": "integrated-entrepreneur",
   "metadata": {
    "slideshow": {
     "slide_type": "slide"
    }
   },
   "source": [
    "### Euler's method can be applied using the Python skills we have developed\n",
    "\n",
    "Let's use Euler's method to solve the differential equation for nuclear decay. We will model the decay process over a period of 10 seconds, with the decay constant $\\lambda=0.1$ and the initial condition $N_0 = 1000$.\n",
    "\n",
    "\\begin{equation}\n",
    "\\frac{\\mathrm{d}N}{\\mathrm{d} t} = -0.1 N\n",
    "\\end{equation}\n"
   ]
  },
  {
   "cell_type": "markdown",
   "id": "proper-barrier",
   "metadata": {
    "slideshow": {
     "slide_type": "slide"
    }
   },
   "source": [
    "----\n",
    "\n",
    "Keypoints:\n",
    "\n",
    "- There are a variety of ways to solve an ODE\n",
    "- A function can be approximated using a Taylor expansion\n",
    "- If the step size $h$ is small then higher  order terms can be neglected\n",
    "- Euler's method can be used to approximate the solution of differential equations\n",
    "- Euler's method can be applied using the Python skills we have developed\n",
    "- We can easily visualise our results, and compare against the analytical solution, using the matplotlib plotting library\n",
    "-----"
   ]
  },
  {
   "cell_type": "markdown",
   "id": "02561990",
   "metadata": {
    "slideshow": {
     "slide_type": "slide"
    }
   },
   "source": [
    "# The Strange Attractor "
   ]
  },
  {
   "cell_type": "markdown",
   "id": "aaab9fdf",
   "metadata": {
    "slideshow": {
     "slide_type": "subslide"
    }
   },
   "source": [
    "Questions:\n",
    "- How do I solve simultaneous ODEs?\n",
    "- How do I solve second-order ODEs (and higher)?\n"
   ]
  },
  {
   "cell_type": "markdown",
   "id": "bf1b03a0",
   "metadata": {
    "slideshow": {
     "slide_type": "subslide"
    }
   },
   "source": [
    "Objectives:\n",
    "- Use Euler's method, implemented in Python, to solve a set of simultaneous ODEs\n",
    "- Use Euler's method, implemented in Python, to solve a second-order ODE\n",
    "- Understand how the same method could be applied to higher order ODEs"
   ]
  },
  {
   "cell_type": "markdown",
   "id": "da287bfc",
   "metadata": {
    "slideshow": {
     "slide_type": "slide"
    }
   },
   "source": [
    "### Computers don't care so much about the type of differential equation\n",
    "\n",
    "- In the previous lesson we used Euler's method to model radioactive decay. But we have seen that this equation can also be solved analytically\n",
    "\n",
    "- However there are a large number of physical equations that cannot be solved analytically, and that rely on numerical methods for their modelling. \n",
    "\n",
    "- For example, the Lotka-Volterra equations for studying predator-prey interactions have multiple dependent variables and the Cahn-Hilliard equation for modelling phase separation in fluids is non-linear. These equations can be solved analytically for particular, special cases only.\n",
    "\n",
    "- Computers don't care whether an equation is linear or non-linear, multi-variable or single-variable, the numerical method for studying it is much the same \n",
    "\n",
    "- The caveat is that numerical methods are approximate and so we need to think about the accuracy of the methods used.\n"
   ]
  },
  {
   "cell_type": "markdown",
   "id": "e1916cee",
   "metadata": {
    "slideshow": {
     "slide_type": "slide"
    }
   },
   "source": [
    "\n",
    "### Simultaneous ODEs can be solved using numerical methods\n",
    "\n",
    "One class of problems that are difficult to solve analytically are <bold>simultaenous ODEs</bold>. These are equations where the derivative of each dependent variable can depend on any of the variables (dependent or independent). For example,\n",
    "\n",
    "\\begin{eqnarray}\n",
    "\\frac{\\mathrm{d}x}{\\mathrm{d}t} &=& xt + y \\\\\n",
    "\\frac{\\mathrm{d}y}{\\mathrm{d}t} &=& \\mathrm{sin}^2\\omega t - xy\n",
    "\\end{eqnarray}\n"
   ]
  },
  {
   "cell_type": "markdown",
   "id": "dc46c259",
   "metadata": {
    "slideshow": {
     "slide_type": "slide"
    }
   },
   "source": [
    "### Euler's method is easily extended to simultaneous ODEs\n",
    "\n",
    "In the previous lesson we were introduced to Euler's method for the single variable case:\n",
    "\n",
    "\\begin{equation}\n",
    "N(t+h) = N(t) + hf(N,t).\n",
    "\\end{equation}\n",
    "\n",
    "This can be easily extended to the multi-variable case using vector notation:\n",
    "\n",
    "\\begin{equation}\n",
    "\\mathbf{r}(t+h) = \\mathbf{r}(t) + h\\mathbf{f}(\\mathbf{r},t).\n",
    "\\end{equation}\n",
    "\n",
    "We have seen that arrays can be easily represented in Python using the NumPy library. This allows us to do arithmetic with vectors directly (rather than using verbose workarounds such as `for` loops), so the code is not much more complicated than the one-variable case."
   ]
  },
  {
   "cell_type": "markdown",
   "id": "4123deca",
   "metadata": {
    "slideshow": {
     "slide_type": "slide"
    }
   },
   "source": [
    "### The Lorenz equations are a famous set of simultaneous ODEs\n",
    "\n",
    "The Lorenz equations demonstrate that systems can be deterministic and yet be inherently unpredictable (even in the absence of quantum effects).\n",
    "\n",
    "\\begin{eqnarray}\n",
    "\\frac{\\mathrm{d}x}{\\mathrm{d}t} &=& \\sigma(y-x) \\\\\n",
    "\\frac{\\mathrm{d}y}{\\mathrm{d}t} &=& rx-y-xz \\\\\n",
    "\\frac{\\mathrm{d}z}{\\mathrm{d}t} &=& xy-bz\n",
    "\\end{eqnarray}\n",
    "\n",
    "There three dependent variables - $x$, $y$ and $z$, and one independent variable $t$. There are also three constants -  $\\sigma$, $r$ and $b$.\n",
    "\n",
    "For particular values of $\\sigma$, $r$ and $b$ the Lorenz systems has <bold>chaotic behaviour</bold> (a strong dependence on the initial conditions) and for a subset of these, there is also fractal structure called the <bold>strange attractor</bold>."
   ]
  },
  {
   "cell_type": "markdown",
   "id": "cosmetic-friend",
   "metadata": {
    "slideshow": {
     "slide_type": "slide"
    }
   },
   "source": [
    "### Higher order ODEs can be re-cast as simultaneous ODEs and solved in the same way\n",
    "\n",
    "Many physical equations are second-order or higher. The general form for a second-order differential equation with one dependent variable is:\n",
    "\n",
    "\\begin{equation}\n",
    "\\frac{\\mathrm{d}^2x}{\\mathrm{d}t^2} = f\\left(x,\\frac{\\mathrm{d}x}{\\mathrm{d}t},t\\right)\n",
    "\\end{equation}\n",
    "\n",
    "Luckily, we can re-cast a higher order equation as a set of simultaneous equations, and then solve in the same way as above.\n",
    "\n"
   ]
  },
  {
   "cell_type": "markdown",
   "id": "respected-violence",
   "metadata": {
    "slideshow": {
     "slide_type": "subslide"
    }
   },
   "source": [
    "Let's use the non-linear pendulum as an example. For a pendulum with an art of length $l$ and a bob of mass $m$, Newton's second law ($F=ma$) provides the following equation of motion:\n",
    "\n",
    "\\begin{equation}\n",
    "ml\\frac{\\mathrm{d}^2\\theta}{\\mathrm{d}t^2} = -mg\\sin(\\theta),\n",
    "\\end{equation}\n",
    "\n",
    "where $\\theta$ is the angle of displacement of the arm from the vertical and $l\\frac{\\mathrm{d}^2\\theta}{\\mathrm{d}t^2}$ is the acceleration of the mass in the tangential direction. The exact solution to this equation is unknown, but we now have the knowledge needed to find a numerical approximation.\n",
    "\n"
   ]
  },
  {
   "cell_type": "markdown",
   "id": "81560c25",
   "metadata": {
    "slideshow": {
     "slide_type": "subslide"
    }
   },
   "source": [
    "The equation can be re-written as:\n",
    "\n",
    "\\begin{equation}\n",
    "\\frac{\\mathrm{d}^2\\theta}{\\mathrm{d}t^2} = -\\frac{g}{l}\\sin(\\theta)\n",
    "\\end{equation}\n",
    "\n",
    "We define a new variable $\\omega$:\n",
    "\n",
    "\\begin{equation}\n",
    "\\frac{\\mathrm{d}\\theta}{\\mathrm{d}t} = \\omega\n",
    "\\end{equation}\n",
    "\n",
    "and substitute this into the equation of motion:\n",
    "\n",
    "\\begin{equation}\n",
    "\\frac{\\mathrm{d}\\omega}{\\mathrm{d}t} = -\\frac{g}{l}\\sin(\\theta).\n",
    "\\end{equation}\n",
    "\n",
    "These two expressions form a set of simultaneous equations that can be solved numerically using the method outlined above.\n"
   ]
  },
  {
   "cell_type": "markdown",
   "id": "c6435f3a",
   "metadata": {
    "slideshow": {
     "slide_type": "slide"
    }
   },
   "source": [
    "-----\n",
    "Keypoints:\n",
    "- Computers don't care so much about the type of differential equation\n",
    "- Simulatenous ODEs can also be solved using numerical methods\n",
    "- Euler's method is easily extended to the multi-variable case\n",
    "- Higher order ODEs can be re-cast as simultaneous ODEs and solved the same way\n",
    "-----"
   ]
  },
  {
   "cell_type": "markdown",
   "id": "379411d4",
   "metadata": {
    "slideshow": {
     "slide_type": "slide"
    }
   },
   "source": [
    "# The Runge-Kutta method\n",
    "\n"
   ]
  },
  {
   "cell_type": "markdown",
   "id": "73523313",
   "metadata": {
    "slideshow": {
     "slide_type": "subslide"
    }
   },
   "source": [
    "\n",
    "Questions:\n",
    "- How do I use the Runge-Kutta method for more accurate solutions?\n",
    "\n"
   ]
  },
  {
   "cell_type": "markdown",
   "id": "f503cd21",
   "metadata": {
    "slideshow": {
     "slide_type": "subslide"
    }
   },
   "source": [
    "\n",
    "Objectives:\n",
    "- Use the Runge-Kutta method, implemented in Python, to solve a first-order ODE\n",
    "- Compare results at different levels of approximation using the `matplotlib` library."
   ]
  },
  {
   "cell_type": "markdown",
   "id": "eeb9d7da",
   "metadata": {
    "slideshow": {
     "slide_type": "slide"
    }
   },
   "source": [
    "### The Runge-Kutta method is more accurate than Euler's method and runs just as fast\n",
    "\n",
    "So far we have used Euler's method for solving ODEs. We have learnt that, using this method, the final expression for the total error is linear in $h$. \n",
    "\n",
    "However for roughly the same compute time we can reduce the total error so it is of order $h^2$ by implementing another method - the <bold>Runge-Kutta method</bold>.\n",
    "\n"
   ]
  },
  {
   "cell_type": "markdown",
   "id": "dd12d4ea",
   "metadata": {
    "slideshow": {
     "slide_type": "subslide"
    }
   },
   "source": [
    "> Note: It is common to use the Runge-Kutta method for solving ODEs given the improved accuracy over Euler's method. However Euler's method is still commonly used for PDEs (where there are other, larger, sources of error).\n",
    "\n",
    "\n",
    "> Note: The Runge-Kutta method is actually a family of methods. In fact, Euler's method is the first-order Runge-Kutta method. There is then the second-order Runge-Kutta method, third-order Runge-Kutta method, and so on.."
   ]
  },
  {
   "cell_type": "markdown",
   "id": "8c02ea67",
   "metadata": {
    "slideshow": {
     "slide_type": "subslide"
    }
   },
   "source": [
    "Euler's method does not take into account the curvature of the solution, whilst Runge-Kutta methods do, by calculating the gradient at intermediate points in the (time-)step. \n",
    "\n",
    "![](../images/RK2.png)"
   ]
  },
  {
   "cell_type": "markdown",
   "id": "c326ba63",
   "metadata": {
    "slideshow": {
     "slide_type": "slide"
    }
   },
   "source": [
    "### Runge-Kutta methods are derived from Taylor expansion(s) around intermediate point(s)\n",
    "\n",
    "To derive the second-order Runge-Kutta method we:\n",
    "\n",
    "1) estimate $x(t+h)$ using a Taylor expansion around $t+\\frac{h}{2}$:\n",
    "\n",
    "\\begin{equation}\n",
    "x(t+h) = x(t+\\frac{h}{2}) + \\frac{h}{2}\\left(\\frac{\\mathrm{d}x}{\\mathrm{d}t}\\right)_{t+\\frac{h}{2}} + \\frac{h^2}{8}\\left(\\frac{\\mathrm{d}^2x}{\\mathrm{d}t^2}\\right)_{t+\\frac{h}{2}}+\\mathcal{O}(h^3)\n",
    "\\end{equation}\n",
    "\n",
    "2) estimate $x(t)$ using a Taylor expansion around $t-\\frac{h}{2}$:\n",
    "\n",
    "\\begin{equation}\n",
    "x(t) = x(t+\\frac{h}{2}) - \\frac{h}{2}\\left(\\frac{\\mathrm{d}x}{\\mathrm{d}t}\\right)_{t+\\frac{h}{2}} + \\frac{h^2}{8}\\left(\\frac{\\mathrm{d}^2x}{\\mathrm{d}t^2}\\right)_{t+\\frac{h}{2}}+\\mathcal{O}(h^3)\n",
    "\\end{equation}\n",
    "\n",
    "3) Subtract Equation 2 from Equation 1 and re-arrange:\n",
    "\n",
    "\\begin{eqnarray}\n",
    "x(t+h) &=& x(t) + h\\left(\\frac{\\mathrm{d}x}{\\mathrm{d}t}\\right))_{t+\\frac{h}{2}}+\\mathcal{O}(h^3) \\\\\n",
    "x(t+h) &=& x(t) + hf(x(t+\\frac{h}{2}),t+\\frac{h}{2})+\\mathcal{O}(h^3)\n",
    "\\end{eqnarray}\n",
    "\n"
   ]
  },
  {
   "cell_type": "markdown",
   "id": "cc5f795a",
   "metadata": {
    "slideshow": {
     "slide_type": "subslide"
    }
   },
   "source": [
    "> Note: the $h^2$ term has completely disappeared, and the error term is now order $h^3$. We can say that this approximation is now accurate to order $h^2$.\n",
    "\n"
   ]
  },
  {
   "cell_type": "markdown",
   "id": "522e5fe6",
   "metadata": {
    "slideshow": {
     "slide_type": "subslide"
    }
   },
   "source": [
    "The problem is that this requires knowledge of $x(t+\\frac{h}{2})$ which we don't currently have. We can however estimate this using the Euler method!\n",
    "\n",
    "\\begin{equation}\n",
    "x(t+\\frac{h}{2}) = x(t) + \\frac{h}{2}f(x,t).\n",
    "\\end{equation}\n",
    "\n",
    "Substituting this into Equation 3 above, we can write the method for a single step as follows:\n",
    "\n",
    "\\begin{eqnarray}\n",
    "k_1 &=& hf(x,t) \\\\\n",
    "k_2 &=& hf(x+\\frac{k_1}{2},t+\\frac{h}{2})\\\\\n",
    "x(t+h) &=& x(t) + k_2\n",
    "\\end{eqnarray}\n",
    "\n",
    "See how $k_1$ is used to give an estimate for $x(t+\\frac{h}{2})$ ($k_2$), which is then substituted into the third equation to give an estimate for  $x(t+h)$.\n",
    "\n",
    "> Note: Higher orde Runge-Kutta methods can be derived in a similar way - by calculating the Taylor series around various points and then taking a linear combination of the resulting expansions. As we increase the number of intermediate points, we increase the accuracy of the method. The downside is that the equations get increasingly complicated. \n"
   ]
  },
  {
   "cell_type": "markdown",
   "id": "6b62eded",
   "metadata": {
    "slideshow": {
     "slide_type": "slide"
    }
   },
   "source": [
    "Keypoints:\n",
    "- The Runge-Kutta method is more accurate than Euler's method and runs just as fast\n",
    "- Runge-Kutta methods are derived from Taylor expansion(s) around intermediate point(s)\n",
    "- Runge-Kutta methods can be applied using the Python skills we have developed\n",
    "- We can easily compare our various models using the `matplotlib` plotting library"
   ]
  }
 ],
 "metadata": {
  "celltoolbar": "Slideshow",
  "kernelspec": {
   "display_name": "Python 3",
   "language": "python",
   "name": "python3"
  },
  "language_info": {
   "codemirror_mode": {
    "name": "ipython",
    "version": 3
   },
   "file_extension": ".py",
   "mimetype": "text/x-python",
   "name": "python",
   "nbconvert_exporter": "python",
   "pygments_lexer": "ipython3",
   "version": "3.8.5"
  }
 },
 "nbformat": 4,
 "nbformat_minor": 5
}
