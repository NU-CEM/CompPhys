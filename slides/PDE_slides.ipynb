{
 "cells": [
  {
   "cell_type": "markdown",
   "id": "western-termination",
   "metadata": {
    "slideshow": {
     "slide_type": "slide"
    }
   },
   "source": [
    "# Introduction to Partial Differential Equations\n",
    "## (PDEs)"
   ]
  },
  {
   "cell_type": "markdown",
   "id": "literary-assurance",
   "metadata": {
    "slideshow": {
     "slide_type": "subslide"
    }
   },
   "source": [
    "-----\n",
    "Questions:\n",
    "- Which physical systems can be described using a PDE?\n",
    "- What is the Laplacian operator?\n",
    "- When to I need boundary conditions and initial conditions?\n",
    "\n",
    "------"
   ]
  },
  {
   "cell_type": "markdown",
   "id": "wicked-tower",
   "metadata": {
    "slideshow": {
     "slide_type": "skip"
    }
   },
   "source": [
    "------\n",
    "Objectives:\n",
    "- Recognise common classes of PDE: the diffusion equation, Poisson's equation and the wave equation\n",
    "- Express the Laplacian as a differential operator\n",
    "- Identify boundary value problems and initial value problems\n",
    "\n",
    "-----"
   ]
  },
  {
   "cell_type": "markdown",
   "id": "fitting-postage",
   "metadata": {
    "slideshow": {
     "slide_type": "slide"
    }
   },
   "source": [
    "- In the previous section of the course we studied <bold>ordinary differential equations</bold>. ODEs have a single input (also known as independent variable) - for example, time. \n",
    "\n",
    "- Partial differential equations (PDEs) have multiple inputs (independent variables). For example, think about a sheet of metal that has been heated unevenly across the surface. Over time, heat will diffuse through the 2-dimensional sheet. The temperature depends on both time *and* position - there are two inputs.\n",
    "\n",
    "- Because PDEs have multiple inputs they are generally much more difficult to solve analytically than ODEs. However, there are a range of numerical methods that can be used to find approximate solutions."
   ]
  },
  {
   "cell_type": "markdown",
   "id": "focal-camcorder",
   "metadata": {
    "slideshow": {
     "slide_type": "slide"
    }
   },
   "source": [
    "### PDEs have application across a wide variety of topics\n",
    "\n",
    "The same type of PDE often appears in different contexts. For example, the <mark>diffusion equation</mark> takes the form:\n",
    "\n",
    "\\begin{equation}\n",
    "\\nabla^2T = \\alpha \\frac{\\partial T}{\\partial t}\n",
    "\\end{equation}\n",
    "\n",
    "When used to describe heat diffusion, this PDE is known as the heat equation. This same PDE however can be used to model other seemingly unrelated processes such as brownian motion, or used in financial modelling via the Black-Sholes equation. \n",
    "\n"
   ]
  },
  {
   "cell_type": "markdown",
   "id": "opponent-buddy",
   "metadata": {
    "slideshow": {
     "slide_type": "subslide"
    }
   },
   "source": [
    "Another type of PDE is known as <mark>Poisson's equation</mark>:\n",
    "\n",
    "\\begin{equation}\n",
    "\\nabla^2\\phi = f(x,y,z)\n",
    "\\end{equation}\n",
    "\n",
    "Poisson's equation can be used to describe electrostatic forces, where $\\phi$ is the electric potential. It can also be applied to mechanics (where $\\phi$ is the gravitational potential) or thermodynamics (where $\\phi$ is the temperature). When $f(x,y,z)=0$ this equation is known as Laplace's equation. \n"
   ]
  },
  {
   "cell_type": "markdown",
   "id": "consistent-chapel",
   "metadata": {
    "slideshow": {
     "slide_type": "subslide"
    }
   },
   "source": [
    "\n",
    "The third common type of PDE is the <mark>wave equation</mark>:\n",
    "\n",
    "\\begin{equation}\n",
    "\\nabla^2r = \\alpha \\frac{\\partial^2 r}{\\partial t^2}\n",
    "\\end{equation}\n",
    "\n",
    "This describes mechanical processes such as the vibration of a string or the motion of a pendulum. It can also be used in electrodynamics to describe the exchange of energy between the electric and magnetic fields. "
   ]
  },
  {
   "cell_type": "markdown",
   "id": "friendly-russell",
   "metadata": {
    "slideshow": {
     "slide_type": "skip"
    }
   },
   "source": [
    "\n",
    "\n",
    "In this course we will look at techniques for solving the diffusion equation and Poisson's equation, but many of the topics we will discuss - such as boundary conditions, and finite difference methods - can be transferred to PDEs more generally. "
   ]
  },
  {
   "cell_type": "markdown",
   "id": "brazilian-uncle",
   "metadata": {
    "slideshow": {
     "slide_type": "slide"
    }
   },
   "source": [
    "### The Laplacian operator corresponds to an average rate of change\n",
    "\n",
    "*But what is the operator $\\nabla^2$?*. This is the <mark>Laplacian operator</mark>. When applied to $\\phi$ and written in full for a three dimensional cartesian coordinate system with dependent variables $x$, $y$ and $z$ it takes the following form:\n",
    "\n",
    "\\begin{equation}\n",
    "\\nabla^2\\phi = \\frac{\\partial^2\\phi}{\\partial x^2} + \\frac{\\partial^2\\phi}{\\partial y^2} + \\frac{\\partial^2\\phi}{\\partial z^2}.\n",
    "\\end{equation}\n",
    "\n",
    "We can think of the laplacian as encoding an average rate of change - the difference between a value at a point and the average of the values around that point."
   ]
  },
  {
   "cell_type": "code",
   "execution_count": 1,
   "id": "critical-building",
   "metadata": {
    "slideshow": {
     "slide_type": "skip"
    }
   },
   "outputs": [],
   "source": [
    "# https://gist.github.com/dm-wyncode/55823165c104717ca49863fc526d1354\n",
    "\"\"\"Embed a YouTube video via its embed url into a notebook.\"\"\"\n",
    "from functools import partial\n",
    "\n",
    "from IPython.display import display, IFrame\n",
    "\n",
    "width, height = (560, 315, )\n",
    "\n",
    "\n",
    "\n",
    "def _iframe_attrs(embed_url):\n",
    "    \"\"\"Get IFrame args.\"\"\"\n",
    "    return (\n",
    "        ('src', 'width', 'height'), \n",
    "        (embed_url, width, height, ),\n",
    "    )\n",
    "\n",
    "\n",
    "\n",
    "def _get_args(embed_url):\n",
    "    \"\"\"Get args for type to create a class.\"\"\"\n",
    "    iframe = dict(zip(*_iframe_attrs(embed_url)))\n",
    "    attrs = {\n",
    "        'display': partial(display, IFrame(**iframe)),\n",
    "    }\n",
    "    return ('YouTubeVideo', (object, ), attrs, )\n",
    "\n",
    "def youtube_video(embed_url):\n",
    "    \"\"\"Embed YouTube video into a notebook.\n",
    "\n",
    "    Place this module into the same directory as the notebook.\n",
    "\n",
    "    >>> from embed import youtube_video\n",
    "    >>> youtube_video(url).display()\n",
    "    \"\"\"\n",
    "    YouTubeVideo = type(*_get_args(embed_url)) # make a class\n",
    "    return YouTubeVideo() # return an object"
   ]
  },
  {
   "cell_type": "code",
   "execution_count": 2,
   "id": "wound-quantity",
   "metadata": {
    "slideshow": {
     "slide_type": "subslide"
    }
   },
   "outputs": [
    {
     "data": {
      "text/html": [
       "\n",
       "        <iframe\n",
       "            width=\"560\"\n",
       "            height=\"315\"\n",
       "            src=\"https://youtu.be/EW08rD-GFh0\"\n",
       "            frameborder=\"0\"\n",
       "            allowfullscreen\n",
       "        ></iframe>\n",
       "        "
      ],
      "text/plain": [
       "<IPython.lib.display.IFrame at 0x7f8c79a57460>"
      ]
     },
     "metadata": {},
     "output_type": "display_data"
    }
   ],
   "source": [
    "youtube_video(\"https://youtu.be/EW08rD-GFh0\").display()"
   ]
  },
  {
   "cell_type": "markdown",
   "id": "dense-filing",
   "metadata": {
    "slideshow": {
     "slide_type": "slide"
    }
   },
   "source": [
    "\n",
    "### Boundary value problems\n",
    "\n",
    "<mark>Boundary value problems</mark> describe the behaviour of a variable in a space and we are given some constraints on the variable around the boundary of that space. For example, consider the 2-dimensional problem of a thin rectangular sheet with one side at voltage $V$ and all others at voltage zero.\n",
    "\n",
    "<img src=\"../images/electrostatics.png\" width=\"200\" >\n",
    " \n",
    "\n",
    "The specification that one side is at voltage $V$ and all others are at voltage zero are the <mark>boundary conditions</mark>. We could then calculate the electrostatic potential $\\phi$ at all points within the sheet using the two-dimensional Laplace's equation:\n",
    "\n",
    "\\begin{equation}\n",
    "\\nabla^2\\phi = \\frac{\\partial^2\\phi}{\\partial x^2} + \\frac{\\partial^2\\phi}{\\partial y^2} = 0\n",
    "\\end{equation}\n",
    "\n"
   ]
  },
  {
   "cell_type": "markdown",
   "id": "secure-produce",
   "metadata": {
    "slideshow": {
     "slide_type": "subslide"
    }
   },
   "source": [
    "#### Initial value problems\n",
    "\n",
    "<mark>Initial value problems</mark> are where the field - or other variable of interest - is varying in both space and time. We now require boundary conditions *and* initial values. This is a more difficult type of PDE to solve.\n",
    "\n",
    "For example, consider heat diffusion in a two-dimensional sheet. Here we could specify that there is no heat flow in or out of the sheet - this is the boundary condition. \n",
    "\n",
    "<img src=\"../images/diffusion1.png\" width=\"200\" >\n",
    " \n",
    "\n"
   ]
  },
  {
   "cell_type": "markdown",
   "id": "obvious-lending",
   "metadata": {
    "slideshow": {
     "slide_type": "subslide"
    }
   },
   "source": [
    "We could also specify that at time $t=0$ the centre of the sheet is at temperature $T_1$, whilst surrounding areas are at temperature  $T_0$. This is the initial condition. It differs from a boundary condition in that we are told what the temperature is at the start of our time grid (at $t=0$) but not at the end of our time grid (when the simulation finishes).\n",
    "\n",
    "<img src=\"../images/diffusion2.png\" width=\"200\" >\n",
    " \n",
    "\n",
    "We could then calculate the temperature at time $t$ at all points $[x,y]$ within the sheet using the two-dimensional Diffusion equation:\n",
    "\n",
    "\\begin{equation}\n",
    "\\nabla^2T = \\frac{\\partial^2 T}{\\partial x^2} + \\frac{\\partial^2 T}{\\partial y^2}=\\alpha \\frac{\\partial T}{\\partial t}\n",
    "\\end{equation}"
   ]
  },
  {
   "cell_type": "markdown",
   "id": "clear-fifteen",
   "metadata": {
    "slideshow": {
     "slide_type": "slide"
    }
   },
   "source": [
    "# Laplace's equation for electrostatics\n",
    "\n",
    "-----\n",
    "Questions:\n",
    "- How do I use a finite difference method to calculate derivatives? \n",
    "- How do I use the relaxation method to solve Laplace's equation?\n",
    "\n",
    "------"
   ]
  },
  {
   "cell_type": "markdown",
   "id": "featured-tunisia",
   "metadata": {
    "slideshow": {
     "slide_type": "slide"
    }
   },
   "source": [
    "### The method of finite differences\n",
    "\n",
    "Consider the two-dimensional Laplace equation for the electric potential $\\phi$ subject to appropriate boundary conditions:\n",
    "\n",
    "\\begin{equation}\n",
    "\\frac{\\partial^2\\phi}{\\partial x^2} + \\frac{\\partial^2\\phi}{\\partial y^2} = 0\n",
    "\\end{equation}\n",
    "\n",
    "The method of finite differences involves dividing the space into a grid of discrete points $[x,y]$ and calculating numerical derivatives or at each of these points. \n",
    "\n",
    "<img src=\"../images/electrostatics2.png\" width=\"200\" >\n",
    " \n",
    " But how do we calculate these numerical derivatives?"
   ]
  },
  {
   "cell_type": "markdown",
   "id": "instrumental-belly",
   "metadata": {
    "slideshow": {
     "slide_type": "subslide"
    }
   },
   "source": [
    "\n",
    "Real physical problems are in three dimensions, but we can more easily visualise the method of finite differences - and the extension to three dimensions is straight forward."
   ]
  },
  {
   "cell_type": "markdown",
   "id": "straight-subdivision",
   "metadata": {
    "slideshow": {
     "slide_type": "slide"
    }
   },
   "source": [
    "### Calculating numerical derivatives\n",
    "\n",
    "The standard definition of a derivative is \n",
    "\n",
    "\\begin{equation}\n",
    "\\frac{\\mathrm{d} f}{\\mathrm{d} x} = \\lim_{h\\to0}\\frac{f(x+h)-f(x)}{h}.\n",
    "\\end{equation}\n",
    "\n",
    "To calculate the derivative numerically we make $h$ very small and calculate\n",
    "\n",
    "\\begin{equation}\n",
    "\\frac{\\mathrm{d} f}{\\mathrm{d} x} \\simeq \\frac{f(x+h)-f(x)}{h}.\n",
    "\\end{equation}\n",
    "\n",
    "This is the <mark>forward difference</mark> because it is measured in the forward direction from $x$.\n",
    "\n"
   ]
  },
  {
   "cell_type": "markdown",
   "id": "binding-spectacular",
   "metadata": {
    "slideshow": {
     "slide_type": "subslide"
    }
   },
   "source": [
    "The <mark>backward difference</mark> is measured in the backward direction from $x$:\n",
    "\n",
    "\\begin{equation}\n",
    "\\frac{\\mathrm{d} f}{\\mathrm{d} x} \\simeq \\frac{f(x)-f(x-h)}{h},\n",
    "\\end{equation}\n",
    "\n",
    "\n",
    "and the <mark>central difference</mark> uses both the forwards and backwards directions around $x$:\n",
    "\n",
    "\\begin{equation}\n",
    "\\frac{\\mathrm{d} f}{\\mathrm{d} x} \\simeq \\frac{f(x+\\frac{h}{h2})-f(x-\\frac{h}{2})}{h},\n",
    "\\end{equation}"
   ]
  },
  {
   "cell_type": "markdown",
   "id": "bibliographic-cornwall",
   "metadata": {
    "slideshow": {
     "slide_type": "slide"
    }
   },
   "source": [
    "### Numerical second-order derivatives\n",
    "\n",
    "The second derivative is a derivative of a derivative, and so we can calculate it be applying the first derivative formulas twice. The resulting expression (after application of central differences) is:\n",
    "\n",
    "\\begin{equation}\n",
    "\\frac{\\mathrm{d} ^2f}{\\mathrm{d} x^2} \\simeq \\frac{f(x+h)-2f(x)+f(x-h)}{h^2}.\n",
    "\\end{equation}\n",
    "\n"
   ]
  },
  {
   "cell_type": "markdown",
   "id": "computational-classics",
   "metadata": {
    "slideshow": {
     "slide_type": "slide"
    }
   },
   "source": [
    "### Numerical partial derivatives\n",
    "\n",
    "The extension to partial derivatives is straight-forward:\n",
    "\n",
    "\\begin{equation}\n",
    "\\frac{\\mathrm{d} f}{\\mathrm{d} x} \\simeq \\frac{f(x+\\frac{h}{h2})-f(x-\\frac{h}{2})}{h},\n",
    "\\end{equation}\n",
    "\n",
    "\\begin{equation}\n",
    "\\frac{\\partial f}{\\partial x} \\simeq \\frac{f(x+\\frac{h}{2},y)-f(x-\\frac{h}{2},y)}{h},\n",
    "\\end{equation}\n",
    "\n",
    "\\begin{equation}\n",
    "\\frac{\\partial f}{\\partial y} \\simeq \\frac{f(x,y+\\frac{h}{2})-f(x,y-\\frac{h}{2})}{h},\n",
    "\\end{equation}\n",
    "\n"
   ]
  },
  {
   "cell_type": "markdown",
   "id": "solid-sound",
   "metadata": {
    "slideshow": {
     "slide_type": "subslide"
    }
   },
   "source": [
    "\\begin{equation}\n",
    "\\frac{\\mathrm{d} ^2f}{\\mathrm{d} x^2} \\simeq \\frac{f(x+h)-2f(x)+f(x-h)}{h^2}.\n",
    "\\end{equation}\n",
    "\n",
    "\\begin{equation}\n",
    "\\frac{\\partial ^2f}{\\partial x^2} \\simeq \\frac{f(x+h,y)-2f(x,y)+f(x-h,y)}{h^2},\n",
    "\\end{equation}\n",
    "\n",
    "\\begin{equation}\n",
    "\\frac{\\partial ^2f}{\\partial y^2} \\simeq \\frac{f(x,y+h)-2f(x,y)+f(x,y-h)}{h^2}.\n",
    "\\end{equation}\n",
    "\n",
    "By adding the two equations above, <mark>the Laplacian</mark> in two dimensions is:\n",
    "\n",
    "\\begin{equation}\n",
    "\\frac{\\partial ^2f}{\\partial x^2} + \\frac{\\partial ^2f}{\\partial y^2} \\simeq \\frac{f(x+h,y)+f(x-h,y)+f(x,y+h)+f(x,y-h)-4f(x,y)}{h^2},\n",
    "\\end{equation}\n"
   ]
  },
  {
   "cell_type": "markdown",
   "id": "relevant-hamburg",
   "metadata": {
    "slideshow": {
     "slide_type": "slide"
    }
   },
   "source": [
    "### PDEs --> linear simulatenous equations\n",
    "\n",
    "Returning to our Laplace equation for for the electric potential $\\phi$:\n",
    "\n",
    "\\begin{equation}\n",
    "\\frac{\\partial^2\\phi}{\\partial x^2} + \\frac{\\partial^2\\phi}{\\partial y^2} = 0\n",
    "\\end{equation}\n",
    "\n",
    "<img src=\"../images/electrostatics2.png\" width=\"200\" >\n",
    "\n",
    "The numerical Laplacian can be substituted into the equation above, giving us a set of $n$ simulatenous equations for the $n$ grid points.\n",
    "\n",
    "\\begin{equation}\n",
    " \\frac{\\phi(x+h,y)+\\phi(x-h,y)+\\phi(x,y+h)+\\phi(x,y-h)-4\\phi(x,y)}{a^2} = 0,\n",
    "\\end{equation}\n",
    "\n",
    "where $a$ is the distance between each grid point."
   ]
  },
  {
   "cell_type": "markdown",
   "id": "remarkable-papua",
   "metadata": {
    "slideshow": {
     "slide_type": "slide"
    }
   },
   "source": [
    "### To solve we use the relaxation method\n",
    "\n",
    "\\begin{equation}\n",
    " \\frac{\\phi(x+h,y)+\\phi(x-h,y)+\\phi(x,y+h)+\\phi(x,y-h)-4\\phi(x,y)}{a^2} = 0,\n",
    "\\end{equation}\n",
    "\n",
    "\\begin{equation}\n",
    " \\phi(x,y)=\\frac{1}{4}\\left(\\phi(x+h,y)+\\phi(x-h,y)+\\phi(x,y+h)+\\phi(x,y-h)\\right).\n",
    "\\end{equation}\n",
    "\n",
    "This tells us that $\\phi(x,y)$ is the average of the surrounding grid points, which can be represented visually as:\n",
    "\n",
    "<img src=\"../images/electrostatics3.png\" width=\"200\" >\n"
   ]
  },
  {
   "cell_type": "markdown",
   "id": "subsequent-generic",
   "metadata": {
    "slideshow": {
     "slide_type": "slide"
    }
   },
   "source": [
    "### To solve we use the relaxation method\n",
    "\n",
    "#### Step one \n",
    "Fix $\\phi(x,y)$ at the boundaries using the boundary conditions. \n",
    "\n",
    "#### Step two\n",
    "Guess the initial values of the interior $\\phi(x,y)$ points - our guesses do not need to be good, and can be zero.\n",
    " \n",
    "#### Step three\n",
    "Calculate new values of $\\phi'(x,y)$ at all points in space using an iterative method:\n",
    "\\begin{equation}\n",
    " \\phi'(x,y)=\\frac{1}{4}\\left(\\phi(x+h,y)+\\phi(x-h,y)+\\phi(x,y+h)+\\phi(x,y-h)\\right).\n",
    "\\end{equation}\n",
    "\n",
    "#### Step four\n",
    "Repeat until the $\\phi(x,y)$ values converge*, and that is our solution.\n",
    "\n",
    "*Convergence can be tested by specifying what the maximum difference should be between iterations. For example, that $\\phi'(x,y)-\\phi(x,y)< 1e-5$ for all grid points."
   ]
  },
  {
   "cell_type": "markdown",
   "id": "virtual-galaxy",
   "metadata": {
    "slideshow": {
     "slide_type": "slide"
    }
   },
   "source": [
    "# Heat Diffusion\n",
    "\n",
    "----\n",
    "\n",
    "Questions:\n",
    "\n",
    "- How do I use the Forward-Time Centred-Space method (FTCS) to solve the diffusion equation? \n",
    "\n",
    "---"
   ]
  },
  {
   "cell_type": "markdown",
   "id": "alone-relay",
   "metadata": {
    "slideshow": {
     "slide_type": "slide"
    }
   },
   "source": [
    "### The diffusion equation is an initial value problem\n",
    "\n",
    "An initial value problem is more complex than a boundary value problem as we are told the starting conditions and then have to predict future behaviour as a function of time.\n",
    "\n",
    "\n",
    "#### Example\n",
    "\n",
    "A 10cm rod of stainless steel initially at a uniform temperature of 20$^\\mathrm{o}$ Celsius. The rod is dipped in a hot water bath at 90$^\\mathrm{o}$ Celsius at one end, and held in someone's hand at the other. Assume that the hand is at constant body temperature throughout (27$^\\mathrm{o}$ Celsius).\n",
    "\n",
    "<img src=\"../images/hand_hot.png\" width=\"400\" >\n",
    "\n",
    "Assume that the rod is perfectly insulated so that heat only moves horizontally; as a result this problem can be modelled as 1-dimensional. Also assume that neighter the hot water bath or the hand change temperature appreciably.\n",
    "\n",
    "Thermal conduction is described by the diffusion equation (or heat equation in this context)\n",
    "\n",
    "\\begin{equation}\n",
    " \\frac{\\partial \\phi}{\\partial t} = D\\frac{\\partial^2 \\phi}{\\partial x^2},\n",
    "\\end{equation}\n",
    "\n",
    "where $D$ is the material dependent thermal diffusivity. For steel $D=4.25\\times10^{-6}\\mathrm{m}^2\\mathrm{s}^{-1}$."
   ]
  },
  {
   "cell_type": "markdown",
   "id": "hydraulic-textbook",
   "metadata": {
    "slideshow": {
     "slide_type": "subslide"
    }
   },
   "source": [
    "### Why can't we use the relaxation method?\n",
    "\n",
    "We solved Laplace's equation and that had three variables ($x$,$y$,$z$) - why not do the same thing here?\n",
    "\n",
    "The problem is that we  only have an *initial* condition in the time dimension - we know the value of $\\phi(x,t)$ at $t=0$ but we do not typically know the value of $t$ at a later point. In the spatial dimensions we know the boundary conditions at either end of the grid.\n",
    "\n",
    "Instead, we will use the <mark>Forward-Time Centred-Space method (FTCS)</mark>.\n",
    "\n"
   ]
  },
  {
   "cell_type": "markdown",
   "id": "optimum-coordinator",
   "metadata": {
    "slideshow": {
     "slide_type": "slide"
    }
   },
   "source": [
    "### There are two steps to the Forward-Time Centred-Space method\n",
    "\n",
    "#### Step one\n",
    "Use the finite difference method to express the 1D Laplacian as a set of simulatenous equations:\n",
    "\n",
    "\\begin{equation}\n",
    "\\frac{\\partial^2\\phi}{\\partial x^2} = \\frac{\\phi(x+a,t)+\\phi(x-a,t) - 2\\phi(x,t)}{a^2}\n",
    "\\end{equation}\n",
    "\n",
    "where $a$ is the grid spacing.\n",
    "\n",
    "Substitute this back into the diffusion equation:\n",
    "\n",
    "\\begin{equation}\n",
    " \\frac{\\partial \\phi}{\\partial t} = \\frac{D}{a^2}(\\phi(x+a,t)+\\phi(x-a,t)-2\\phi(x,t))\n",
    "\\end{equation}\n",
    "\n",
    "<mark>We now have a set of simultaneous ODEs for $\\phi(x,t)$. </mark>"
   ]
  },
  {
   "cell_type": "markdown",
   "id": "suffering-addiction",
   "metadata": {
    "slideshow": {
     "slide_type": "subslide"
    }
   },
   "source": [
    "#### Step two\n",
    "So we can use Euler's method to evolve the system forward in time. Euler's method for solving an ODE of the form $\\frac{d\\phi}{dt} = f(\\phi,t)$ has the general form:\n",
    "\n",
    "\\begin{equation}\n",
    "\\phi(t+h) \\simeq \\phi(t) + hf(\\phi, t).\n",
    "\\end{equation}\n",
    "\n",
    "Applying this to Equation 3 gives:\n",
    "\n",
    "\\begin{equation}\n",
    "\\phi(x,t+h) = \\phi(x,t) + h\\frac{D}{a^2}(\\phi(x+a,t)+\\phi(x-a,t)-2\\phi(x,t))\n",
    "\\end{equation}\n"
   ]
  },
  {
   "cell_type": "markdown",
   "id": "excited-slide",
   "metadata": {
    "slideshow": {
     "slide_type": "slide"
    }
   },
   "source": [
    "# Evaluating numerical errors and accuracy\n",
    "\n",
    "-----\n",
    "Questions:\n",
    "\n",
    "- Which numerical errors are unavoidable in a Python programme?\n",
    "- How do I choose the optimum step size $h$ when using the finite difference method?\n",
    "- What do the terms first-order accurate and second-order accurate mean?\n",
    "- How can I measure the speed of my code?\n",
    "-----"
   ]
  },
  {
   "cell_type": "markdown",
   "id": "threaded-degree",
   "metadata": {
    "slideshow": {
     "slide_type": "slide"
    }
   },
   "source": [
    "###  Finite difference methods have two sources of error\n",
    "\n",
    "- There are two sources of errors for finite difference methods: \n",
    "    - the approximation that the step size $h$ is small but not zero. \n",
    "    - the numerical rounding errors for floating point numbers\n",
    "- If we decrease the step size $h$:\n",
    "    - the finite-difference approximation will improve\n",
    "    - the runtime of the programme will increase\n",
    "    - counter-intuitively, the rounding error might *increase*. \n",
    "- So it is possible that by decreasing $h$ we make our programme *less* accurate *and* it takes longer to run!\n",
    "\n",
    "\n"
   ]
  },
  {
   "cell_type": "markdown",
   "id": "elegant-industry",
   "metadata": {
    "slideshow": {
     "slide_type": "slide"
    }
   },
   "source": [
    "To demonstrate this, consider the Taylor expansion of $f(x)$ about $x$:\n",
    "\n",
    "\\begin{equation}\n",
    "f(x+h) = f(x) + hf'(x) +\\frac{1}{2}h^2f''(x) + \\ldots\n",
    "\\end{equation}\n",
    "\n",
    "Re-arrange the expression to get the expression for the forward difference method:\n",
    "\n",
    "\\begin{equation}\n",
    "f'(x) = \\frac{f(x+h)}{h} - \\frac{1}{2}hf''(x)+\\ldots\n",
    "\\end{equation}\n",
    "\n"
   ]
  },
  {
   "cell_type": "markdown",
   "id": "internal-corruption",
   "metadata": {
    "slideshow": {
     "slide_type": "subslide"
    }
   },
   "source": [
    "A computer can typically store a number $f(x)$ to an accuracy of 16 significant figures, or $Cf(x)$ where $C=10^{-16}$. In the worst case, this makes the error $\\epsilon$ on our derivative:\n",
    "\n",
    "\\begin{equation}\n",
    "\\epsilon = \\frac{2C|f(x)|}{h} + \\frac{1}{2}h|f''(x)|.\n",
    "\\end{equation}\n",
    "\n",
    "We want to find the value of $h$ which minimises this error so we differentiate with respect to $h$ and set the result equal to zero.\n",
    "\n",
    "\\begin{equation}\n",
    "-\\frac{2C|f(x)|}{h^2} + h|f''(x)| = 0\n",
    "\\end{equation}\n",
    "\n",
    "\\begin{equation}\n",
    "h = \\sqrt{4C\\lvert\\frac{f(x)}{f''(x)}\\rvert}\n",
    "\\end{equation}\n",
    "\n",
    "If $f(x)$ and $f''(x)$ are order 1, then $h$ should be order $\\sqrt{C}$, or $10^{-8}$.\n",
    "\n",
    "Similar reasoning applied to the central difference formula suggests that the optimum step size for this method is $10^{-5}$."
   ]
  }
 ],
 "metadata": {
  "celltoolbar": "Slideshow",
  "kernelspec": {
   "display_name": "Python 3",
   "language": "python",
   "name": "python3"
  },
  "language_info": {
   "codemirror_mode": {
    "name": "ipython",
    "version": 3
   },
   "file_extension": ".py",
   "mimetype": "text/x-python",
   "name": "python",
   "nbconvert_exporter": "python",
   "pygments_lexer": "ipython3",
   "version": "3.8.5"
  }
 },
 "nbformat": 4,
 "nbformat_minor": 5
}
