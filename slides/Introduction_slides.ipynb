{
 "cells": [
  {
   "cell_type": "markdown",
   "id": "1737141d",
   "metadata": {
    "slideshow": {
     "slide_type": "slide"
    }
   },
   "source": [
    "\n",
    "# Computational Physics: KD5081\n",
    "\n",
    "## Dr Lucy Whalley\n",
    "    \n",
    "\n",
    "![](../images/landing.png)"
   ]
  },
  {
   "cell_type": "markdown",
   "id": "d83effdb",
   "metadata": {
    "slideshow": {
     "slide_type": "slide"
    }
   },
   "source": [
    "# Who am I?\n",
    "\n",
    "- Computational materials scientist: \n",
    "    - solid-state physics\n",
    "    - quantum chemistry \n",
    "  \n",
    "<img src=\"../images/vibrations.gif\" width=\"400\"/>\n",
    "   "
   ]
  },
  {
   "cell_type": "markdown",
   "id": "3be040dd",
   "metadata": {
    "slideshow": {
     "slide_type": "slide"
    }
   },
   "source": [
    "# Who am I?  \n",
    "\n",
    "- Research software engineer\n",
    "    - high-performance computing (supercomputers!) to generate data\n",
    "    - Python to analyse this data\n",
    "    \n",
    "<img src=\"../images/Archer-supercomputer.png\" width=\"300\"/>\n",
    "    \n",
    "- Ex-teacher:\n",
    "    - hopefully I won't have to put anyone on detention"
   ]
  },
  {
   "cell_type": "markdown",
   "id": "1c968737",
   "metadata": {
    "slideshow": {
     "slide_type": "slide"
    }
   },
   "source": [
    "# What is computational physics?\n",
    "\n",
    "- In physics, different theories based on mathematical models provide very precise predictions on how systems behave. Unfortunately, it is often the case that solving the mathematical model is not feasible.\n",
    "- Computational physics is the study and implementation of <mark>numerical analysis</mark> to solve problems in physics for which a quantitative theory already exists.\n",
    "\n",
    "<img src=\"../images/computational-physics.png\" width=\"300\"/>"
   ]
  },
  {
   "cell_type": "markdown",
   "id": "37b39b13",
   "metadata": {
    "slideshow": {
     "slide_type": "slide"
    }
   },
   "source": [
    "# Why computational physics?\n",
    "\n",
    "- Computing is now central to virtually all research and development in academia and industry\n",
    "- Computational physics encompasses areas including materials modelling, particle physics simulations, protein structure prediction and plasma modelling. <mark> In fact, it is possible to find a computational branch for every major field in physics.</mark>\n",
    "\n",
    "<img src=\"../images/third_pillar.svg\" width=\"300\"/>"
   ]
  },
  {
   "cell_type": "markdown",
   "id": "6a9bffb6",
   "metadata": {
    "slideshow": {
     "slide_type": "slide"
    }
   },
   "source": [
    "# Why computational skills?\n",
    "\n",
    "- The software development job market is growing fast: jobs are expected to increase by 21% by 2028 \n",
    "- The focus of this course is to equip with you with the <mark> transferable skills needed for success in a range of computational disciplines </mark>, with examples tailored towards the physics domain.\n",
    "\n",
    "<img src=\"../images/skills-shortage.png\" width=\"400\"/>\n",
    "\n"
   ]
  },
  {
   "cell_type": "markdown",
   "id": "73af4349",
   "metadata": {
    "slideshow": {
     "slide_type": "notes"
    }
   },
   "source": [
    "This is the age of computing. I have mentioned the supercomputers I use. Also machine learning and data science is transforming large parts of society - we have afterall a society which seems to be largely built on algorithms now - for search engines, for Facebook, for Netflix. They guide who we meet and what we consume. Talk about quantum computing."
   ]
  },
  {
   "cell_type": "markdown",
   "id": "f351f8a8",
   "metadata": {
    "slideshow": {
     "slide_type": "slide"
    }
   },
   "source": [
    "# Why computational skills?\n",
    "\n",
    "<img src=\"../images/disaster.png\" width=\"500\"/>"
   ]
  },
  {
   "cell_type": "markdown",
   "id": "8556f97c",
   "metadata": {
    "slideshow": {
     "slide_type": "slide"
    }
   },
   "source": [
    "# Course outline\n",
    "\n",
    "#### Part one: Getting started\n",
    "\n",
    "- Python part one\n",
    "- Python part two\n",
    "- Data analysis and visualisation\n",
    "\n",
    "#### Part two: Getting results\n",
    "\n",
    "- Modelling with ordinary differential equations\n",
    "- Modelling with partial differential equations\n",
    "\n",
    "#### Part three: Getting it out there\n",
    "\n",
    "- Python scripts and the Unix terminal\n",
    "- Testing and documentation\n",
    "- Version control and Github\n",
    "- Open science and build-your-own website\n"
   ]
  },
  {
   "cell_type": "markdown",
   "id": "cc93465e",
   "metadata": {
    "slideshow": {
     "slide_type": "slide"
    }
   },
   "source": [
    "# Guest speakers\n",
    "\n",
    "In the final section of the course you will also hear from three guest speakers who use some of the computational skills outlined in this course in their own work:\n",
    "\n",
    "- Anna Krystalli (Research Software Engineer, Sheffield University)\n",
    "- Adam Jackson (Computational scientist, Science and Technology Facilities Council)\n",
    "- Felix Rehren (Director of insurance mergers and acquisitions, Athora)."
   ]
  },
  {
   "cell_type": "markdown",
   "id": "c8ca16f1",
   "metadata": {
    "slideshow": {
     "slide_type": "slide"
    }
   },
   "source": [
    "# How does all this relate to the experimental component?\n",
    "\n",
    "The first part of this course covers the basic skills needed for processing experimental data using Python. At the end of Getting started you will be able to read in experimental data from a plain text file, clean the data, apply basic statistical analysis and plot. <mark>We very much encourage you to apply the tools outlined in this course to your experimental analysis.</mark>"
   ]
  },
  {
   "cell_type": "markdown",
   "id": "82a44ad1",
   "metadata": {
    "slideshow": {
     "slide_type": "slide"
    }
   },
   "source": [
    "# How is this component of the course assessed?\n",
    "\n",
    "- The module is split into two parts: experimental and computational\n",
    "- Each part is assessed seperately: 50% for experiment, 50% for computational\n",
    "- Both are coursework based. For the <mark>computational part</mark>:\n",
    "    - Coursework will be released on **Wednesday the 8th November**\n",
    "    - Coursework will be submitted on **Thursday the 16th December**\n",
    "    - The coursework includes marks for <mark>code quality</mark>"
   ]
  },
  {
   "cell_type": "markdown",
   "id": "7ec98682",
   "metadata": {
    "slideshow": {
     "slide_type": "slide"
    }
   },
   "source": [
    "# Course resources\n",
    "\n",
    "- Course website - [nu-cem.github.io/CompPhys](nu-cem.github.io/CompPhys) - perhaps bookmark it.\n",
    "- [Github](https://github.com/NU-CEM/CompPhys/issues) to suggest improvements, report errors, share ideas...\n",
    "- Padlet to let me know what you think and share links - link [here](https://padlet.com/lucywhalley/g7qjqy1fvo07sip5).\n",
    "\n",
    "<img src=\"../images/website.png\" width=\"300\"/>"
   ]
  },
  {
   "cell_type": "markdown",
   "id": "b7578df1",
   "metadata": {
    "slideshow": {
     "slide_type": "notes"
    }
   },
   "source": [
    "If everything is online, do i need to attend in person? ---> Yes! because a lot is hinging on the process of live coding: I code and talk you through the code, you follow along. Without this verbal explanation you are more likely to get lost. You will also have questions, and the lab hours are when you can get help from me and your peers."
   ]
  },
  {
   "cell_type": "markdown",
   "id": "de618a00",
   "metadata": {
    "slideshow": {
     "slide_type": "slide"
    }
   },
   "source": [
    "# 💻  Laptop setup 💻 \n",
    "\n",
    " If you do not have a laptop with you then you can:\n",
    " - sit with someone who does (to help and to learn)\n",
    " - explore the Journal of Open Source Software: https://joss.theoj.org/\n",
    "    - can you find a paper that interests you?\n",
    "    - can you find the corresponding software on Github?\n",
    "    - could explain what the software does to a non-expert?\n"
   ]
  },
  {
   "cell_type": "code",
   "execution_count": null,
   "id": "a1e6f8bc",
   "metadata": {},
   "outputs": [],
   "source": []
  }
 ],
 "metadata": {
  "celltoolbar": "Slideshow",
  "kernelspec": {
   "display_name": "Python 3 (ipykernel)",
   "language": "python",
   "name": "python3"
  },
  "language_info": {
   "codemirror_mode": {
    "name": "ipython",
    "version": 3
   },
   "file_extension": ".py",
   "mimetype": "text/x-python",
   "name": "python",
   "nbconvert_exporter": "python",
   "pygments_lexer": "ipython3",
   "version": "3.9.6"
  }
 },
 "nbformat": 4,
 "nbformat_minor": 5
}
