{
 "cells": [
  {
   "cell_type": "markdown",
   "id": "2cf6435f",
   "metadata": {
    "slideshow": {
     "slide_type": "slide"
    }
   },
   "source": [
    "\n",
    "# Computational Physics: KD5081\n",
    "\n",
    "## Dr Lucy Whalley\n",
    "    \n",
    "\n",
    "![](../images/landing.png)"
   ]
  },
  {
   "cell_type": "markdown",
   "id": "03c0f0a7",
   "metadata": {
    "slideshow": {
     "slide_type": "slide"
    }
   },
   "source": [
    "# Who am I?\n",
    "\n",
    "- Computational materials scientist: \n",
    "    - solid-state physics\n",
    "    - quantum chemistry \n",
    "  \n",
    "<img src=\"../images/vibrations.gif\" width=\"400\"/>\n",
    "   "
   ]
  },
  {
   "cell_type": "markdown",
   "id": "b536df3b",
   "metadata": {
    "slideshow": {
     "slide_type": "slide"
    }
   },
   "source": [
    "# Who am I?  \n",
    "\n",
    "- Research software engineer\n",
    "    - high-performance computing (supercomputers!) to generate data\n",
    "    - Python to analyse this data\n",
    "    \n",
    "<img src=\"../images/Archer-supercomputer.jpg\" width=\"300\"/>\n",
    "    \n",
    "- Ex-teacher:\n",
    "    - hopefully I won't have to put anyone on detention"
   ]
  },
  {
   "cell_type": "markdown",
   "id": "ada1ea6d",
   "metadata": {
    "slideshow": {
     "slide_type": "slide"
    }
   },
   "source": [
    "# What is computational physics?\n",
    "\n",
    "- In physics, different theories based on mathematical models provide very precise predictions on how systems behave. Unfortunately, it is often the case that solving the mathematical model is not feasible.\n",
    "- Computational physics is the study and implementation of <mark>numerical analysis</mark> to solve problems in physics for which a quantitative theory already exists.\n",
    "\n",
    "<img src=\"../images/computational-physics.png\" width=\"300\"/>"
   ]
  },
  {
   "cell_type": "markdown",
   "id": "cf948c1a",
   "metadata": {
    "slideshow": {
     "slide_type": "slide"
    }
   },
   "source": [
    "# Why computational physics?\n",
    "\n",
    "- Computing is now central to virtually all research and development in academia and industry\n",
    "- Computational physics encompasses areas including materials modelling, particle physics simulations, protein structure prediction and plasma modelling. <mark> In fact, it is possible to find a computational branch for every major field in physics.</mark>\n",
    "\n",
    "<img src=\"../images/third_pillar.svg\" width=\"300\"/>"
   ]
  },
  {
   "cell_type": "markdown",
   "id": "e99cce7c",
   "metadata": {
    "slideshow": {
     "slide_type": "slide"
    }
   },
   "source": [
    "# Why computational skills?\n",
    "\n",
    "- The software development job market is growing fast: jobs are expected to increase by 21% by 2028 \n",
    "- The focus of this course is to equip with you with the <mark> transferable skills needed for success in a range of computational disciplines </mark>, with examples tailored towards the physics domain.\n",
    "\n",
    "<img src=\"../images/skills-shortage.png\" width=\"400\"/>\n",
    "\n"
   ]
  },
  {
   "cell_type": "markdown",
   "id": "3175bf92",
   "metadata": {
    "slideshow": {
     "slide_type": "slide"
    }
   },
   "source": [
    "# Course outline\n",
    "\n",
    "#### Part one: Getting started\n",
    "\n",
    "- Python part one\n",
    "- Python part two\n",
    "- Data analysis and visualisation\n",
    "\n",
    "#### Part two: Getting results\n",
    "\n",
    "- Modelling with ordinary differential equations\n",
    "- Modelling with partial differential equations\n",
    "\n",
    "#### Part three: Getting it out there\n",
    "\n",
    "- Python scripts and the Unix terminal\n",
    "- Testing and documentation\n",
    "- Version control and Github\n",
    "- Open science and build-your-own website\n"
   ]
  },
  {
   "attachments": {},
   "cell_type": "markdown",
   "id": "a47faae7",
   "metadata": {
    "slideshow": {
     "slide_type": "slide"
    }
   },
   "source": [
    "# Course resources\n",
    "\n",
    "- Course website - [nu-cem.github.io/CompPhys](nu-cem.github.io/CompPhys).\n",
    "- Github to suggest improvements, report errors, share ideas...\n",
    "- Padlet to let me know what you think and share links - link [here](https://padlet.com/lucywhalley/g7qjqy1fvo07sip5).\n",
    "\n",
    "<img src=\"../images/website.png\" width=\"300\"/>"
   ]
  },
  {
   "cell_type": "markdown",
   "id": "d8a26cc4",
   "metadata": {},
   "source": []
  }
 ],
 "metadata": {
  "celltoolbar": "Slideshow",
  "kernelspec": {
   "display_name": "Python 3 (ipykernel)",
   "language": "python",
   "name": "python3"
  },
  "language_info": {
   "codemirror_mode": {
    "name": "ipython",
    "version": 3
   },
   "file_extension": ".py",
   "mimetype": "text/x-python",
   "name": "python",
   "nbconvert_exporter": "python",
   "pygments_lexer": "ipython3",
   "version": "3.9.6"
  }
 },
 "nbformat": 4,
 "nbformat_minor": 5
}
