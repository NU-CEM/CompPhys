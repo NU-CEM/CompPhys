{
 "cells": [
  {
   "cell_type": "markdown",
   "id": "1737141d",
   "metadata": {
    "slideshow": {
     "slide_type": "slide"
    }
   },
   "source": [
    "\n",
    "# Computational Physics: KD5081\n",
    "\n",
    "## Dr Lucy Whalley\n",
    "l.whalley@northumbria.ac.uk\n",
    "    \n",
    "<mark>Please sit in pairs</mark>\n",
    "\n",
    "<mark> Complete this questionnaire: bit.ly/KD5081_questionnaire </mark> \n",
    "![](../images/landing.png)"
   ]
  },
  {
   "cell_type": "markdown",
   "id": "d83effdb",
   "metadata": {
    "slideshow": {
     "slide_type": "slide"
    }
   },
   "source": [
    "# Hello (again) 👋\n",
    "\n",
    "⚛️ Computational Materials Scientist: Theoretical Physics, Quantum Chemistry, Software Engineering  \n",
    "🌞 Renewable Energy materials: Solar cells, batteries  \n",
    "💻 Software sustainability: writing code that lasts\n",
    "  \n",
    "<img src=\"../images/vibrations.gif\" width=\"400\"/>\n",
    "   "
   ]
  },
  {
   "cell_type": "markdown",
   "id": "3be040dd",
   "metadata": {
    "slideshow": {
     "slide_type": "slide"
    }
   },
   "source": [
    "# Hello to Dr Ross Pallistar \n",
    "\n",
    "💻 Research Fellow at Northumbria  \n",
    "🌞 Expert in Solar Physics\n",
    "    \n",
    "<img src=\"../images/ross_research.jpeg\" width=\"300\"/>\n"
   ]
  },
  {
   "cell_type": "markdown",
   "id": "1c968737",
   "metadata": {
    "slideshow": {
     "slide_type": "slide"
    }
   },
   "source": [
    "# What is computational physics?\n",
    "\n",
    "- In physics, different theories based on mathematical models provide very precise predictions on how systems behave. Unfortunately, it is often the case that solving the mathematical model is not feasible.\n",
    "- Computational physics is the study and implementation of <mark>numerical analysis</mark> to solve problems in physics for which a quantitative theory already exists.\n",
    "- Computational physics encompasses areas including materials modelling, particle physics simulations, protein structure prediction and plasma modelling. <mark> In fact, it is possible to find a computational branch for every major field in physics.</mark>\n",
    "\n",
    "<img src=\"../images/computational-physics.png\" width=\"300\"/>"
   ]
  },
  {
   "cell_type": "markdown",
   "id": "8e03a9e0",
   "metadata": {
    "slideshow": {
     "slide_type": "slide"
    }
   },
   "source": [
    "# Computational skills and employability\n",
    "\n",
    "This course will equip you with some of the transferable skills needed for success in a range of computational disciplines.\n",
    "\n",
    "> Digital skills are no longer limited to tech and online roles, but are now nearly-universal requirements across all sectors and skill levels today (UK Government)\n",
    "\n",
    "> The demand for software developers is big, and it pays well – really well! (Just IT)\n",
    "\n",
    "> There's a lot of promise in quantum computing, but companies first need to figure out how they can attract more people into the industry. (Owen Hughes, Zdnet)"
   ]
  },
  {
   "cell_type": "markdown",
   "id": "8fc0f862",
   "metadata": {
    "slideshow": {
     "slide_type": "slide"
    }
   },
   "source": [
    "# Why Python? It gives you wings!\n",
    "\n",
    "Python is readable, free to use, cross-platform, well documented and widely used. It is the de-facto programming language for physics (and many other things!).\n",
    "\n",
    "<img src=\"../images/pythonwings.png\" width=\"300\"/>\n",
    "\n"
   ]
  },
  {
   "cell_type": "markdown",
   "id": "8556f97c",
   "metadata": {
    "slideshow": {
     "slide_type": "slide"
    }
   },
   "source": [
    "# Course outline\n",
    "\n",
    "#### Part one: Getting started\n",
    "- Python basics recap\n",
    "- Code quality\n",
    "- Extended questions\n",
    "\n",
    "#### Part two: Getting results\n",
    "- Calculating integrals\n",
    "- Calculating derivatives\n",
    "- Ordinary differential equations\n",
    "- Partial differential equations\n",
    "- Practice question: the physics of burger flipping\n",
    "\n",
    "<mark> Assessment is set at this point</mark>\n",
    "\n",
    "#### Part three: Getting it out there\n",
    "- Python scripts and the Unix terminal\n",
    "- Version control and Github\n",
    "- Testing and documentation\n",
    "- Open science and build-your-own website\n"
   ]
  },
  {
   "attachments": {},
   "cell_type": "markdown",
   "id": "47adfa9d",
   "metadata": {
    "slideshow": {
     "slide_type": "slide"
    }
   },
   "source": [
    "# KD5081 Assessment\n",
    "\n",
    "- The module is split into two parts: experimental and computational\n",
    "- Each part is assessed seperately: 50% for experiment, 50% for computational\n",
    "- Both are coursework based. For the computational part:\n",
    "    - Coursework will be released on Tuesday the 8th November\n",
    "    - Coursework will be submitted on Thursday the 15th December\n",
    "- The coursework includes marks for code quality: code comments, using sensible variable names, formatting your notebook with headings, printing out library version numbers."
   ]
  },
  {
   "cell_type": "markdown",
   "id": "1895019a",
   "metadata": {
    "slideshow": {
     "slide_type": "slide"
    }
   },
   "source": [
    "# Course resources\n",
    "\n",
    "⭐⭐⭐ <mark> nu-cem.github.io/CompPhys </mark> ⭐⭐⭐\n",
    "\n",
    "You are also encouraged to submit any issues, thoughts, suggestions to the course repository hosted on Github.\n",
    "\n",
    "The course blackboard will be used for distribution and submission of the assessment.\n"
   ]
  },
  {
   "cell_type": "markdown",
   "id": "f122f5ce",
   "metadata": {
    "slideshow": {
     "slide_type": "slide"
    }
   },
   "source": [
    "# Code Frustrations, and Pair Programming\n",
    "\n",
    "In programming, the little things matter! An extra full-stop or the smallest typo will stop your code running.\n",
    "\n",
    "<img src=\"../images/upset_baby.jpg\" width=\"300\"/>\n",
    "\n",
    "Pair programming helps!\n",
    "\n",
    "> Betty Snyder and I, from the beginning, were a pair. And I believe that the best programs and designs are done by pairs, because you can criticise each other, and find each others errors, and use the best ideas - Jean Bartik, Electronic Numerical Integrator and Computer (developed in 1945)\n"
   ]
  },
  {
   "cell_type": "markdown",
   "id": "aaa9b75a",
   "metadata": {
    "slideshow": {
     "slide_type": "slide"
    }
   },
   "source": [
    "# Bring your A-game\n",
    "\n",
    "> Anything worth doing is going to be difficult - Fauja Singh (Started Marathon running at 89)"
   ]
  },
  {
   "cell_type": "markdown",
   "id": "c8ca16f1",
   "metadata": {
    "slideshow": {
     "slide_type": "slide"
    }
   },
   "source": [
    "# FAQs\n",
    "\n",
    "\n",
    "## How are the computational and experimental components related?\n",
    "\n",
    "The first part of this course (\"Getting Started\") covers the basic skills needed for processing experimental data using Python: you will be able to read in experimental data from a plain text file, clean the data, apply basic statistical analysis and plot. <mark>We very much encourage you to apply the tools outlined in this course to your experimental analysis.</mark>\n",
    "\n",
    "## Do I need to attend in person?\n",
    "\n",
    "Yes! This is a computer lab and a place to practice and experiment with the support of staff and your peers. Each lab is structured around \"live coding\" - I will explain the key concepts for that week, and then implement this as code in real-time, with student typing along. You will then answer a series of practice questions, and staff will be moving through the class offering support. A hybrid format (in-person and online) is not possible due to the small group and one-to-one support offered in-class."
   ]
  },
  {
   "cell_type": "markdown",
   "id": "de618a00",
   "metadata": {
    "slideshow": {
     "slide_type": "slide"
    }
   },
   "source": [
    "# 💻  Today's plan\n",
    "\n",
    "- Complete the questionnaire: bit.ly/KD5081_questionnaire\n",
    "- Setup your laptop: nu-cem.github.io/CompPhys/ (setup section)\n",
    "- Work through ChooChoo the Checklist tool to recap the Python basics:\n",
    "    - Sign up for Github: github.com\n",
    "    - Follow the instructions here: lucydot.github.io/ChooChoo/ (students -> setup)\n",
    "\n"
   ]
  }
 ],
 "metadata": {
  "celltoolbar": "Slideshow",
  "kernelspec": {
   "display_name": "Python 3",
   "language": "python",
   "name": "python3"
  },
  "language_info": {
   "codemirror_mode": {
    "name": "ipython",
    "version": 3
   },
   "file_extension": ".py",
   "mimetype": "text/x-python",
   "name": "python",
   "nbconvert_exporter": "python",
   "pygments_lexer": "ipython3",
   "version": "3.8.13"
  }
 },
 "nbformat": 4,
 "nbformat_minor": 5
}
