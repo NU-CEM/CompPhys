{
 "cells": [
  {
   "cell_type": "markdown",
   "id": "e31d173b",
   "metadata": {
    "slideshow": {
     "slide_type": "slide"
    }
   },
   "source": [
    "# 🐍🐍 Python part two 🐍🐍"
   ]
  },
  {
   "cell_type": "markdown",
   "id": "e7cb8236",
   "metadata": {
    "slideshow": {
     "slide_type": "slide"
    }
   },
   "source": [
    "# ✨ Previous Lesson ✨\n",
    "\n",
    "1. **running python code:** Jupyter Notebooks, markdown basics  \n",
    "2. **variables:** variable names, variable assignment, `print()`, execution order   \n",
    "3. **data types:** integer, float, string, list, `len()`, string operations/indexing/slicing, type conversion: `int()`, `str()`, `float()` \n",
    "4. **functions, help and errors:** `min()`, `max()`, `round()`, `help()`, runtime errors (exceptions), syntax errors  \n",
    "5. **lists** sequence type, immutable vs mutable, list method append, del"
   ]
  },
  {
   "cell_type": "markdown",
   "id": "950bff2f",
   "metadata": {
    "slideshow": {
     "slide_type": "slide"
    }
   },
   "source": [
    "# ✨ Today's Lesson ✨\n",
    "\n",
    "1. **For loops**  \n",
    "2. **Conditionals**  \n",
    "3. **Writing functions**\n",
    "4. **Variable scope**\n",
    "5. **Libraries**\n"
   ]
  },
  {
   "cell_type": "markdown",
   "id": "858d218f",
   "metadata": {
    "slideshow": {
     "slide_type": "slide"
    }
   },
   "source": [
    "# For Loops\n",
    "\n",
    "<img src=\"../images/forloopa.png\"  class=\"plain\" width=\"800\"/>"
   ]
  },
  {
   "cell_type": "markdown",
   "id": "416b349b",
   "metadata": {
    "slideshow": {
     "slide_type": "slide"
    }
   },
   "source": [
    "#  For Loops\n",
    "\n",
    "<img src=\"../images/forloopb.png\"  class=\"plain\" width=\"800\"/>"
   ]
  },
  {
   "cell_type": "markdown",
   "id": "c5eefb14",
   "metadata": {
    "slideshow": {
     "slide_type": "slide"
    }
   },
   "source": [
    "# Conditionals\n",
    "\n",
    "```\n",
    "mass = 4.2\n",
    "\n",
    "if mass > 3:\n",
    "\tprint(mass, ' is large')\n",
    "\n",
    "if mass < 2:\n",
    "\tprint(mass, ' is small')\n",
    "\n",
    "if 2 <= mass <= 3:  \n",
    "\tprint(mass, ' is just right')\n",
    "```"
   ]
  },
  {
   "cell_type": "markdown",
   "id": "7f0ddd92",
   "metadata": {
    "slideshow": {
     "slide_type": "slide"
    }
   },
   "source": [
    "# Functions\n",
    "\n",
    "```\n",
    "def print_greeting():\n",
    "\tprint (\"Hello!\")\n",
    "```"
   ]
  },
  {
   "cell_type": "markdown",
   "id": "049b7094",
   "metadata": {
    "slideshow": {
     "slide_type": "slide"
    }
   },
   "source": [
    "# Functions\n",
    "\n",
    "```\n",
    "def print_personalised_greeting(name):\n",
    "\tprint (\"Hello \"+name)\n",
    "```"
   ]
  },
  {
   "cell_type": "markdown",
   "id": "8fcfd132",
   "metadata": {
    "slideshow": {
     "slide_type": "slide"
    }
   },
   "source": [
    "\n",
    "# Variable Scope\n",
    "\n",
    "```\n",
    "pressure = 103.9\n",
    "\n",
    "def adjust(temperature):\n",
    "    new_temperature = temperature*1.43/pressure\n",
    "    \n",
    "```"
   ]
  },
  {
   "cell_type": "markdown",
   "id": "56837a39",
   "metadata": {
    "slideshow": {
     "slide_type": "slide"
    }
   },
   "source": [
    "# Python scientific libraries\n",
    "\n",
    "<img src=\"../images/scipy.png\"  class=\"plain\" width=\"600\"/>"
   ]
  },
  {
   "cell_type": "markdown",
   "id": "3eeededb",
   "metadata": {
    "slideshow": {
     "slide_type": "slide"
    }
   },
   "source": [
    "\n",
    "<img src=\"../images/functionmethodpackage.png\"  class=\"plain\" width=\"400\"/>"
   ]
  },
  {
   "cell_type": "markdown",
   "id": "99cd090a",
   "metadata": {
    "slideshow": {
     "slide_type": "slide"
    }
   },
   "source": [
    "# ✨ Lesson outline ✨\n",
    "\n",
    "1. **For loops**  dummy variable, loop syntax, index from 0  \n",
    "2. **Conditionals**  if, elif, else, ordering \n",
    "3. **Writing functions** function syntax, return statement, parameters and arguments\n",
    "4. **Variable scope** local and global variables\n",
    "5. **Libraries** modules, packages, libraries, import statements, aliases\n",
    "\n",
    "**Bonus end note: Programming good practice**\n"
   ]
  },
  {
   "cell_type": "markdown",
   "id": "4412dfab",
   "metadata": {
    "slideshow": {
     "slide_type": "slide"
    }
   },
   "source": [
    "# ⚠️ Programming good practice ⚠️ \n",
    "\n",
    "**Document your code with docstrings**\n",
    "\n",
    "```\n",
    " def calc_bulk_density(mass,volume):\n",
    "     \"Return dry bulk density = powder mass / powder volume.\"\n",
    "     return mass / volume\n",
    "```\n",
    "\n",
    "What are the other two types of code documentation you can use?"
   ]
  },
  {
   "cell_type": "markdown",
   "id": "d442be0f",
   "metadata": {
    "slideshow": {
     "slide_type": "slide"
    }
   },
   "source": [
    "# ⚠️ Programming good practice ⚠️ \n",
    "\n",
    "**Focus on readability**\n",
    "\n",
    "- consistency is key\n",
    "- whitespace:  \n",
    "\t `spam(ham[1], {eggs: 2})`   \n",
    "\t `spam( ham[ 1 ], { eggs: 2} )`\n",
    "- clear, meaningful variable names (don't just use `x`, `p` etc and expect the reader to know what they mean!)"
   ]
  },
  {
   "cell_type": "markdown",
   "id": "44ca9442",
   "metadata": {
    "slideshow": {
     "slide_type": "slide"
    }
   },
   "source": [
    "# ⚠️ Programming good practice ⚠️ \n",
    "\n",
    "**Think about reproducibility**\n",
    "\n",
    "Reproducibility is more complex and difficult than you might think..\n",
    "\n",
    "One straight-forward thing you can do is print the version number for each package you import using `print(packagename.__version__)`"
   ]
  },
  {
   "cell_type": "code",
   "execution_count": null,
   "id": "da27ce69",
   "metadata": {},
   "outputs": [],
   "source": []
  }
 ],
 "metadata": {
  "celltoolbar": "Slideshow",
  "kernelspec": {
   "display_name": "Python 3 (ipykernel)",
   "language": "python",
   "name": "python3"
  },
  "language_info": {
   "codemirror_mode": {
    "name": "ipython",
    "version": 3
   },
   "file_extension": ".py",
   "mimetype": "text/x-python",
   "name": "python",
   "nbconvert_exporter": "python",
   "pygments_lexer": "ipython3",
   "version": "3.9.6"
  }
 },
 "nbformat": 4,
 "nbformat_minor": 5
}
