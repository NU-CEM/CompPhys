{
 "cells": [
  {
   "cell_type": "markdown",
   "id": "f99e306d",
   "metadata": {
    "slideshow": {
     "slide_type": "slide"
    }
   },
   "source": [
    "# 🐍🐍 Python part one 🐍🐍"
   ]
  },
  {
   "cell_type": "markdown",
   "id": "ddc9e8ff",
   "metadata": {
    "slideshow": {
     "slide_type": "slide"
    }
   },
   "source": [
    "# Why Python?  The trade-off   \n",
    "\n",
    "<img src=\"../images/costbalance.png\" width=\"400\"/>"
   ]
  },
  {
   "cell_type": "markdown",
   "id": "c3863993",
   "metadata": {
    "slideshow": {
     "slide_type": "slide"
    }
   },
   "source": [
    "\n",
    "# Why Python? It gives you wings\n",
    "\n",
    "\n",
    "<img src=\"../images/pythonwings.png\"  class=\"plain\" width=\"800\"/>"
   ]
  },
  {
   "cell_type": "markdown",
   "id": "3f968f64",
   "metadata": {
    "slideshow": {
     "slide_type": "slide"
    }
   },
   "source": [
    "\n",
    "# Why Python? \n",
    "\n",
    "- readable  \n",
    "- free to use\n",
    "- cross-platform\n",
    "- well documented\n",
    "- widely used"
   ]
  },
  {
   "cell_type": "markdown",
   "id": "d0799ffe",
   "metadata": {
    "slideshow": {
     "slide_type": "slide"
    }
   },
   "source": [
    "# ✨ Lesson outline ✨\n",
    "\n",
    "\n",
    "1. Running Python\n",
    "2. Variables and assignment \n",
    "3. Data types and type conversion\n",
    "4. Built-in functions, help and errors  \n",
    "5. Lists  "
   ]
  },
  {
   "cell_type": "markdown",
   "id": "d6b89b90",
   "metadata": {
    "slideshow": {
     "slide_type": "slide"
    }
   },
   "source": [
    "\n",
    "# Plain text vs. Jupyter Notebook\n",
    "\n",
    "- *Plain text approach:*\n",
    "\t- write code in a text editor\n",
    "\t- save with a `.py` extension\n",
    "\t- run code using a terminal\n",
    "\n",
    "- *Jupyter notebook approach:*\n",
    "\t- write code in a `jupyter notebook`\n",
    "\t- run code in a `jupyter notebook`\n",
    "\t- save with a `.ipynb` extension\n"
   ]
  },
  {
   "cell_type": "markdown",
   "id": "7761da9e",
   "metadata": {
    "slideshow": {
     "slide_type": "slide"
    }
   },
   "source": [
    "<img src=\"../images/valuevariable.png\"  class=\"plain\" width=\"400\"/>"
   ]
  },
  {
   "cell_type": "markdown",
   "id": "f84a2d3d",
   "metadata": {
    "slideshow": {
     "slide_type": "slide"
    }
   },
   "source": [
    "\n",
    "# Data types\n",
    "\n",
    "\n",
    "<div align=\"LEFT\">\n",
    "\n",
    "<small>\n",
    "\n",
    "| Data type  | Python name   | Definition   | Example |\n",
    "|----------|--------------|--------------|---------------|\n",
    "|integer   |       int       |  positive or negative whole numbers            |       `-256`        |\n",
    "|float  |            float  |   real number           |         `-3.16436`      |\n",
    "|string  |           str   |        character string      |    `\"20 pence.\" `          |\n",
    "|list     |            list  |   a sequence of values          |     `['frog',2,8]`          |\n",
    "\n",
    "\n",
    "\\+ boolean, dict, tuple, complex, None, set\n",
    "\n",
    "</small>"
   ]
  },
  {
   "cell_type": "markdown",
   "id": "18d8de5c",
   "metadata": {
    "slideshow": {
     "slide_type": "slide"
    }
   },
   "source": [
    "\n",
    "# Lists\n",
    "\n",
    "<small>\n",
    "\n",
    "| Data type  | Python name   | Definition   | Example |\n",
    "|----------|--------------|--------------|---------------|\n",
    "|integer   |       int       |  positive or negative whole numbers            |       `-256`        |\n",
    "|float  |            float  |   real number           |         `-3.16436`      |\n",
    "|string  |           str   |        character string      |    `\"20 pence.\" `          |\n",
    "|list     |            list  |   a sequence of values          |     `['frog',2,8]`          |\n",
    "\n",
    "\n",
    "</small>"
   ]
  },
  {
   "cell_type": "markdown",
   "id": "1d6e91cc",
   "metadata": {
    "slideshow": {
     "slide_type": "slide"
    }
   },
   "source": [
    "# ✨ Lesson Outline ✨\n",
    "\n",
    "1. **running python code:** Jupyter Notebooks, markdown basics  \n",
    "2. **variables:** variable names, variable assignment, `print()`, execution order   \n",
    "3. **data types:** integer, float, string, list, `len()`, string operations/indexing/slicing, type conversion: `int()`, `str()`, `float()` \n",
    "4. **functions, help and errors:** `min()`, `max()`, `round()`, `help()`, runtime errors (exceptions), syntax errors  \n",
    "5. **lists** sequence type, immutable vs mutable, list method append, del"
   ]
  }
 ],
 "metadata": {
  "celltoolbar": "Slideshow",
  "kernelspec": {
   "display_name": "Python 3 (ipykernel)",
   "language": "python",
   "name": "python3"
  },
  "language_info": {
   "codemirror_mode": {
    "name": "ipython",
    "version": 3
   },
   "file_extension": ".py",
   "mimetype": "text/x-python",
   "name": "python",
   "nbconvert_exporter": "python",
   "pygments_lexer": "ipython3",
   "version": "3.9.6"
  }
 },
 "nbformat": 4,
 "nbformat_minor": 5
}
