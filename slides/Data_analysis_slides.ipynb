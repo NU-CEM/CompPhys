{
 "cells": [
  {
   "cell_type": "markdown",
   "id": "371e65c6",
   "metadata": {
    "slideshow": {
     "slide_type": "slide"
    }
   },
   "source": [
    "# Data analysis and visualisation\n",
    "\n",
    "<img src=\"../images/anatomy1.webp\"  class=\"plain\" width=\"600\"/>"
   ]
  },
  {
   "cell_type": "markdown",
   "id": "4b8c1854",
   "metadata": {
    "slideshow": {
     "slide_type": "slide"
    }
   },
   "source": [
    "# ✨ Lesson outline ✨\n",
    "\n",
    "\n",
    "1. Reading (and cleaning) data with Pandas\n",
    "2. Analysing Data with NumPy\n",
    "3. Visualising Data with Matplotlib"
   ]
  },
  {
   "cell_type": "markdown",
   "id": "a5e35ecc",
   "metadata": {
    "slideshow": {
     "slide_type": "slide"
    }
   },
   "source": [
    "# Pandas dataframe\n",
    "\n",
    "<img src=\"../images/dataframe.png\"  class=\"plain\" width=\"1000\"/>"
   ]
  }
 ],
 "metadata": {
  "celltoolbar": "Slideshow",
  "kernelspec": {
   "display_name": "Python 3 (ipykernel)",
   "language": "python",
   "name": "python3"
  },
  "language_info": {
   "codemirror_mode": {
    "name": "ipython",
    "version": 3
   },
   "file_extension": ".py",
   "mimetype": "text/x-python",
   "name": "python",
   "nbconvert_exporter": "python",
   "pygments_lexer": "ipython3",
   "version": "3.9.6"
  }
 },
 "nbformat": 4,
 "nbformat_minor": 5
}
